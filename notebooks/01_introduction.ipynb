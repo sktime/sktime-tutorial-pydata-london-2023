{
 "cells": [
  {
   "attachments": {},
   "cell_type": "markdown",
   "metadata": {},
   "source": [
    "Agenda:\n",
    "\n",
    "1. General introduction to `sktime`\n",
    "\n",
    "2. panel tasks - classification, regression, clustering\n",
    "\n",
    "3. distances, kernels, alignment - and use for panel tasks"
   ]
  },
  {
   "attachments": {},
   "cell_type": "markdown",
   "metadata": {},
   "source": [
    "## 1 - Introduction to ``sktime``\n",
    "\n",
    "### 1.1 What is ``sktime``?\n",
    "\n",
    "- `sktime` is a python library for time series learning tasks!\n",
    "  - check [our website](https://www.sktime.net/en/latest/index.html)! \n",
    "  - integrative framework layer in the time series space"
   ]
  },
  {
   "attachments": {},
   "cell_type": "markdown",
   "metadata": {},
   "source": [
    "- `sklearn` / `sktime` interface:\n",
    "  - unified interface for objects/estimators\n",
    "  - modular design, strategy pattern\n",
    "  - composable, composites are interface homogenous\n",
    "  - simple specification language and parameter interface\n",
    "  - visually informative pretty printing"
   ]
  },
  {
   "attachments": {},
   "cell_type": "markdown",
   "metadata": {},
   "source": [
    "- `sktime` is a vibrant, welcoming community with mentoring opportunities!\n",
    "  - We *love* new contributors. Even if you are new to open source software developement!\n",
    "  - Check out the ``sktime`` [new contributors guide](https://www.sktime.net/en/latest/get_involved/contributing.html)\n",
    "  - join our [discord](https://discord.com/invite/54ACzaFsn7) and/or one of our regular meetups!\n",
    "  - follow us on [LinkedIn](https://www.linkedin.com/company/scikit-time/)!"
   ]
  },
  {
   "attachments": {},
   "cell_type": "markdown",
   "metadata": {},
   "source": [
    "### 1.2 sklearn unified interface - the strategy pattern\n",
    "\n",
    "`sklearn` provides a unified interface to multiple learning tasks including classification, regression.\n",
    "\n",
    "any (supervised) estimator has the following interface points\n",
    "\n",
    "1. **Instantiate** your model of choice, with parameter settings\n",
    "2. **Fit** the instance of your model\n",
    "3. Use that fitted instance to **predict** new data!\n",
    "\n",
    "![](./img/estimator-conceptual-model.jpg)"
   ]
  },
  {
   "cell_type": "code",
   "execution_count": null,
   "metadata": {},
   "outputs": [],
   "source": [
    "# get data to use the model on\n",
    "from sklearn.datasets import load_iris\n",
    "from sklearn.model_selection import train_test_split\n",
    "\n",
    "X, y = load_iris(return_X_y=True, as_frame=True)\n",
    "X_train, X_test, y_train, y_test = train_test_split(X, y)"
   ]
  },
  {
   "cell_type": "code",
   "execution_count": null,
   "metadata": {},
   "outputs": [],
   "source": [
    "from sklearn.svm import SVC\n",
    "\n",
    "# 1. Instantiate SVC with parameters gamma, C\n",
    "clf = SVC(gamma=0.001, C=100.)\n",
    "\n",
    "# 2. Fit clf to training data\n",
    "clf.fit(X_train, y_train)\n",
    "\n",
    "# 3. Predict labels on test data\n",
    "y_test_pred = clf.predict(X_test)\n",
    "\n",
    "y_test_pred"
   ]
  },
  {
   "attachments": {},
   "cell_type": "markdown",
   "metadata": {},
   "source": [
    "IMPORTANT: to use another classifier, only the specification line, part 1 changes!\n",
    "\n",
    "`SVC` could have been `RandomForest`, steps 2 and 3 remain the same - unified interface:"
   ]
  },
  {
   "cell_type": "code",
   "execution_count": null,
   "metadata": {},
   "outputs": [],
   "source": [
    "from sklearn.ensemble import RandomForestClassifier\n",
    "\n",
    "# 1. Instantiate SVC with parameters gamma, C\n",
    "clf = RandomForestClassifier(n_estimators=100)\n",
    "\n",
    "# 2. Fit clf to training data\n",
    "clf.fit(X_train, y_train)\n",
    "\n",
    "# 3. Predict labels on test data\n",
    "y_test_pred = clf.predict(X_test)\n",
    "\n",
    "y_test_pred"
   ]
  },
  {
   "attachments": {},
   "cell_type": "markdown",
   "metadata": {},
   "source": [
    "in object oriented design terminology, this is called **\"strategy pattern\"**\n",
    "\n",
    "= different estimators can be switched out without change to the interface\n",
    "\n",
    "= like a power plug adapter, it's plug&play if it conforms with the interface\n",
    "\n",
    "Pictorial summary:\n",
    "![](./img/sklearn-unified-interface.jpg)"
   ]
  },
  {
   "attachments": {},
   "cell_type": "markdown",
   "metadata": {},
   "source": [
    "parameters can be accessed and set via `get_params`, `set_params`:"
   ]
  },
  {
   "cell_type": "code",
   "execution_count": null,
   "metadata": {},
   "outputs": [],
   "source": [
    "clf.get_params()"
   ]
  },
  {
   "attachments": {},
   "cell_type": "markdown",
   "metadata": {},
   "source": [
    "### 1.3 `sktime` is devoted to time-series data analysis\n",
    "\n",
    "Richer space of time series tasks, compared to \"tabular\":\n",
    "\n",
    "- **Forecasting** - predict energy consumption tomorrow, based on past weeks\n",
    "- **Classification** - classify electrocardiograms to healthy/sick, based on prior examples\n",
    "- **Regression** - predict compound purity in bioreactor based on temperature/pressure profile\n",
    "- **Clustering** - sort outlines of tree leaves into a small number of similar classes\n",
    "- **Annotation** - identify jumps, anomalies, events in a data stream"
   ]
  },
  {
   "attachments": {},
   "cell_type": "markdown",
   "metadata": {},
   "source": [
    "`sktime` aims to provide `sklearn`-like, modular, composable, interfaces for these!"
   ]
  },
  {
   "attachments": {},
   "cell_type": "markdown",
   "metadata": {},
   "source": [
    "Example - forecasting"
   ]
  },
  {
   "cell_type": "code",
   "execution_count": null,
   "metadata": {},
   "outputs": [],
   "source": [
    "from sktime.datasets import load_airline\n",
    "from sktime.forecasting.naive import NaiveForecaster\n",
    "import numpy as np\n",
    "\n",
    "# step 1: data specification\n",
    "y = load_airline()\n",
    "\n",
    "# step 2: specifying forecasting horizon\n",
    "fh = np.arange(1, 37)\n",
    "\n",
    "# step 3: specifying the forecasting algorithm\n",
    "forecaster = NaiveForecaster(strategy=\"last\", sp=12)\n",
    "\n",
    "# step 4: fitting the forecaster\n",
    "forecaster.fit(y)\n",
    "\n",
    "# step 5: querying predictions\n",
    "y_pred = forecaster.predict(fh)"
   ]
  },
  {
   "attachments": {},
   "cell_type": "markdown",
   "metadata": {},
   "source": [
    "Example - classification"
   ]
  },
  {
   "cell_type": "code",
   "execution_count": null,
   "metadata": {},
   "outputs": [],
   "source": [
    "from sktime.datasets import load_osuleaf\n",
    "from sktime.classification.distance_based import KNeighborsTimeSeriesClassifier\n",
    "from sktime.dists_kernels.compose_tab_to_panel import AggrDist\n",
    "from sktime.dists_kernels import ScipyDist\n",
    "\n",
    "# step 1 - specify training data\n",
    "X_train, y_train = load_osuleaf(split=\"train\", return_type=\"numpy3D\")\n",
    "\n",
    "# step 2 - specify data to predict labels for\n",
    "X_new, _ = load_osuleaf(split=\"test\", return_type=\"numpy3D\")\n",
    "X_new = X_new[:2]\n",
    "\n",
    "# step 3 - specify the classifier\n",
    "mean_eucl_dist = AggrDist(ScipyDist())\n",
    "clf = KNeighborsTimeSeriesClassifier(n_neighbors=3, distance=mean_eucl_dist)\n",
    "\n",
    "# step 4 - fitting the classifier\n",
    "clf.fit(X_train, y_train)\n",
    "\n",
    "# step 5 - predict labels on new data\n",
    "y_pred = clf.predict(X_new)"
   ]
  },
  {
   "attachments": {},
   "cell_type": "markdown",
   "metadata": {},
   "source": [
    "### 1.4 Summary/What is next!\n",
    "\n",
    "- `sklearn` interface: unified interface (strategy pattern), modular, composition stable, easy specification language\n",
    "- `sktime` evolves the interface for time series learning tasks, with ecosystem integration\n",
    "- today we will look at: learning tasks related to collections of time series - classification, regression, clustering\n",
    "- and modular construction of estimators using time series distances, kernels, aligners = objects in their own right"
   ]
  }
 ],
 "metadata": {
  "kernelspec": {
   "display_name": "Python 3.8.13 ('pydata22')",
   "language": "python",
   "name": "python3"
  },
  "language_info": {
   "codemirror_mode": {
    "name": "ipython",
    "version": 3
   },
   "file_extension": ".py",
   "mimetype": "text/x-python",
   "name": "python",
   "nbconvert_exporter": "python",
   "pygments_lexer": "ipython3",
   "version": "3.10.11"
  },
  "orig_nbformat": 4,
  "vscode": {
   "interpreter": {
    "hash": "e61b44dca3bf47c8973c8cd627825697e2dad493e19dd6592afda0a0a3c312a0"
   }
  }
 },
 "nbformat": 4,
 "nbformat_minor": 2
}
