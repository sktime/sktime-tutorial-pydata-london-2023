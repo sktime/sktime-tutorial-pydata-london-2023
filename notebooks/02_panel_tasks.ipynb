{
 "cells": [
  {
   "attachments": {},
   "cell_type": "markdown",
   "metadata": {},
   "source": [
    "# 2. Panel Tasks - Classification, Regression, Clustering & Pipelines\n",
    "\n",
    "What are Panel tasks?\n",
    "-- TODO --"
   ]
  },
  {
   "attachments": {},
   "cell_type": "markdown",
   "metadata": {},
   "source": [
    "## Table of Contents\n",
    "    -- TODO --"
   ]
  },
  {
   "attachments": {},
   "cell_type": "markdown",
   "metadata": {},
   "source": [
    "## 2.1 Data Formats and its Types\n",
    "    -- TODO --"
   ]
  },
  {
   "attachments": {},
   "cell_type": "markdown",
   "metadata": {},
   "source": [
    "### 2.1.1 `scitype` vs `mtype` in `sktime`\n",
    "    -- TODO -- "
   ]
  },
  {
   "attachments": {},
   "cell_type": "markdown",
   "metadata": {},
   "source": [
    "### 2.1.2 Different `scitype` present in `sktime` and their utility\n",
    "    -- TODO --"
   ]
  },
  {
   "cell_type": "code",
   "execution_count": null,
   "metadata": {},
   "outputs": [],
   "source": [
    "# TODO: Show basic examples of each scitype followed by a practical example"
   ]
  },
  {
   "attachments": {},
   "cell_type": "markdown",
   "metadata": {},
   "source": [
    "### 2.1.3 Brief overview to `\"Series\"` `scitype`\n",
    "    -- TODO --"
   ]
  },
  {
   "attachments": {},
   "cell_type": "markdown",
   "metadata": {},
   "source": [
    "### 2.1.4 Introduction to `\"Panel\"` `scitype`\n",
    "    -- TODO --"
   ]
  },
  {
   "cell_type": "code",
   "execution_count": null,
   "metadata": {},
   "outputs": [],
   "source": [
    "# TODO: Show practical examples of all major `mtype` and basic examples of minor ones"
   ]
  },
  {
   "attachments": {},
   "cell_type": "markdown",
   "metadata": {},
   "source": [
    "### 2.1.5 Data Loaders for Panel Data\n",
    "    -- TODO --"
   ]
  },
  {
   "cell_type": "code",
   "execution_count": null,
   "metadata": {},
   "outputs": [],
   "source": [
    "# TODO-1: Load toy-dataset from sktime\n",
    "# TODO-2: Load dataset from an external repo "
   ]
  },
  {
   "attachments": {},
   "cell_type": "markdown",
   "metadata": {},
   "source": [
    "## 2.2 Classification Tasks\n",
    "\n",
    "    -- TODO: A simple, motivating problem --"
   ]
  },
  {
   "cell_type": "code",
   "execution_count": null,
   "metadata": {},
   "outputs": [],
   "source": [
    "# TODO: Load the dataset and split"
   ]
  },
  {
   "attachments": {},
   "cell_type": "markdown",
   "metadata": {},
   "source": [
    "### 2.2.1 --TODO: Decide Topic Name--: A small list of famous & simple estimators to 'solve' this problem"
   ]
  },
  {
   "cell_type": "code",
   "execution_count": null,
   "metadata": {},
   "outputs": [],
   "source": [
    "# TODO-1: Estimator-1\n",
    "# TODO-2: Estimator-2\n",
    "# TODO-3: Estimator-3"
   ]
  },
  {
   "attachments": {},
   "cell_type": "markdown",
   "metadata": {},
   "source": [
    "### 2.2.2 Evaluation Metrics for Time Series Classification"
   ]
  },
  {
   "cell_type": "code",
   "execution_count": null,
   "metadata": {},
   "outputs": [],
   "source": [
    "# TODO: `scikit-learn` compatibility showcase for evaluation, provide in-house evaluation functions too"
   ]
  },
  {
   "cell_type": "markdown",
   "metadata": {},
   "source": [
    "## 2.3 Regression Tasks\n",
    "    -- TODO: A simple, motivating problem, relevant to the first one --"
   ]
  },
  {
   "cell_type": "code",
   "execution_count": null,
   "metadata": {},
   "outputs": [],
   "source": [
    "# TODO: Load the dataset and split"
   ]
  },
  {
   "attachments": {},
   "cell_type": "markdown",
   "metadata": {},
   "source": [
    "### 2.3.1 -- TODO: Decide Topic Name --: A small list of famous & simple estimators to 'solve' this problem"
   ]
  },
  {
   "cell_type": "code",
   "execution_count": null,
   "metadata": {},
   "outputs": [],
   "source": [
    "# TODO-1: Estimator-1\n",
    "# TODO-2: Estimator-2\n",
    "# TODO-3: Estimator-3"
   ]
  },
  {
   "attachments": {},
   "cell_type": "markdown",
   "metadata": {},
   "source": [
    "### 2.3.2 Evaluation Metrics for Time Series Regression"
   ]
  },
  {
   "cell_type": "code",
   "execution_count": null,
   "metadata": {},
   "outputs": [],
   "source": [
    "# TODO: `scikit-learn` compatibility showcase for evaluation, provide in-house evaluation functions too"
   ]
  },
  {
   "attachments": {},
   "cell_type": "markdown",
   "metadata": {},
   "source": [
    "## 2.4 Clustering Tasks\n",
    "    -- TODO: A simple, motivating problem, relevant to both problems --"
   ]
  },
  {
   "cell_type": "code",
   "execution_count": null,
   "metadata": {},
   "outputs": [],
   "source": [
    "# TODO: Load the dataset and split"
   ]
  },
  {
   "attachments": {},
   "cell_type": "markdown",
   "metadata": {},
   "source": [
    "### 2.4.1 -- TODO: Decide Topic Name --: A small list of famous & simple estimators to 'solve' this problem"
   ]
  },
  {
   "cell_type": "code",
   "execution_count": null,
   "metadata": {},
   "outputs": [],
   "source": [
    "# TODO-1: Estimator-1\n",
    "# TODO-2: Estimator-2\n",
    "# TODO-3: Estimator-3"
   ]
  },
  {
   "attachments": {},
   "cell_type": "markdown",
   "metadata": {},
   "source": [
    "### 2.4.2 Evaluation Metrics for Time Series Clustering"
   ]
  },
  {
   "cell_type": "code",
   "execution_count": null,
   "metadata": {},
   "outputs": [],
   "source": [
    "# TODO: `scikit-learn` compatibility showcase for evaluation, provide in-house evaluation functions too"
   ]
  },
  {
   "attachments": {},
   "cell_type": "markdown",
   "metadata": {},
   "source": [
    "## 2.5 Introduction to Pipelines in `sktime`\n",
    "    -- TODO: Decide subtopic distribution --"
   ]
  },
  {
   "attachments": {},
   "cell_type": "markdown",
   "metadata": {},
   "source": [
    "## 2.6 Advanced Topics\n",
    "    -- TODO : Choose 2 or 3 of the following\n",
    "        - DL estimators\n",
    "        - Extending both classical and DL estimators for different tasks\n",
    "        - Combining pipelines with DL estimators\n",
    "        - GridSearch Pipelines\n",
    "        - Reduction Pipelines-"
   ]
  }
 ],
 "metadata": {
  "language_info": {
   "name": "python"
  },
  "orig_nbformat": 4
 },
 "nbformat": 4,
 "nbformat_minor": 2
}
