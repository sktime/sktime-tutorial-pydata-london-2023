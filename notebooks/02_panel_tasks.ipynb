{
 "cells": [
  {
   "attachments": {},
   "cell_type": "markdown",
   "metadata": {},
   "source": [
    "### Overview of this notebook\n",
    "\n",
    "* introduction to time series classification, regression, clustering\n",
    "* `sktime` data format fo \"time series panels\" = collections of time series\n",
    "* basic vignettes for TSC, TSR, TScl\n",
    "* advanced vignettes - pipelines, ensembles, tuning"
   ]
  },
  {
   "attachments": {},
   "cell_type": "markdown",
   "metadata": {},
   "source": [
    "# 2. Learning tasks - Classification, Regression, Clustering & more\n",
    "\n",
    "deal with *collections of time series* = \"panel data\"\n",
    "\n",
    "Classification = try to assign one *category* per time series, after training on time series/category examples\n",
    "\n",
    "Example: osuleaf - circumference point distance of leaves. Predict type of tree\n",
    "\n",
    "Regression = try to assign one *category* per time series, after training on time series/category examples\n",
    "\n",
    "Example: temperature/pressure/time profile of chemical reactor. Predict total purity (fraction of 1)\n",
    "\n",
    "Clustering = put different time series in a small number of similarity buckets"
   ]
  },
  {
   "attachments": {},
   "cell_type": "markdown",
   "metadata": {},
   "source": [
    "## 2.1 Panel data - `sktime` data formats\n",
    "\n",
    "Preferred format 1: `pd.DataFrame` with 2-level `MultiIndex`, (instance, time), cols= variables\n",
    "\n",
    "Preferred format 2: 3D `np.ndarray` with index (instance, variable, time)\n",
    "\n",
    "* `sktime` supports and recognizes multiple data formats for convenience and internal use, e.g., `dask`, `xarray`\n",
    "* abstract data type = \"scitype\"; in-memory specification = \"mtype\"\n",
    "* More information in tutorial on [in-memory data representations and data loading](https://www.sktime.net/en/latest/examples/AA_datatypes_and_datasets.html#In-memory-data-representations-and-data-loading)"
   ]
  },
  {
   "attachments": {},
   "cell_type": "markdown",
   "metadata": {},
   "source": [
    "### 2.1.1 preferred format 1 - `pd-multiindex` specification"
   ]
  },
  {
   "attachments": {},
   "cell_type": "markdown",
   "metadata": {},
   "source": [
    "`pd-multiindex` = `pd.DataFrame` with 2-level `MultiIndex`, (instance, time), cols= variables"
   ]
  },
  {
   "cell_type": "code",
   "execution_count": 54,
   "metadata": {},
   "outputs": [],
   "source": [
    "from sktime.datasets import load_osuleaf\n",
    "\n",
    "# load an example time series panel in pd-multiindex mtype\n",
    "X, _ = load_osuleaf(return_type=\"pd-multiindex\")"
   ]
  },
  {
   "attachments": {},
   "cell_type": "markdown",
   "metadata": {},
   "source": [
    "The osuleaf dataset has:\n",
    "\n",
    "* 412 individual time series instances\n",
    "* one single variable per time series instances, `dim_0`\n",
    "* individual time series are observed at 100 time points (the same number for all instances)"
   ]
  },
  {
   "cell_type": "code",
   "execution_count": 55,
   "metadata": {},
   "outputs": [
    {
     "data": {
      "text/html": [
       "<div>\n",
       "<style scoped>\n",
       "    .dataframe tbody tr th:only-of-type {\n",
       "        vertical-align: middle;\n",
       "    }\n",
       "\n",
       "    .dataframe tbody tr th {\n",
       "        vertical-align: top;\n",
       "    }\n",
       "\n",
       "    .dataframe thead th {\n",
       "        text-align: right;\n",
       "    }\n",
       "</style>\n",
       "<table border=\"1\" class=\"dataframe\">\n",
       "  <thead>\n",
       "    <tr style=\"text-align: right;\">\n",
       "      <th></th>\n",
       "      <th></th>\n",
       "      <th>dim_0</th>\n",
       "    </tr>\n",
       "    <tr>\n",
       "      <th></th>\n",
       "      <th>timepoints</th>\n",
       "      <th></th>\n",
       "    </tr>\n",
       "  </thead>\n",
       "  <tbody>\n",
       "    <tr>\n",
       "      <th rowspan=\"5\" valign=\"top\">0</th>\n",
       "      <th>0</th>\n",
       "      <td>0.550671</td>\n",
       "    </tr>\n",
       "    <tr>\n",
       "      <th>1</th>\n",
       "      <td>0.464716</td>\n",
       "    </tr>\n",
       "    <tr>\n",
       "      <th>2</th>\n",
       "      <td>0.375261</td>\n",
       "    </tr>\n",
       "    <tr>\n",
       "      <th>3</th>\n",
       "      <td>0.293060</td>\n",
       "    </tr>\n",
       "    <tr>\n",
       "      <th>4</th>\n",
       "      <td>0.206427</td>\n",
       "    </tr>\n",
       "    <tr>\n",
       "      <th>...</th>\n",
       "      <th>...</th>\n",
       "      <td>...</td>\n",
       "    </tr>\n",
       "    <tr>\n",
       "      <th rowspan=\"5\" valign=\"top\">441</th>\n",
       "      <th>422</th>\n",
       "      <td>1.761683</td>\n",
       "    </tr>\n",
       "    <tr>\n",
       "      <th>423</th>\n",
       "      <td>1.838726</td>\n",
       "    </tr>\n",
       "    <tr>\n",
       "      <th>424</th>\n",
       "      <td>1.927078</td>\n",
       "    </tr>\n",
       "    <tr>\n",
       "      <th>425</th>\n",
       "      <td>2.004444</td>\n",
       "    </tr>\n",
       "    <tr>\n",
       "      <th>426</th>\n",
       "      <td>2.067112</td>\n",
       "    </tr>\n",
       "  </tbody>\n",
       "</table>\n",
       "<p>188734 rows × 1 columns</p>\n",
       "</div>"
      ],
      "text/plain": [
       "                   dim_0\n",
       "    timepoints          \n",
       "0   0           0.550671\n",
       "    1           0.464716\n",
       "    2           0.375261\n",
       "    3           0.293060\n",
       "    4           0.206427\n",
       "...                  ...\n",
       "441 422         1.761683\n",
       "    423         1.838726\n",
       "    424         1.927078\n",
       "    425         2.004444\n",
       "    426         2.067112\n",
       "\n",
       "[188734 rows x 1 columns]"
      ]
     },
     "execution_count": 55,
     "metadata": {},
     "output_type": "execute_result"
    }
   ],
   "source": [
    "X"
   ]
  },
  {
   "cell_type": "code",
   "execution_count": 56,
   "metadata": {},
   "outputs": [],
   "source": [
    "from sktime.datasets import load_basic_motions\n",
    "\n",
    "# load an example time series panel in pd-multiindex mtype\n",
    "X, _ = load_basic_motions(return_type=\"pd-multiindex\")"
   ]
  },
  {
   "attachments": {},
   "cell_type": "markdown",
   "metadata": {},
   "source": [
    "The basic motions dataset has:\n",
    "\n",
    "* 6 individual time series instances\n",
    "* six variables per time series instance, `dim_0` to `dim_5`\n",
    "* individual time series are observed at 100 time points (the same number for all instances)"
   ]
  },
  {
   "cell_type": "code",
   "execution_count": 57,
   "metadata": {},
   "outputs": [
    {
     "data": {
      "text/html": [
       "<div>\n",
       "<style scoped>\n",
       "    .dataframe tbody tr th:only-of-type {\n",
       "        vertical-align: middle;\n",
       "    }\n",
       "\n",
       "    .dataframe tbody tr th {\n",
       "        vertical-align: top;\n",
       "    }\n",
       "\n",
       "    .dataframe thead th {\n",
       "        text-align: right;\n",
       "    }\n",
       "</style>\n",
       "<table border=\"1\" class=\"dataframe\">\n",
       "  <thead>\n",
       "    <tr style=\"text-align: right;\">\n",
       "      <th></th>\n",
       "      <th></th>\n",
       "      <th>dim_0</th>\n",
       "      <th>dim_1</th>\n",
       "      <th>dim_2</th>\n",
       "      <th>dim_3</th>\n",
       "      <th>dim_4</th>\n",
       "      <th>dim_5</th>\n",
       "    </tr>\n",
       "    <tr>\n",
       "      <th></th>\n",
       "      <th>timepoints</th>\n",
       "      <th></th>\n",
       "      <th></th>\n",
       "      <th></th>\n",
       "      <th></th>\n",
       "      <th></th>\n",
       "      <th></th>\n",
       "    </tr>\n",
       "  </thead>\n",
       "  <tbody>\n",
       "    <tr>\n",
       "      <th rowspan=\"5\" valign=\"top\">0</th>\n",
       "      <th>0</th>\n",
       "      <td>0.079106</td>\n",
       "      <td>0.394032</td>\n",
       "      <td>0.551444</td>\n",
       "      <td>0.351565</td>\n",
       "      <td>0.023970</td>\n",
       "      <td>0.633883</td>\n",
       "    </tr>\n",
       "    <tr>\n",
       "      <th>1</th>\n",
       "      <td>0.079106</td>\n",
       "      <td>0.394032</td>\n",
       "      <td>0.551444</td>\n",
       "      <td>0.351565</td>\n",
       "      <td>0.023970</td>\n",
       "      <td>0.633883</td>\n",
       "    </tr>\n",
       "    <tr>\n",
       "      <th>2</th>\n",
       "      <td>-0.903497</td>\n",
       "      <td>-3.666397</td>\n",
       "      <td>-0.282844</td>\n",
       "      <td>-0.095881</td>\n",
       "      <td>-0.319605</td>\n",
       "      <td>0.972131</td>\n",
       "    </tr>\n",
       "    <tr>\n",
       "      <th>3</th>\n",
       "      <td>1.116125</td>\n",
       "      <td>-0.656101</td>\n",
       "      <td>0.333118</td>\n",
       "      <td>1.624657</td>\n",
       "      <td>-0.569962</td>\n",
       "      <td>1.209171</td>\n",
       "    </tr>\n",
       "    <tr>\n",
       "      <th>4</th>\n",
       "      <td>1.638200</td>\n",
       "      <td>1.405135</td>\n",
       "      <td>0.393875</td>\n",
       "      <td>1.187864</td>\n",
       "      <td>-0.271664</td>\n",
       "      <td>1.739182</td>\n",
       "    </tr>\n",
       "    <tr>\n",
       "      <th>...</th>\n",
       "      <th>...</th>\n",
       "      <td>...</td>\n",
       "      <td>...</td>\n",
       "      <td>...</td>\n",
       "      <td>...</td>\n",
       "      <td>...</td>\n",
       "      <td>...</td>\n",
       "    </tr>\n",
       "    <tr>\n",
       "      <th rowspan=\"5\" valign=\"top\">79</th>\n",
       "      <th>95</th>\n",
       "      <td>28.459024</td>\n",
       "      <td>-16.633770</td>\n",
       "      <td>3.631869</td>\n",
       "      <td>8.978229</td>\n",
       "      <td>-3.611533</td>\n",
       "      <td>-1.491489</td>\n",
       "    </tr>\n",
       "    <tr>\n",
       "      <th>96</th>\n",
       "      <td>10.260094</td>\n",
       "      <td>0.102775</td>\n",
       "      <td>1.269261</td>\n",
       "      <td>-1.645964</td>\n",
       "      <td>-3.377157</td>\n",
       "      <td>1.283746</td>\n",
       "    </tr>\n",
       "    <tr>\n",
       "      <th>97</th>\n",
       "      <td>4.316471</td>\n",
       "      <td>-3.574319</td>\n",
       "      <td>2.063831</td>\n",
       "      <td>-1.717875</td>\n",
       "      <td>-1.843054</td>\n",
       "      <td>0.484734</td>\n",
       "    </tr>\n",
       "    <tr>\n",
       "      <th>98</th>\n",
       "      <td>0.704446</td>\n",
       "      <td>-4.920444</td>\n",
       "      <td>2.851857</td>\n",
       "      <td>-2.982977</td>\n",
       "      <td>-0.809665</td>\n",
       "      <td>-0.721774</td>\n",
       "    </tr>\n",
       "    <tr>\n",
       "      <th>99</th>\n",
       "      <td>-2.074749</td>\n",
       "      <td>-6.892377</td>\n",
       "      <td>4.848379</td>\n",
       "      <td>-1.350330</td>\n",
       "      <td>-1.203844</td>\n",
       "      <td>-1.776470</td>\n",
       "    </tr>\n",
       "  </tbody>\n",
       "</table>\n",
       "<p>8000 rows × 6 columns</p>\n",
       "</div>"
      ],
      "text/plain": [
       "                   dim_0      dim_1     dim_2     dim_3     dim_4     dim_5\n",
       "   timepoints                                                              \n",
       "0  0            0.079106   0.394032  0.551444  0.351565  0.023970  0.633883\n",
       "   1            0.079106   0.394032  0.551444  0.351565  0.023970  0.633883\n",
       "   2           -0.903497  -3.666397 -0.282844 -0.095881 -0.319605  0.972131\n",
       "   3            1.116125  -0.656101  0.333118  1.624657 -0.569962  1.209171\n",
       "   4            1.638200   1.405135  0.393875  1.187864 -0.271664  1.739182\n",
       "...                  ...        ...       ...       ...       ...       ...\n",
       "79 95          28.459024 -16.633770  3.631869  8.978229 -3.611533 -1.491489\n",
       "   96          10.260094   0.102775  1.269261 -1.645964 -3.377157  1.283746\n",
       "   97           4.316471  -3.574319  2.063831 -1.717875 -1.843054  0.484734\n",
       "   98           0.704446  -4.920444  2.851857 -2.982977 -0.809665 -0.721774\n",
       "   99          -2.074749  -6.892377  4.848379 -1.350330 -1.203844 -1.776470\n",
       "\n",
       "[8000 rows x 6 columns]"
      ]
     },
     "execution_count": 57,
     "metadata": {},
     "output_type": "execute_result"
    }
   ],
   "source": [
    "X"
   ]
  },
  {
   "attachments": {},
   "cell_type": "markdown",
   "metadata": {},
   "source": [
    "### 2.1.2 preferred format 2 - `numpy3D` specification"
   ]
  },
  {
   "attachments": {},
   "cell_type": "markdown",
   "metadata": {},
   "source": [
    "`numpy3D` = 3D `np.ndarray` with index (instance, variable, time)\n",
    "\n",
    "instance/time index is interpreted as integer\n",
    "\n",
    "IMPORTANT: unlike `pd-multiindex`, this assumes:\n",
    "\n",
    "* all individual series have the same length\n",
    "* all individual series have the same index"
   ]
  },
  {
   "cell_type": "code",
   "execution_count": 58,
   "metadata": {},
   "outputs": [],
   "source": [
    "from sktime.datasets import load_osuleaf\n",
    "\n",
    "# load an example time series panel in numpy mtype\n",
    "X, _ = load_osuleaf(return_type=\"numpy3D\")"
   ]
  },
  {
   "attachments": {},
   "cell_type": "markdown",
   "metadata": {},
   "source": [
    "The osuleaf dataset has:\n",
    "\n",
    "* 412 individual time series instances\n",
    "* one single variable per time series instances\n",
    "* individual time series are observed at 100 time points (the same number for all instances)"
   ]
  },
  {
   "cell_type": "code",
   "execution_count": 59,
   "metadata": {},
   "outputs": [
    {
     "data": {
      "text/plain": [
       "(442, 1, 427)"
      ]
     },
     "execution_count": 59,
     "metadata": {},
     "output_type": "execute_result"
    }
   ],
   "source": [
    "X.shape"
   ]
  },
  {
   "cell_type": "code",
   "execution_count": 60,
   "metadata": {},
   "outputs": [],
   "source": [
    "from sktime.datasets import load_basic_motions\n",
    "\n",
    "# load an example time series panel in numpy mtype\n",
    "X, _ = load_basic_motions(return_type=\"numpy3D\")"
   ]
  },
  {
   "attachments": {},
   "cell_type": "markdown",
   "metadata": {},
   "source": [
    "The basic motions dataset has:\n",
    "\n",
    "* 6 individual time series instances\n",
    "* six variables per time series instance\n",
    "* individual time series are observed at 100 time points (the same number for all instances)"
   ]
  },
  {
   "cell_type": "code",
   "execution_count": 61,
   "metadata": {},
   "outputs": [
    {
     "data": {
      "text/plain": [
       "(80, 6, 100)"
      ]
     },
     "execution_count": 61,
     "metadata": {},
     "output_type": "execute_result"
    }
   ],
   "source": [
    "X.shape"
   ]
  },
  {
   "attachments": {},
   "cell_type": "markdown",
   "metadata": {},
   "source": [
    "### 2.1.3 loading and validity checking"
   ]
  },
  {
   "attachments": {},
   "cell_type": "markdown",
   "metadata": {},
   "source": [
    "for custom data sets:\n",
    "\n",
    "1. use `pandas` `read_csv` or similar utilities to obtain a `pd.DataFrame` or `np.ndarray`\n",
    "2. try to bring the result in one of the preferred specifications\n",
    "3. use the `check_is_mtype` utility to check compliance - inspect informative error messages\n",
    "4. repeate 2-3 until the data format check passes"
   ]
  },
  {
   "cell_type": "code",
   "execution_count": 62,
   "metadata": {},
   "outputs": [],
   "source": [
    "# let's pretend we just loaded this from csv\n",
    "from sktime.datasets import load_osuleaf\n",
    "\n",
    "X_pd, _ = load_osuleaf(return_type=\"pd-multiindex\")"
   ]
  },
  {
   "attachments": {},
   "cell_type": "markdown",
   "metadata": {},
   "source": [
    "let's now check whether it complies with the `pd-multiindex` specification"
   ]
  },
  {
   "cell_type": "code",
   "execution_count": 63,
   "metadata": {},
   "outputs": [],
   "source": [
    "from sktime.datatypes import check_is_mtype\n",
    "\n",
    "valid, error_msg, metadata = check_is_mtype(X_pd, \"pd-multiindex\", return_metadata=True)"
   ]
  },
  {
   "cell_type": "code",
   "execution_count": 64,
   "metadata": {},
   "outputs": [
    {
     "data": {
      "text/plain": [
       "True"
      ]
     },
     "execution_count": 64,
     "metadata": {},
     "output_type": "execute_result"
    }
   ],
   "source": [
    "# is it valid?\n",
    "valid"
   ]
  },
  {
   "cell_type": "code",
   "execution_count": 65,
   "metadata": {},
   "outputs": [
    {
     "data": {
      "text/plain": [
       "{'is_univariate': True,\n",
       " 'is_empty': False,\n",
       " 'has_nans': False,\n",
       " 'n_instances': 442,\n",
       " 'is_one_series': False,\n",
       " 'is_equal_length': True,\n",
       " 'is_equally_spaced': True,\n",
       " 'n_panels': 1,\n",
       " 'is_one_panel': True,\n",
       " 'mtype': 'pd-multiindex',\n",
       " 'scitype': 'Panel'}"
      ]
     },
     "execution_count": 65,
     "metadata": {},
     "output_type": "execute_result"
    }
   ],
   "source": [
    "# helpful metadata, check if this is as per expectations\n",
    "metadata"
   ]
  },
  {
   "attachments": {},
   "cell_type": "markdown",
   "metadata": {},
   "source": [
    "let's see what happens if it is not in the expected format.\n",
    "\n",
    "We have a `pd.DataFrame`, so if we check against `numpy3D`, it should complain:"
   ]
  },
  {
   "cell_type": "code",
   "execution_count": 66,
   "metadata": {},
   "outputs": [],
   "source": [
    "valid, error_msg, metadata = check_is_mtype(X_pd, \"numpy3D\", return_metadata=True)"
   ]
  },
  {
   "cell_type": "code",
   "execution_count": 67,
   "metadata": {},
   "outputs": [
    {
     "data": {
      "text/plain": [
       "False"
      ]
     },
     "execution_count": 67,
     "metadata": {},
     "output_type": "execute_result"
    }
   ],
   "source": [
    "valid"
   ]
  },
  {
   "cell_type": "code",
   "execution_count": 68,
   "metadata": {},
   "outputs": [
    {
     "data": {
      "text/plain": [
       "\"obj must be a numpy.ndarray, found <class 'pandas.core.frame.DataFrame'>\""
      ]
     },
     "execution_count": 68,
     "metadata": {},
     "output_type": "execute_result"
    }
   ],
   "source": [
    "error_msg"
   ]
  },
  {
   "attachments": {},
   "cell_type": "markdown",
   "metadata": {},
   "source": [
    "This tells us that we should first convert into `np.ndarray` as expected."
   ]
  },
  {
   "attachments": {},
   "cell_type": "markdown",
   "metadata": {},
   "source": [
    "For further details on data formats, see the tutorial on [in-memory data representations and data loading](https://www.sktime.net/en/latest/examples/AA_datatypes_and_datasets.html#In-memory-data-representations-and-data-loading).\n",
    "\n",
    "The \"datatypes\" tutorial also contains:\n",
    "\n",
    "* full formal specifications of the mtypes (= machine representations)\n",
    "* common examples for loading from csv and formatting\n",
    "* utilities for loading data for commonly used benchmark problems\n",
    "\n",
    "All supported in-memory representations are python inspectable in `sktime.datatypes.MTYPE_REGISTER`\n",
    "\n",
    "Note that this includes \"exotic\", rarely used ones and representations of objects that aren't time series.\n",
    "Formats for time series panels are indicated by the `Panel` mtype.\n"
   ]
  },
  {
   "attachments": {},
   "cell_type": "markdown",
   "metadata": {},
   "source": [
    "## 2.2 Time Series Classification, Regression, Clustering - Basic Vignettes\n",
    "\n",
    "Above tasks are very similar to \"tabular\" classification, regression, clustering, as in `sklearn`\n",
    "\n",
    "Main distinction:\n",
    "* in \"tabular\" classification etc, one (feature) instance row vector of features\n",
    "* in TSC, one (feature) instance is a full time series, possibly unequal length, distinct index set"
   ]
  },
  {
   "attachments": {},
   "cell_type": "markdown",
   "metadata": {},
   "source": [
    "TODO: INSERT HELPFUL PICTURE HERE"
   ]
  },
  {
   "attachments": {},
   "cell_type": "markdown",
   "metadata": {},
   "source": [
    "\n",
    "More formally:\n",
    "\n",
    "* \"tabular\" classification: training pairs $(x_1, y_1), \\dots, (x_n, y_n)$, where $x_i$ are rows of a `pd.DataFrame` (same col types), and $y_i \\in \\mathcal{C}$ for a finite set $y_i \\in \\mathcal{C}$. We use these to train a classifier that predicts $y_* \\in \\mathcal{C}$ for a `pd.DataFrame` row $x_*$\n",
    "* time series classification: training pairs $(x_1, y_1), \\dots, (x_n, y_n)$, where $x_i$ are time series from a certain domain, and $y_i \\in \\mathcal{C}$ for a finite set $y_i \\in \\mathcal{C}$. We use these to train a classifier that predicts $y_* \\in \\mathcal{C}$ for time series $x_*$"
   ]
  },
  {
   "attachments": {},
   "cell_type": "markdown",
   "metadata": {},
   "source": [
    "very similar for time series regression, clustering - exercise left to reader :-)"
   ]
  },
  {
   "attachments": {},
   "cell_type": "markdown",
   "metadata": {},
   "source": [
    "`sktime` design implications:\n",
    "\n",
    "* need representation of collections of time series (panels), see Section 2.1\n",
    "    * same as in \"adjacent\" learning tasks, e.g., panel forecasting\n",
    "    * same as for transformation estimators\n",
    "* algorithms that use sequentiality, can deal with unequal length etc\n",
    "* algorithms usually based on distances or kernels between time series - need to cover that in framework\n",
    "* but we can use familiar `fit` / `predict` and `scikit-learn` / `scikit-base` interface!"
   ]
  },
  {
   "attachments": {},
   "cell_type": "markdown",
   "metadata": {},
   "source": [
    "### 2.2.3 Time Series Classification - deployment vignette"
   ]
  },
  {
   "attachments": {},
   "cell_type": "markdown",
   "metadata": {},
   "source": [
    "Basic deployment vignette for TSC:\n",
    "\n",
    "1. load/setup training data, `X` in a `Panel` format, `y` as 1D `np.ndarray`\n",
    "2. load/setup new data for prediction (can be done after 2 too)\n",
    "3. specify the classifier using `sklearn`-like syntax\n",
    "4. fit classifier to training data, `fit(X, y)`\n",
    "5. predict labels on new data, `predict(X_new)`"
   ]
  },
  {
   "cell_type": "code",
   "execution_count": 69,
   "metadata": {},
   "outputs": [],
   "source": [
    "# steps 1, 2 - prepare osuleaf dataset (train and new)\n",
    "from sktime.datasets import load_osuleaf\n",
    "\n",
    "X_train, y_train = load_osuleaf(split=\"train\", return_type=\"numpy3D\")\n",
    "X_new, _ = load_osuleaf(split=\"test\", return_type=\"numpy3D\")\n",
    "X_new = X_new[:2]  # smaller dataset for faster notebook runtime"
   ]
  },
  {
   "cell_type": "code",
   "execution_count": 70,
   "metadata": {},
   "outputs": [
    {
     "data": {
      "text/plain": [
       "(200, 1, 427)"
      ]
     },
     "execution_count": 70,
     "metadata": {},
     "output_type": "execute_result"
    }
   ],
   "source": [
    "# this is in numpy3D format, but could also be pd-multiindex or other\n",
    "X_train.shape"
   ]
  },
  {
   "cell_type": "code",
   "execution_count": 71,
   "metadata": {},
   "outputs": [
    {
     "data": {
      "text/plain": [
       "(200,)"
      ]
     },
     "execution_count": 71,
     "metadata": {},
     "output_type": "execute_result"
    }
   ],
   "source": [
    "# y is a 1D np.ndarray of labels - same length as number of instances in X_train\n",
    "y_train.shape"
   ]
  },
  {
   "cell_type": "code",
   "execution_count": 72,
   "metadata": {},
   "outputs": [],
   "source": [
    "# step 3 - specify the classifier\n",
    "from sktime.classification.distance_based import KNeighborsTimeSeriesClassifier\n",
    "\n",
    "# example 1 - 3-NN with simple dynamic time warping distance (requires numba)\n",
    "clf = KNeighborsTimeSeriesClassifier(n_neighbors=3)\n",
    "\n",
    "# example 2:\n",
    "# 3-nearest neighbour classifier with mean (over time points) pairwise Euclidean distance\n",
    "# (requires scipy)\n",
    "from sktime.classification.distance_based import KNeighborsTimeSeriesClassifier\n",
    "from sktime.dists_kernels.compose_tab_to_panel import AggrDist\n",
    "from sktime.dists_kernels import ScipyDist\n",
    "\n",
    "mean_eucl_dist = AggrDist(ScipyDist())\n",
    "clf = KNeighborsTimeSeriesClassifier(n_neighbors=3, distance=mean_eucl_dist)"
   ]
  },
  {
   "attachments": {},
   "cell_type": "markdown",
   "metadata": {},
   "source": [
    "we could specify any `sktime` classifier here - the rest remains the same!"
   ]
  },
  {
   "cell_type": "code",
   "execution_count": 73,
   "metadata": {},
   "outputs": [
    {
     "data": {
      "text/plain": [
       "{'algorithm': 'brute',\n",
       " 'distance': AggrDist(transformer=ScipyDist()),\n",
       " 'distance_mtype': None,\n",
       " 'distance_params': None,\n",
       " 'leaf_size': 30,\n",
       " 'n_jobs': None,\n",
       " 'n_neighbors': 3,\n",
       " 'pass_train_distances': False,\n",
       " 'weights': 'uniform',\n",
       " 'distance__aggfunc': None,\n",
       " 'distance__aggfunc_is_symm': False,\n",
       " 'distance__transformer': ScipyDist(),\n",
       " 'distance__transformer__colalign': 'intersect',\n",
       " 'distance__transformer__metric': 'euclidean',\n",
       " 'distance__transformer__metric_kwargs': None,\n",
       " 'distance__transformer__p': 2,\n",
       " 'distance__transformer__var_weights': None}"
      ]
     },
     "execution_count": 73,
     "metadata": {},
     "output_type": "execute_result"
    }
   ],
   "source": [
    "# all classifiers is scikit-learn / scikit-base compatible!\n",
    "# nested parameter interface via get_params, set_params\n",
    "clf.get_params()"
   ]
  },
  {
   "cell_type": "code",
   "execution_count": 74,
   "metadata": {},
   "outputs": [
    {
     "data": {
      "text/html": [
       "<style>#sk-f688e35b-d072-4020-b638-82ba9e7442d5 {color: black;background-color: white;}#sk-f688e35b-d072-4020-b638-82ba9e7442d5 pre{padding: 0;}#sk-f688e35b-d072-4020-b638-82ba9e7442d5 div.sk-toggleable {background-color: white;}#sk-f688e35b-d072-4020-b638-82ba9e7442d5 label.sk-toggleable__label {cursor: pointer;display: block;width: 100%;margin-bottom: 0;padding: 0.3em;box-sizing: border-box;text-align: center;}#sk-f688e35b-d072-4020-b638-82ba9e7442d5 label.sk-toggleable__label-arrow:before {content: \"▸\";float: left;margin-right: 0.25em;color: #696969;}#sk-f688e35b-d072-4020-b638-82ba9e7442d5 label.sk-toggleable__label-arrow:hover:before {color: black;}#sk-f688e35b-d072-4020-b638-82ba9e7442d5 div.sk-estimator:hover label.sk-toggleable__label-arrow:before {color: black;}#sk-f688e35b-d072-4020-b638-82ba9e7442d5 div.sk-toggleable__content {max-height: 0;max-width: 0;overflow: hidden;text-align: left;background-color: #f0f8ff;}#sk-f688e35b-d072-4020-b638-82ba9e7442d5 div.sk-toggleable__content pre {margin: 0.2em;color: black;border-radius: 0.25em;background-color: #f0f8ff;}#sk-f688e35b-d072-4020-b638-82ba9e7442d5 input.sk-toggleable__control:checked~div.sk-toggleable__content {max-height: 200px;max-width: 100%;overflow: auto;}#sk-f688e35b-d072-4020-b638-82ba9e7442d5 input.sk-toggleable__control:checked~label.sk-toggleable__label-arrow:before {content: \"▾\";}#sk-f688e35b-d072-4020-b638-82ba9e7442d5 div.sk-estimator input.sk-toggleable__control:checked~label.sk-toggleable__label {background-color: #d4ebff;}#sk-f688e35b-d072-4020-b638-82ba9e7442d5 div.sk-label input.sk-toggleable__control:checked~label.sk-toggleable__label {background-color: #d4ebff;}#sk-f688e35b-d072-4020-b638-82ba9e7442d5 input.sk-hidden--visually {border: 0;clip: rect(1px 1px 1px 1px);clip: rect(1px, 1px, 1px, 1px);height: 1px;margin: -1px;overflow: hidden;padding: 0;position: absolute;width: 1px;}#sk-f688e35b-d072-4020-b638-82ba9e7442d5 div.sk-estimator {font-family: monospace;background-color: #f0f8ff;border: 1px dotted black;border-radius: 0.25em;box-sizing: border-box;margin-bottom: 0.5em;}#sk-f688e35b-d072-4020-b638-82ba9e7442d5 div.sk-estimator:hover {background-color: #d4ebff;}#sk-f688e35b-d072-4020-b638-82ba9e7442d5 div.sk-parallel-item::after {content: \"\";width: 100%;border-bottom: 1px solid gray;flex-grow: 1;}#sk-f688e35b-d072-4020-b638-82ba9e7442d5 div.sk-label:hover label.sk-toggleable__label {background-color: #d4ebff;}#sk-f688e35b-d072-4020-b638-82ba9e7442d5 div.sk-serial::before {content: \"\";position: absolute;border-left: 1px solid gray;box-sizing: border-box;top: 2em;bottom: 0;left: 50%;}#sk-f688e35b-d072-4020-b638-82ba9e7442d5 div.sk-serial {display: flex;flex-direction: column;align-items: center;background-color: white;padding-right: 0.2em;padding-left: 0.2em;}#sk-f688e35b-d072-4020-b638-82ba9e7442d5 div.sk-item {z-index: 1;}#sk-f688e35b-d072-4020-b638-82ba9e7442d5 div.sk-parallel {display: flex;align-items: stretch;justify-content: center;background-color: white;}#sk-f688e35b-d072-4020-b638-82ba9e7442d5 div.sk-parallel::before {content: \"\";position: absolute;border-left: 1px solid gray;box-sizing: border-box;top: 2em;bottom: 0;left: 50%;}#sk-f688e35b-d072-4020-b638-82ba9e7442d5 div.sk-parallel-item {display: flex;flex-direction: column;position: relative;background-color: white;}#sk-f688e35b-d072-4020-b638-82ba9e7442d5 div.sk-parallel-item:first-child::after {align-self: flex-end;width: 50%;}#sk-f688e35b-d072-4020-b638-82ba9e7442d5 div.sk-parallel-item:last-child::after {align-self: flex-start;width: 50%;}#sk-f688e35b-d072-4020-b638-82ba9e7442d5 div.sk-parallel-item:only-child::after {width: 0;}#sk-f688e35b-d072-4020-b638-82ba9e7442d5 div.sk-dashed-wrapped {border: 1px dashed gray;margin: 0 0.4em 0.5em 0.4em;box-sizing: border-box;padding-bottom: 0.4em;background-color: white;position: relative;}#sk-f688e35b-d072-4020-b638-82ba9e7442d5 div.sk-label label {font-family: monospace;font-weight: bold;background-color: white;display: inline-block;line-height: 1.2em;}#sk-f688e35b-d072-4020-b638-82ba9e7442d5 div.sk-label-container {position: relative;z-index: 2;text-align: center;}#sk-f688e35b-d072-4020-b638-82ba9e7442d5 div.sk-container {/* jupyter's `normalize.less` sets `[hidden] { display: none; }` but bootstrap.min.css set `[hidden] { display: none !important; }` so we also need the `!important` here to be able to override the default hidden behavior on the sphinx rendered scikit-learn.org. See: https://github.com/scikit-learn/scikit-learn/issues/21755 */display: inline-block !important;position: relative;}#sk-f688e35b-d072-4020-b638-82ba9e7442d5 div.sk-text-repr-fallback {display: none;}</style><div id='sk-f688e35b-d072-4020-b638-82ba9e7442d5' class=\"sk-top-container\"><div class=\"sk-text-repr-fallback\"><pre>KNeighborsTimeSeriesClassifier(distance=AggrDist(transformer=ScipyDist()),\n",
       "                               n_neighbors=3)</pre><b>Please rerun this cell to show the HTML repr or trust the notebook.</b></div><div class=\"sk-container\" hidden><div class=\"sk-item sk-dashed-wrapped\"><div class='sk-label-container'><div class=\"sk-label sk-toggleable\"><input class=\"sk-toggleable__control sk-hidden--visually\" id=UUID('bffc025a-99c0-4e69-99ee-1ec768573083') type=\"checkbox\" ><label for=UUID('bffc025a-99c0-4e69-99ee-1ec768573083') class='sk-toggleable__label sk-toggleable__label-arrow'>KNeighborsTimeSeriesClassifier</label><div class=\"sk-toggleable__content\"><pre>KNeighborsTimeSeriesClassifier(distance=AggrDist(transformer=ScipyDist()),\n",
       "                               n_neighbors=3)</pre></div></div></div><div class=\"sk-parallel\"><div class=\"sk-parallel-item\"><div class=\"sk-item\"><div class=\"sk-serial\"><div class=\"sk-item sk-dashed-wrapped\"><div class=\"sk-parallel\"><div class=\"sk-parallel-item\"><div class=\"sk-item\"><div class=\"sk-serial\"><div class='sk-item'><div class=\"sk-estimator sk-toggleable\"><input class=\"sk-toggleable__control sk-hidden--visually\" id=UUID('8f6d3adc-b883-4fe6-bb71-2682dc630a90') type=\"checkbox\" ><label for=UUID('8f6d3adc-b883-4fe6-bb71-2682dc630a90') class='sk-toggleable__label sk-toggleable__label-arrow'>ScipyDist</label><div class=\"sk-toggleable__content\"><pre>ScipyDist()</pre></div></div></div></div></div></div></div></div></div></div></div></div></div></div></div>"
      ],
      "text/plain": [
       "KNeighborsTimeSeriesClassifier(distance=AggrDist(transformer=ScipyDist()),\n",
       "                               n_neighbors=3)"
      ]
     },
     "execution_count": 74,
     "metadata": {},
     "output_type": "execute_result"
    }
   ],
   "source": [
    "# step 4 - fit/train the classifier\n",
    "clf.fit(X_train, y_train)"
   ]
  },
  {
   "cell_type": "code",
   "execution_count": 75,
   "metadata": {},
   "outputs": [
    {
     "data": {
      "text/plain": [
       "True"
      ]
     },
     "execution_count": 75,
     "metadata": {},
     "output_type": "execute_result"
    }
   ],
   "source": [
    "# the classifier is now fitted\n",
    "clf.is_fitted"
   ]
  },
  {
   "cell_type": "code",
   "execution_count": 76,
   "metadata": {},
   "outputs": [
    {
     "data": {
      "text/plain": [
       "{'classes': array(['1', '2', '3', '4', '5', '6'], dtype='<U1'),\n",
       " 'fit_time': 0,\n",
       " 'knn_estimator': KNeighborsClassifier(algorithm='brute', metric='precomputed', n_neighbors=3),\n",
       " 'n_classes': 6,\n",
       " 'knn_estimator__classes': array(['1', '2', '3', '4', '5', '6'], dtype='<U1'),\n",
       " 'knn_estimator__effective_metric': 'precomputed',\n",
       " 'knn_estimator__effective_metric_params': {},\n",
       " 'knn_estimator__n_features_in': 200,\n",
       " 'knn_estimator__n_samples_fit': 200,\n",
       " 'knn_estimator__outputs_2d': False}"
      ]
     },
     "execution_count": 76,
     "metadata": {},
     "output_type": "execute_result"
    }
   ],
   "source": [
    "# and we can inspect fitted parameters if we like\n",
    "clf.get_fitted_params()"
   ]
  },
  {
   "cell_type": "code",
   "execution_count": 77,
   "metadata": {},
   "outputs": [],
   "source": [
    "# step 5 - predict labels on new data\n",
    "y_pred = clf.predict(X_new)"
   ]
  },
  {
   "cell_type": "code",
   "execution_count": 78,
   "metadata": {},
   "outputs": [
    {
     "data": {
      "text/plain": [
       "array(['1', '3'], dtype='<U1')"
      ]
     },
     "execution_count": 78,
     "metadata": {},
     "output_type": "execute_result"
    }
   ],
   "source": [
    "# y_pred is an 1D np.ndarray, similar to sklearn classification output\n",
    "y_pred"
   ]
  },
  {
   "attachments": {},
   "cell_type": "markdown",
   "metadata": {},
   "source": [
    "all together in one cell:"
   ]
  },
  {
   "cell_type": "code",
   "execution_count": 79,
   "metadata": {},
   "outputs": [],
   "source": [
    "# steps 1, 2 - prepare osuleaf dataset (train and new)\n",
    "from sktime.datasets import load_osuleaf\n",
    "\n",
    "X_train, y_train = load_osuleaf(split=\"train\", return_type=\"numpy3D\")\n",
    "X_new, _ = load_osuleaf(split=\"test\", return_type=\"numpy3D\")\n",
    "X_new = X_new[:2]  # smaller dataset for faster notebook runtime\n",
    "\n",
    "# step 3 - specify the classifier\n",
    "from sktime.classification.distance_based import KNeighborsTimeSeriesClassifier\n",
    "from sktime.dists_kernels.compose_tab_to_panel import AggrDist\n",
    "from sktime.dists_kernels import ScipyDist\n",
    "\n",
    "mean_eucl_dist = AggrDist(ScipyDist())\n",
    "clf = KNeighborsTimeSeriesClassifier(n_neighbors=3, distance=mean_eucl_dist)\n",
    "\n",
    "# step 4 - fit/train the classifier\n",
    "clf.fit(X_train, y_train)\n",
    "\n",
    "# step 5 - predict labels on new data\n",
    "y_pred = clf.predict(X_new)"
   ]
  },
  {
   "attachments": {},
   "cell_type": "markdown",
   "metadata": {},
   "source": [
    "### 2.2.4 Time Series Classification - simple evaluation vignette"
   ]
  },
  {
   "attachments": {},
   "cell_type": "markdown",
   "metadata": {},
   "source": [
    "Evaluation is simila to `sklearn` classifiers - we split a dataset and evaluate performance on the test set.\n",
    "\n",
    "This includes as additional steps:\n",
    "\n",
    "* splitting the initial, historical data, e.g., using `train_test_split`\n",
    "* comparing predictions with a held out data set"
   ]
  },
  {
   "cell_type": "code",
   "execution_count": 80,
   "metadata": {},
   "outputs": [
    {
     "data": {
      "text/plain": [
       "0.0"
      ]
     },
     "execution_count": 80,
     "metadata": {},
     "output_type": "execute_result"
    }
   ],
   "source": [
    "from sktime.classification.distance_based import KNeighborsTimeSeriesClassifier\n",
    "from sktime.datasets import load_osuleaf\n",
    "\n",
    "# data should be split into train/test\n",
    "X_train, y_train = load_osuleaf(split=\"train\", return_type=\"numpy3D\")\n",
    "X_test, y_test = load_osuleaf(split=\"test\", return_type=\"numpy3D\")\n",
    "X_test = X_test[:2]\n",
    "y_test = y_test[:2]\n",
    "\n",
    "# step 3-5 are the same\n",
    "from sktime.classification.distance_based import KNeighborsTimeSeriesClassifier\n",
    "from sktime.dists_kernels.compose_tab_to_panel import AggrDist\n",
    "from sktime.dists_kernels import ScipyDist\n",
    "\n",
    "mean_eucl_dist = AggrDist(ScipyDist())\n",
    "clf = KNeighborsTimeSeriesClassifier(n_neighbors=3, distance=mean_eucl_dist)\n",
    "\n",
    "clf.fit(X_train, y_train)\n",
    "y_pred = clf.predict(X_test)\n",
    "\n",
    "# for simplest evaluation, compare ground truth to predictions\n",
    "from sklearn.metrics import accuracy_score\n",
    "\n",
    "accuracy_score(y_test, y_pred)"
   ]
  },
  {
   "attachments": {},
   "cell_type": "markdown",
   "metadata": {},
   "source": [
    "### 2.2.5 Time Series Regression - basic vignettes"
   ]
  },
  {
   "attachments": {},
   "cell_type": "markdown",
   "metadata": {},
   "source": [
    "TSR vignettes are exactly the same as TSC, except that:\n",
    "\n",
    "* `y` in `fit` input and `predict` output should be float 1D `np.ndarray`, not categorical\n",
    "* other algorithms are commonly used and/or performant"
   ]
  },
  {
   "cell_type": "code",
   "execution_count": 81,
   "metadata": {},
   "outputs": [],
   "source": [
    "# steps 1, 2 - prepare dataset (train and new)\n",
    "from sktime.datasets import load_covid_3month\n",
    "\n",
    "X_train, y_train = load_covid_3month(split=\"train\")\n",
    "y_train = y_train.astype(\"float\")\n",
    "X_new, _ = load_covid_3month(split=\"test\")\n",
    "X_new = X_new.loc[:2]  # smaller dataset for faster notebook runtime\n",
    "\n",
    "# step 3 - specify the regressor\n",
    "from sktime.regression.distance_based import KNeighborsTimeSeriesRegressor\n",
    "\n",
    "clf = KNeighborsTimeSeriesRegressor(n_neighbors=3, distance=mean_eucl_dist)\n",
    "\n",
    "# step 4 - fit/train the regressor\n",
    "clf.fit(X_train, y_train)\n",
    "\n",
    "# step 5 - predict labels on new data\n",
    "y_pred = clf.predict(X_new)"
   ]
  },
  {
   "cell_type": "code",
   "execution_count": 82,
   "metadata": {},
   "outputs": [
    {
     "data": {
      "text/plain": [
       "array([0., 0., 0.])"
      ]
     },
     "execution_count": 82,
     "metadata": {},
     "output_type": "execute_result"
    }
   ],
   "source": [
    "y_pred  # not too interesting but float"
   ]
  },
  {
   "attachments": {},
   "cell_type": "markdown",
   "metadata": {},
   "source": [
    "### 2.2.6 Time Series Clustering - basic vignettes"
   ]
  },
  {
   "attachments": {},
   "cell_type": "markdown",
   "metadata": {},
   "source": [
    "TS clustering is similar - 1st step is also `fit`, but unsupervised\n",
    "\n",
    "i.e., no labels `y`, and next step is inspecting clusters"
   ]
  },
  {
   "cell_type": "code",
   "execution_count": 83,
   "metadata": {},
   "outputs": [
    {
     "data": {
      "text/plain": [
       "{'core_sample_indices': array([], dtype=int64),\n",
       " 'dbscan': DBSCAN(metric='precomputed'),\n",
       " 'fit_time': 153,\n",
       " 'labels': array([-1, -1, -1, -1, -1, -1, -1, -1, -1, -1], dtype=int64),\n",
       " 'dbscan__components': array([], shape=(0, 10), dtype=float64),\n",
       " 'dbscan__core_sample_indices': array([], dtype=int64),\n",
       " 'dbscan__labels': array([-1, -1, -1, -1, -1, -1, -1, -1, -1, -1], dtype=int64),\n",
       " 'dbscan__n_features_in': 10}"
      ]
     },
     "execution_count": 83,
     "metadata": {},
     "output_type": "execute_result"
    }
   ],
   "source": [
    "from sktime.clustering.dbscan import TimeSeriesDBSCAN\n",
    "\n",
    "# step 1 - prepare dataset (train and new)\n",
    "X, _ = load_osuleaf(split=\"train\", return_type=\"numpy3D\")\n",
    "X = X[:10]\n",
    "\n",
    "# step 2 - specify the clusterer\n",
    "from sktime.classification.distance_based import KNeighborsTimeSeriesClassifier\n",
    "from sktime.dists_kernels.compose_tab_to_panel import AggrDist\n",
    "from sktime.dists_kernels import ScipyDist\n",
    "\n",
    "mean_eucl_dist = AggrDist(ScipyDist())\n",
    "clst = TimeSeriesDBSCAN(distance=mean_eucl_dist)\n",
    "\n",
    "# step 3 - fit the clusterer to the data\n",
    "clst.fit(X)\n",
    "\n",
    "# step 4 - inspect the clustering\n",
    "clst.get_fitted_params()"
   ]
  },
  {
   "attachments": {},
   "cell_type": "markdown",
   "metadata": {},
   "source": [
    "## 2.3 Searching for estimators, estimator tags"
   ]
  },
  {
   "attachments": {},
   "cell_type": "markdown",
   "metadata": {},
   "source": [
    "Estimators in `sktime` are tagged.\n",
    "\n",
    "Tags starting with \"capability\" indicate things the estimator can or cannot do, e.g.,\n",
    "\n",
    "* `\"capability:missing_values\"` - dealing with missing values\n",
    "* `\"capability:multivariate\"` - daling with multivariate input\n",
    "* `\"capability:unequal_length\"` - deaing with time series panels where the individual time series have unequal length and/or unequal index"
   ]
  },
  {
   "attachments": {},
   "cell_type": "markdown",
   "metadata": {},
   "source": [
    "all tags for an estimator scitype (e.g., classifier, regressor) can be inspected by `sktime.registry.all_tags`:"
   ]
  },
  {
   "cell_type": "code",
   "execution_count": 84,
   "metadata": {},
   "outputs": [
    {
     "data": {
      "text/html": [
       "<div>\n",
       "<style scoped>\n",
       "    .dataframe tbody tr th:only-of-type {\n",
       "        vertical-align: middle;\n",
       "    }\n",
       "\n",
       "    .dataframe tbody tr th {\n",
       "        vertical-align: top;\n",
       "    }\n",
       "\n",
       "    .dataframe thead th {\n",
       "        text-align: right;\n",
       "    }\n",
       "</style>\n",
       "<table border=\"1\" class=\"dataframe\">\n",
       "  <thead>\n",
       "    <tr style=\"text-align: right;\">\n",
       "      <th></th>\n",
       "      <th>name</th>\n",
       "      <th>scitype</th>\n",
       "      <th>type</th>\n",
       "      <th>description</th>\n",
       "    </tr>\n",
       "  </thead>\n",
       "  <tbody>\n",
       "    <tr>\n",
       "      <th>0</th>\n",
       "      <td>capability:contractable</td>\n",
       "      <td>classifier</td>\n",
       "      <td>bool</td>\n",
       "      <td>contract time setting, does the estimator supp...</td>\n",
       "    </tr>\n",
       "    <tr>\n",
       "      <th>1</th>\n",
       "      <td>capability:missing_values</td>\n",
       "      <td>[classifier, early_classifier, param_est, regr...</td>\n",
       "      <td>bool</td>\n",
       "      <td>can the classifier handle missing data (NA, np...</td>\n",
       "    </tr>\n",
       "    <tr>\n",
       "      <th>2</th>\n",
       "      <td>capability:multithreading</td>\n",
       "      <td>[classifier, early_classifier]</td>\n",
       "      <td>bool</td>\n",
       "      <td>can the classifier set n_jobs to use multiple ...</td>\n",
       "    </tr>\n",
       "    <tr>\n",
       "      <th>3</th>\n",
       "      <td>capability:multivariate</td>\n",
       "      <td>[classifier, early_classifier, param_est, regr...</td>\n",
       "      <td>bool</td>\n",
       "      <td>can the classifier classify time series with 2...</td>\n",
       "    </tr>\n",
       "    <tr>\n",
       "      <th>4</th>\n",
       "      <td>capability:predict_proba</td>\n",
       "      <td>classifier</td>\n",
       "      <td>bool</td>\n",
       "      <td>does the classifier implement a non-default pr...</td>\n",
       "    </tr>\n",
       "    <tr>\n",
       "      <th>5</th>\n",
       "      <td>capability:train_estimate</td>\n",
       "      <td>classifier</td>\n",
       "      <td>bool</td>\n",
       "      <td>can the classifier estimate its performance on...</td>\n",
       "    </tr>\n",
       "    <tr>\n",
       "      <th>6</th>\n",
       "      <td>capability:unequal_length</td>\n",
       "      <td>[classifier, early_classifier, regressor, tran...</td>\n",
       "      <td>bool</td>\n",
       "      <td>can the estimator handle unequal length time s...</td>\n",
       "    </tr>\n",
       "    <tr>\n",
       "      <th>7</th>\n",
       "      <td>classifier_type</td>\n",
       "      <td>classifier</td>\n",
       "      <td>(list, [dictionary, distance, feature, hybrid,...</td>\n",
       "      <td>which type the classifier falls under in the t...</td>\n",
       "    </tr>\n",
       "  </tbody>\n",
       "</table>\n",
       "</div>"
      ],
      "text/plain": [
       "                        name  \\\n",
       "0    capability:contractable   \n",
       "1  capability:missing_values   \n",
       "2  capability:multithreading   \n",
       "3    capability:multivariate   \n",
       "4   capability:predict_proba   \n",
       "5  capability:train_estimate   \n",
       "6  capability:unequal_length   \n",
       "7            classifier_type   \n",
       "\n",
       "                                             scitype  \\\n",
       "0                                         classifier   \n",
       "1  [classifier, early_classifier, param_est, regr...   \n",
       "2                     [classifier, early_classifier]   \n",
       "3  [classifier, early_classifier, param_est, regr...   \n",
       "4                                         classifier   \n",
       "5                                         classifier   \n",
       "6  [classifier, early_classifier, regressor, tran...   \n",
       "7                                         classifier   \n",
       "\n",
       "                                                type  \\\n",
       "0                                               bool   \n",
       "1                                               bool   \n",
       "2                                               bool   \n",
       "3                                               bool   \n",
       "4                                               bool   \n",
       "5                                               bool   \n",
       "6                                               bool   \n",
       "7  (list, [dictionary, distance, feature, hybrid,...   \n",
       "\n",
       "                                         description  \n",
       "0  contract time setting, does the estimator supp...  \n",
       "1  can the classifier handle missing data (NA, np...  \n",
       "2  can the classifier set n_jobs to use multiple ...  \n",
       "3  can the classifier classify time series with 2...  \n",
       "4  does the classifier implement a non-default pr...  \n",
       "5  can the classifier estimate its performance on...  \n",
       "6  can the estimator handle unequal length time s...  \n",
       "7  which type the classifier falls under in the t...  "
      ]
     },
     "execution_count": 84,
     "metadata": {},
     "output_type": "execute_result"
    }
   ],
   "source": [
    "from sktime.registry import all_tags\n",
    "\n",
    "all_tags(\"classifier\", as_dataframe=True)"
   ]
  },
  {
   "attachments": {},
   "cell_type": "markdown",
   "metadata": {},
   "source": [
    "valid estimator types are listed in the `all_tags` docstring, or `sktime.registry.BASE_CLASS_REGISTER`"
   ]
  },
  {
   "cell_type": "code",
   "execution_count": 85,
   "metadata": {},
   "outputs": [
    {
     "data": {
      "text/plain": [
       "('object',\n",
       " 'estimator',\n",
       " 'aligner',\n",
       " 'classifier',\n",
       " 'clusterer',\n",
       " 'early_classifier',\n",
       " 'forecaster',\n",
       " 'metric',\n",
       " 'network',\n",
       " 'param_est',\n",
       " 'regressor',\n",
       " 'series-annotator',\n",
       " 'splitter',\n",
       " 'transformer',\n",
       " 'transformer-pairwise',\n",
       " 'transformer-pairwise-panel',\n",
       " 'distribution')"
      ]
     },
     "execution_count": 85,
     "metadata": {},
     "output_type": "execute_result"
    }
   ],
   "source": [
    "from sktime.registry import BASE_CLASS_REGISTER\n",
    "\n",
    "# get only fist table column, the list of types\n",
    "list(zip(*BASE_CLASS_REGISTER))[0]"
   ]
  },
  {
   "attachments": {},
   "cell_type": "markdown",
   "metadata": {},
   "source": [
    "to find all estimators of a certain type, use `sktime.registry.all_estimators`"
   ]
  },
  {
   "cell_type": "code",
   "execution_count": 86,
   "metadata": {},
   "outputs": [
    {
     "data": {
      "text/html": [
       "<div>\n",
       "<style scoped>\n",
       "    .dataframe tbody tr th:only-of-type {\n",
       "        vertical-align: middle;\n",
       "    }\n",
       "\n",
       "    .dataframe tbody tr th {\n",
       "        vertical-align: top;\n",
       "    }\n",
       "\n",
       "    .dataframe thead th {\n",
       "        text-align: right;\n",
       "    }\n",
       "</style>\n",
       "<table border=\"1\" class=\"dataframe\">\n",
       "  <thead>\n",
       "    <tr style=\"text-align: right;\">\n",
       "      <th></th>\n",
       "      <th>name</th>\n",
       "      <th>object</th>\n",
       "    </tr>\n",
       "  </thead>\n",
       "  <tbody>\n",
       "    <tr>\n",
       "      <th>0</th>\n",
       "      <td>Arsenal</td>\n",
       "      <td>&lt;class 'sktime.classification.kernel_based._ar...</td>\n",
       "    </tr>\n",
       "    <tr>\n",
       "      <th>1</th>\n",
       "      <td>BOSSEnsemble</td>\n",
       "      <td>&lt;class 'sktime.classification.dictionary_based...</td>\n",
       "    </tr>\n",
       "    <tr>\n",
       "      <th>2</th>\n",
       "      <td>BaggingClassifier</td>\n",
       "      <td>&lt;class 'sktime.classification.ensemble._baggin...</td>\n",
       "    </tr>\n",
       "    <tr>\n",
       "      <th>3</th>\n",
       "      <td>CNNClassifier</td>\n",
       "      <td>&lt;class 'sktime.classification.deep_learning.cn...</td>\n",
       "    </tr>\n",
       "    <tr>\n",
       "      <th>4</th>\n",
       "      <td>CanonicalIntervalForest</td>\n",
       "      <td>&lt;class 'sktime.classification.interval_based._...</td>\n",
       "    </tr>\n",
       "    <tr>\n",
       "      <th>5</th>\n",
       "      <td>Catch22Classifier</td>\n",
       "      <td>&lt;class 'sktime.classification.feature_based._c...</td>\n",
       "    </tr>\n",
       "    <tr>\n",
       "      <th>6</th>\n",
       "      <td>ClassifierPipeline</td>\n",
       "      <td>&lt;class 'sktime.classification.compose._pipelin...</td>\n",
       "    </tr>\n",
       "    <tr>\n",
       "      <th>7</th>\n",
       "      <td>ColumnEnsembleClassifier</td>\n",
       "      <td>&lt;class 'sktime.classification.compose._column_...</td>\n",
       "    </tr>\n",
       "    <tr>\n",
       "      <th>8</th>\n",
       "      <td>ComposableTimeSeriesForestClassifier</td>\n",
       "      <td>&lt;class 'sktime.classification.ensemble._ctsf.C...</td>\n",
       "    </tr>\n",
       "    <tr>\n",
       "      <th>9</th>\n",
       "      <td>ContractableBOSS</td>\n",
       "      <td>&lt;class 'sktime.classification.dictionary_based...</td>\n",
       "    </tr>\n",
       "    <tr>\n",
       "      <th>10</th>\n",
       "      <td>DrCIF</td>\n",
       "      <td>&lt;class 'sktime.classification.interval_based._...</td>\n",
       "    </tr>\n",
       "    <tr>\n",
       "      <th>11</th>\n",
       "      <td>DummyClassifier</td>\n",
       "      <td>&lt;class 'sktime.classification.dummy._dummy.Dum...</td>\n",
       "    </tr>\n",
       "    <tr>\n",
       "      <th>12</th>\n",
       "      <td>ElasticEnsemble</td>\n",
       "      <td>&lt;class 'sktime.classification.distance_based._...</td>\n",
       "    </tr>\n",
       "    <tr>\n",
       "      <th>13</th>\n",
       "      <td>FCNClassifier</td>\n",
       "      <td>&lt;class 'sktime.classification.deep_learning.fc...</td>\n",
       "    </tr>\n",
       "    <tr>\n",
       "      <th>14</th>\n",
       "      <td>FreshPRINCE</td>\n",
       "      <td>&lt;class 'sktime.classification.feature_based._f...</td>\n",
       "    </tr>\n",
       "    <tr>\n",
       "      <th>15</th>\n",
       "      <td>HIVECOTEV1</td>\n",
       "      <td>&lt;class 'sktime.classification.hybrid._hivecote...</td>\n",
       "    </tr>\n",
       "    <tr>\n",
       "      <th>16</th>\n",
       "      <td>HIVECOTEV2</td>\n",
       "      <td>&lt;class 'sktime.classification.hybrid._hivecote...</td>\n",
       "    </tr>\n",
       "    <tr>\n",
       "      <th>17</th>\n",
       "      <td>InceptionTimeClassifier</td>\n",
       "      <td>&lt;class 'sktime.classification.deep_learning.in...</td>\n",
       "    </tr>\n",
       "    <tr>\n",
       "      <th>18</th>\n",
       "      <td>IndividualBOSS</td>\n",
       "      <td>&lt;class 'sktime.classification.dictionary_based...</td>\n",
       "    </tr>\n",
       "    <tr>\n",
       "      <th>19</th>\n",
       "      <td>IndividualTDE</td>\n",
       "      <td>&lt;class 'sktime.classification.dictionary_based...</td>\n",
       "    </tr>\n",
       "    <tr>\n",
       "      <th>20</th>\n",
       "      <td>KNeighborsTimeSeriesClassifier</td>\n",
       "      <td>&lt;class 'sktime.classification.distance_based._...</td>\n",
       "    </tr>\n",
       "    <tr>\n",
       "      <th>21</th>\n",
       "      <td>LSTMFCNClassifier</td>\n",
       "      <td>&lt;class 'sktime.classification.deep_learning.ls...</td>\n",
       "    </tr>\n",
       "    <tr>\n",
       "      <th>22</th>\n",
       "      <td>MACNNClassifier</td>\n",
       "      <td>&lt;class 'sktime.classification.deep_learning.ma...</td>\n",
       "    </tr>\n",
       "    <tr>\n",
       "      <th>23</th>\n",
       "      <td>MLPClassifier</td>\n",
       "      <td>&lt;class 'sktime.classification.deep_learning.ml...</td>\n",
       "    </tr>\n",
       "    <tr>\n",
       "      <th>24</th>\n",
       "      <td>MUSE</td>\n",
       "      <td>&lt;class 'sktime.classification.dictionary_based...</td>\n",
       "    </tr>\n",
       "    <tr>\n",
       "      <th>25</th>\n",
       "      <td>MatrixProfileClassifier</td>\n",
       "      <td>&lt;class 'sktime.classification.feature_based._m...</td>\n",
       "    </tr>\n",
       "    <tr>\n",
       "      <th>26</th>\n",
       "      <td>MrSQM</td>\n",
       "      <td>&lt;class 'sktime.classification.shapelet_based._...</td>\n",
       "    </tr>\n",
       "    <tr>\n",
       "      <th>27</th>\n",
       "      <td>ProbabilityThresholdEarlyClassifier</td>\n",
       "      <td>&lt;class 'sktime.classification.early_classifica...</td>\n",
       "    </tr>\n",
       "    <tr>\n",
       "      <th>28</th>\n",
       "      <td>ProximityForest</td>\n",
       "      <td>&lt;class 'sktime.classification.distance_based._...</td>\n",
       "    </tr>\n",
       "    <tr>\n",
       "      <th>29</th>\n",
       "      <td>ProximityStump</td>\n",
       "      <td>&lt;class 'sktime.classification.distance_based._...</td>\n",
       "    </tr>\n",
       "    <tr>\n",
       "      <th>30</th>\n",
       "      <td>ProximityTree</td>\n",
       "      <td>&lt;class 'sktime.classification.distance_based._...</td>\n",
       "    </tr>\n",
       "    <tr>\n",
       "      <th>31</th>\n",
       "      <td>RandomIntervalClassifier</td>\n",
       "      <td>&lt;class 'sktime.classification.feature_based._r...</td>\n",
       "    </tr>\n",
       "    <tr>\n",
       "      <th>32</th>\n",
       "      <td>RandomIntervalSpectralEnsemble</td>\n",
       "      <td>&lt;class 'sktime.classification.interval_based._...</td>\n",
       "    </tr>\n",
       "    <tr>\n",
       "      <th>33</th>\n",
       "      <td>ResNetClassifier</td>\n",
       "      <td>&lt;class 'sktime.classification.deep_learning.re...</td>\n",
       "    </tr>\n",
       "    <tr>\n",
       "      <th>34</th>\n",
       "      <td>RocketClassifier</td>\n",
       "      <td>&lt;class 'sktime.classification.kernel_based._ro...</td>\n",
       "    </tr>\n",
       "    <tr>\n",
       "      <th>35</th>\n",
       "      <td>ShapeDTW</td>\n",
       "      <td>&lt;class 'sktime.classification.distance_based._...</td>\n",
       "    </tr>\n",
       "    <tr>\n",
       "      <th>36</th>\n",
       "      <td>ShapeletTransformClassifier</td>\n",
       "      <td>&lt;class 'sktime.classification.shapelet_based._...</td>\n",
       "    </tr>\n",
       "    <tr>\n",
       "      <th>37</th>\n",
       "      <td>SignatureClassifier</td>\n",
       "      <td>&lt;class 'sktime.classification.feature_based._s...</td>\n",
       "    </tr>\n",
       "    <tr>\n",
       "      <th>38</th>\n",
       "      <td>SimpleRNNClassifier</td>\n",
       "      <td>&lt;class 'sktime.classification.deep_learning.rn...</td>\n",
       "    </tr>\n",
       "    <tr>\n",
       "      <th>39</th>\n",
       "      <td>SklearnClassifierPipeline</td>\n",
       "      <td>&lt;class 'sktime.classification.compose._pipelin...</td>\n",
       "    </tr>\n",
       "    <tr>\n",
       "      <th>40</th>\n",
       "      <td>SummaryClassifier</td>\n",
       "      <td>&lt;class 'sktime.classification.feature_based._s...</td>\n",
       "    </tr>\n",
       "    <tr>\n",
       "      <th>41</th>\n",
       "      <td>SupervisedTimeSeriesForest</td>\n",
       "      <td>&lt;class 'sktime.classification.interval_based._...</td>\n",
       "    </tr>\n",
       "    <tr>\n",
       "      <th>42</th>\n",
       "      <td>TSFreshClassifier</td>\n",
       "      <td>&lt;class 'sktime.classification.feature_based._t...</td>\n",
       "    </tr>\n",
       "    <tr>\n",
       "      <th>43</th>\n",
       "      <td>TapNetClassifier</td>\n",
       "      <td>&lt;class 'sktime.classification.deep_learning.ta...</td>\n",
       "    </tr>\n",
       "    <tr>\n",
       "      <th>44</th>\n",
       "      <td>TemporalDictionaryEnsemble</td>\n",
       "      <td>&lt;class 'sktime.classification.dictionary_based...</td>\n",
       "    </tr>\n",
       "    <tr>\n",
       "      <th>45</th>\n",
       "      <td>TimeSeriesForestClassifier</td>\n",
       "      <td>&lt;class 'sktime.classification.interval_based._...</td>\n",
       "    </tr>\n",
       "    <tr>\n",
       "      <th>46</th>\n",
       "      <td>TimeSeriesSVC</td>\n",
       "      <td>&lt;class 'sktime.classification.kernel_based._sv...</td>\n",
       "    </tr>\n",
       "    <tr>\n",
       "      <th>47</th>\n",
       "      <td>WEASEL</td>\n",
       "      <td>&lt;class 'sktime.classification.dictionary_based...</td>\n",
       "    </tr>\n",
       "    <tr>\n",
       "      <th>48</th>\n",
       "      <td>WeightedEnsembleClassifier</td>\n",
       "      <td>&lt;class 'sktime.classification.ensemble._weight...</td>\n",
       "    </tr>\n",
       "  </tbody>\n",
       "</table>\n",
       "</div>"
      ],
      "text/plain": [
       "                                    name  \\\n",
       "0                                Arsenal   \n",
       "1                           BOSSEnsemble   \n",
       "2                      BaggingClassifier   \n",
       "3                          CNNClassifier   \n",
       "4                CanonicalIntervalForest   \n",
       "5                      Catch22Classifier   \n",
       "6                     ClassifierPipeline   \n",
       "7               ColumnEnsembleClassifier   \n",
       "8   ComposableTimeSeriesForestClassifier   \n",
       "9                       ContractableBOSS   \n",
       "10                                 DrCIF   \n",
       "11                       DummyClassifier   \n",
       "12                       ElasticEnsemble   \n",
       "13                         FCNClassifier   \n",
       "14                           FreshPRINCE   \n",
       "15                            HIVECOTEV1   \n",
       "16                            HIVECOTEV2   \n",
       "17               InceptionTimeClassifier   \n",
       "18                        IndividualBOSS   \n",
       "19                         IndividualTDE   \n",
       "20        KNeighborsTimeSeriesClassifier   \n",
       "21                     LSTMFCNClassifier   \n",
       "22                       MACNNClassifier   \n",
       "23                         MLPClassifier   \n",
       "24                                  MUSE   \n",
       "25               MatrixProfileClassifier   \n",
       "26                                 MrSQM   \n",
       "27   ProbabilityThresholdEarlyClassifier   \n",
       "28                       ProximityForest   \n",
       "29                        ProximityStump   \n",
       "30                         ProximityTree   \n",
       "31              RandomIntervalClassifier   \n",
       "32        RandomIntervalSpectralEnsemble   \n",
       "33                      ResNetClassifier   \n",
       "34                      RocketClassifier   \n",
       "35                              ShapeDTW   \n",
       "36           ShapeletTransformClassifier   \n",
       "37                   SignatureClassifier   \n",
       "38                   SimpleRNNClassifier   \n",
       "39             SklearnClassifierPipeline   \n",
       "40                     SummaryClassifier   \n",
       "41            SupervisedTimeSeriesForest   \n",
       "42                     TSFreshClassifier   \n",
       "43                      TapNetClassifier   \n",
       "44            TemporalDictionaryEnsemble   \n",
       "45            TimeSeriesForestClassifier   \n",
       "46                         TimeSeriesSVC   \n",
       "47                                WEASEL   \n",
       "48            WeightedEnsembleClassifier   \n",
       "\n",
       "                                               object  \n",
       "0   <class 'sktime.classification.kernel_based._ar...  \n",
       "1   <class 'sktime.classification.dictionary_based...  \n",
       "2   <class 'sktime.classification.ensemble._baggin...  \n",
       "3   <class 'sktime.classification.deep_learning.cn...  \n",
       "4   <class 'sktime.classification.interval_based._...  \n",
       "5   <class 'sktime.classification.feature_based._c...  \n",
       "6   <class 'sktime.classification.compose._pipelin...  \n",
       "7   <class 'sktime.classification.compose._column_...  \n",
       "8   <class 'sktime.classification.ensemble._ctsf.C...  \n",
       "9   <class 'sktime.classification.dictionary_based...  \n",
       "10  <class 'sktime.classification.interval_based._...  \n",
       "11  <class 'sktime.classification.dummy._dummy.Dum...  \n",
       "12  <class 'sktime.classification.distance_based._...  \n",
       "13  <class 'sktime.classification.deep_learning.fc...  \n",
       "14  <class 'sktime.classification.feature_based._f...  \n",
       "15  <class 'sktime.classification.hybrid._hivecote...  \n",
       "16  <class 'sktime.classification.hybrid._hivecote...  \n",
       "17  <class 'sktime.classification.deep_learning.in...  \n",
       "18  <class 'sktime.classification.dictionary_based...  \n",
       "19  <class 'sktime.classification.dictionary_based...  \n",
       "20  <class 'sktime.classification.distance_based._...  \n",
       "21  <class 'sktime.classification.deep_learning.ls...  \n",
       "22  <class 'sktime.classification.deep_learning.ma...  \n",
       "23  <class 'sktime.classification.deep_learning.ml...  \n",
       "24  <class 'sktime.classification.dictionary_based...  \n",
       "25  <class 'sktime.classification.feature_based._m...  \n",
       "26  <class 'sktime.classification.shapelet_based._...  \n",
       "27  <class 'sktime.classification.early_classifica...  \n",
       "28  <class 'sktime.classification.distance_based._...  \n",
       "29  <class 'sktime.classification.distance_based._...  \n",
       "30  <class 'sktime.classification.distance_based._...  \n",
       "31  <class 'sktime.classification.feature_based._r...  \n",
       "32  <class 'sktime.classification.interval_based._...  \n",
       "33  <class 'sktime.classification.deep_learning.re...  \n",
       "34  <class 'sktime.classification.kernel_based._ro...  \n",
       "35  <class 'sktime.classification.distance_based._...  \n",
       "36  <class 'sktime.classification.shapelet_based._...  \n",
       "37  <class 'sktime.classification.feature_based._s...  \n",
       "38  <class 'sktime.classification.deep_learning.rn...  \n",
       "39  <class 'sktime.classification.compose._pipelin...  \n",
       "40  <class 'sktime.classification.feature_based._s...  \n",
       "41  <class 'sktime.classification.interval_based._...  \n",
       "42  <class 'sktime.classification.feature_based._t...  \n",
       "43  <class 'sktime.classification.deep_learning.ta...  \n",
       "44  <class 'sktime.classification.dictionary_based...  \n",
       "45  <class 'sktime.classification.interval_based._...  \n",
       "46  <class 'sktime.classification.kernel_based._sv...  \n",
       "47  <class 'sktime.classification.dictionary_based...  \n",
       "48  <class 'sktime.classification.ensemble._weight...  "
      ]
     },
     "execution_count": 86,
     "metadata": {},
     "output_type": "execute_result"
    }
   ],
   "source": [
    "# list all classifiers in sktime\n",
    "from sktime.registry import all_estimators\n",
    "\n",
    "all_estimators(\"classifier\", as_dataframe=True)"
   ]
  },
  {
   "attachments": {},
   "cell_type": "markdown",
   "metadata": {},
   "source": [
    "for listing all estimators of a certain type with a certain capability,\n",
    "use the `filter_tags` argument of `all_estimators`:"
   ]
  },
  {
   "cell_type": "code",
   "execution_count": 87,
   "metadata": {},
   "outputs": [
    {
     "data": {
      "text/html": [
       "<div>\n",
       "<style scoped>\n",
       "    .dataframe tbody tr th:only-of-type {\n",
       "        vertical-align: middle;\n",
       "    }\n",
       "\n",
       "    .dataframe tbody tr th {\n",
       "        vertical-align: top;\n",
       "    }\n",
       "\n",
       "    .dataframe thead th {\n",
       "        text-align: right;\n",
       "    }\n",
       "</style>\n",
       "<table border=\"1\" class=\"dataframe\">\n",
       "  <thead>\n",
       "    <tr style=\"text-align: right;\">\n",
       "      <th></th>\n",
       "      <th>name</th>\n",
       "      <th>object</th>\n",
       "    </tr>\n",
       "  </thead>\n",
       "  <tbody>\n",
       "    <tr>\n",
       "      <th>0</th>\n",
       "      <td>BaggingClassifier</td>\n",
       "      <td>&lt;class 'sktime.classification.ensemble._baggin...</td>\n",
       "    </tr>\n",
       "    <tr>\n",
       "      <th>1</th>\n",
       "      <td>DummyClassifier</td>\n",
       "      <td>&lt;class 'sktime.classification.dummy._dummy.Dum...</td>\n",
       "    </tr>\n",
       "    <tr>\n",
       "      <th>2</th>\n",
       "      <td>KNeighborsTimeSeriesClassifier</td>\n",
       "      <td>&lt;class 'sktime.classification.distance_based._...</td>\n",
       "    </tr>\n",
       "    <tr>\n",
       "      <th>3</th>\n",
       "      <td>SklearnClassifierPipeline</td>\n",
       "      <td>&lt;class 'sktime.classification.compose._pipelin...</td>\n",
       "    </tr>\n",
       "    <tr>\n",
       "      <th>4</th>\n",
       "      <td>TimeSeriesSVC</td>\n",
       "      <td>&lt;class 'sktime.classification.kernel_based._sv...</td>\n",
       "    </tr>\n",
       "    <tr>\n",
       "      <th>5</th>\n",
       "      <td>WeightedEnsembleClassifier</td>\n",
       "      <td>&lt;class 'sktime.classification.ensemble._weight...</td>\n",
       "    </tr>\n",
       "  </tbody>\n",
       "</table>\n",
       "</div>"
      ],
      "text/plain": [
       "                             name  \\\n",
       "0               BaggingClassifier   \n",
       "1                 DummyClassifier   \n",
       "2  KNeighborsTimeSeriesClassifier   \n",
       "3       SklearnClassifierPipeline   \n",
       "4                   TimeSeriesSVC   \n",
       "5      WeightedEnsembleClassifier   \n",
       "\n",
       "                                              object  \n",
       "0  <class 'sktime.classification.ensemble._baggin...  \n",
       "1  <class 'sktime.classification.dummy._dummy.Dum...  \n",
       "2  <class 'sktime.classification.distance_based._...  \n",
       "3  <class 'sktime.classification.compose._pipelin...  \n",
       "4  <class 'sktime.classification.kernel_based._sv...  \n",
       "5  <class 'sktime.classification.ensemble._weight...  "
      ]
     },
     "execution_count": 87,
     "metadata": {},
     "output_type": "execute_result"
    }
   ],
   "source": [
    "# list all classifiers in sktime\n",
    "# that can classify panels of time series containing missing data\n",
    "from sktime.registry import all_estimators\n",
    "\n",
    "all_estimators(\"classifier\", as_dataframe=True, filter_tags={\"capability:missing_values\": True})"
   ]
  },
  {
   "attachments": {},
   "cell_type": "markdown",
   "metadata": {},
   "source": [
    "side note:\n",
    "\n",
    "don't worry about how short the list is - when in doubt, it is always possible to pipeline with `Imputer`\n",
    "\n",
    "as in the next section :-)"
   ]
  },
  {
   "attachments": {},
   "cell_type": "markdown",
   "metadata": {},
   "source": [
    "## 2.4 Pipelines, Feature Extraction, Tuning, Composition\n"
   ]
  },
  {
   "attachments": {},
   "cell_type": "markdown",
   "metadata": {},
   "source": [
    "similar to `sklearn` for \"tabular\" classification, regression, etc,\n",
    "\n",
    "`sktime` has a rich set of tools for:\n",
    "\n",
    "* feature extraction via transformers\n",
    "* pipeline transformers with any estimator\n",
    "* tuning individual estimators or pipelines via grid search and similar\n",
    "* building ensembles out of individual estimators, or other composites\n",
    "\n",
    "`sktime` is also fully interoperable with `sklearn` interface if `numpy` based data mtypes are used\n",
    "\n",
    "(although this loses support for unequal length time series)"
   ]
  },
  {
   "attachments": {},
   "cell_type": "markdown",
   "metadata": {},
   "source": [
    "### 2.4.1 Primer on `sktime` transformers for feature extraction"
   ]
  },
  {
   "attachments": {},
   "cell_type": "markdown",
   "metadata": {},
   "source": [
    "all `sktime` transformers work natively with panel data:"
   ]
  },
  {
   "cell_type": "code",
   "execution_count": 88,
   "metadata": {},
   "outputs": [
    {
     "data": {
      "text/html": [
       "<div>\n",
       "<style scoped>\n",
       "    .dataframe tbody tr th:only-of-type {\n",
       "        vertical-align: middle;\n",
       "    }\n",
       "\n",
       "    .dataframe tbody tr th {\n",
       "        vertical-align: top;\n",
       "    }\n",
       "\n",
       "    .dataframe thead th {\n",
       "        text-align: right;\n",
       "    }\n",
       "</style>\n",
       "<table border=\"1\" class=\"dataframe\">\n",
       "  <thead>\n",
       "    <tr style=\"text-align: right;\">\n",
       "      <th></th>\n",
       "      <th></th>\n",
       "      <th>dim_0</th>\n",
       "    </tr>\n",
       "    <tr>\n",
       "      <th></th>\n",
       "      <th>timepoints</th>\n",
       "      <th></th>\n",
       "    </tr>\n",
       "  </thead>\n",
       "  <tbody>\n",
       "    <tr>\n",
       "      <th rowspan=\"5\" valign=\"top\">0</th>\n",
       "      <th>0</th>\n",
       "      <td>1.275524</td>\n",
       "    </tr>\n",
       "    <tr>\n",
       "      <th>1</th>\n",
       "      <td>1.186165</td>\n",
       "    </tr>\n",
       "    <tr>\n",
       "      <th>2</th>\n",
       "      <td>1.093307</td>\n",
       "    </tr>\n",
       "    <tr>\n",
       "      <th>3</th>\n",
       "      <td>1.007703</td>\n",
       "    </tr>\n",
       "    <tr>\n",
       "      <th>4</th>\n",
       "      <td>0.917668</td>\n",
       "    </tr>\n",
       "  </tbody>\n",
       "</table>\n",
       "</div>"
      ],
      "text/plain": [
       "                 dim_0\n",
       "  timepoints          \n",
       "0 0           1.275524\n",
       "  1           1.186165\n",
       "  2           1.093307\n",
       "  3           1.007703\n",
       "  4           0.917668"
      ]
     },
     "execution_count": 88,
     "metadata": {},
     "output_type": "execute_result"
    }
   ],
   "source": [
    "from sktime.datasets import load_osuleaf\n",
    "from sktime.transformations.series.detrend import Detrender\n",
    "\n",
    "# load some panel data\n",
    "X, _ = load_osuleaf(return_type=\"pd-multiindex\")\n",
    "\n",
    "# specify a linear detrender\n",
    "detrender = Detrender()\n",
    "\n",
    "# detrend X by removing linear trend from each instance\n",
    "X_detrended = detrender.fit_transform(X)\n",
    "X_detrended.head()"
   ]
  },
  {
   "attachments": {},
   "cell_type": "markdown",
   "metadata": {},
   "source": [
    "for panel tasks such as TSC, TSR, clustering, there are two distinctions to be aware of:\n",
    "\n",
    "* series-to-series transformers transform individual series to series, panels to panels. E.g., instance-wise detrender above\n",
    "* series-to-primitive transformers transform individual series to a set of tabular features. E>g., summary feature extractor\n",
    "\n",
    "either type of transform can be instance-wise:\n",
    "\n",
    "* instance-wise transforms use only the i-th series to transform the i-th series. E.g., instance-wise detrender\n",
    "* non-instance-wise transforms train on all series to transform the i-th series. E.g., PCA, overall mean detrender"
   ]
  },
  {
   "cell_type": "code",
   "execution_count": 89,
   "metadata": {},
   "outputs": [
    {
     "data": {
      "text/html": [
       "<div>\n",
       "<style scoped>\n",
       "    .dataframe tbody tr th:only-of-type {\n",
       "        vertical-align: middle;\n",
       "    }\n",
       "\n",
       "    .dataframe tbody tr th {\n",
       "        vertical-align: top;\n",
       "    }\n",
       "\n",
       "    .dataframe thead th {\n",
       "        text-align: right;\n",
       "    }\n",
       "</style>\n",
       "<table border=\"1\" class=\"dataframe\">\n",
       "  <thead>\n",
       "    <tr style=\"text-align: right;\">\n",
       "      <th></th>\n",
       "      <th>mean</th>\n",
       "      <th>std</th>\n",
       "      <th>min</th>\n",
       "      <th>max</th>\n",
       "      <th>0.1</th>\n",
       "      <th>0.25</th>\n",
       "      <th>0.5</th>\n",
       "      <th>0.75</th>\n",
       "      <th>0.9</th>\n",
       "    </tr>\n",
       "  </thead>\n",
       "  <tbody>\n",
       "    <tr>\n",
       "      <th>0</th>\n",
       "      <td>5.620609e-12</td>\n",
       "      <td>1.0</td>\n",
       "      <td>-2.448026</td>\n",
       "      <td>2.164713</td>\n",
       "      <td>-1.372028</td>\n",
       "      <td>-0.653303</td>\n",
       "      <td>0.019166</td>\n",
       "      <td>0.759680</td>\n",
       "      <td>1.307684</td>\n",
       "    </tr>\n",
       "    <tr>\n",
       "      <th>1</th>\n",
       "      <td>-1.667213e-10</td>\n",
       "      <td>1.0</td>\n",
       "      <td>-2.039291</td>\n",
       "      <td>2.343680</td>\n",
       "      <td>-1.320366</td>\n",
       "      <td>-0.732177</td>\n",
       "      <td>0.012950</td>\n",
       "      <td>0.667696</td>\n",
       "      <td>1.546717</td>\n",
       "    </tr>\n",
       "    <tr>\n",
       "      <th>2</th>\n",
       "      <td>1.287588e-09</td>\n",
       "      <td>1.0</td>\n",
       "      <td>-1.745517</td>\n",
       "      <td>2.461347</td>\n",
       "      <td>-1.132094</td>\n",
       "      <td>-0.841825</td>\n",
       "      <td>-0.139335</td>\n",
       "      <td>0.822082</td>\n",
       "      <td>1.317306</td>\n",
       "    </tr>\n",
       "    <tr>\n",
       "      <th>3</th>\n",
       "      <td>5.105389e-11</td>\n",
       "      <td>1.0</td>\n",
       "      <td>-2.444381</td>\n",
       "      <td>2.478120</td>\n",
       "      <td>-1.256323</td>\n",
       "      <td>-0.662851</td>\n",
       "      <td>-0.100135</td>\n",
       "      <td>0.692753</td>\n",
       "      <td>1.336678</td>\n",
       "    </tr>\n",
       "    <tr>\n",
       "      <th>4</th>\n",
       "      <td>6.920375e-10</td>\n",
       "      <td>1.0</td>\n",
       "      <td>-1.622146</td>\n",
       "      <td>3.179546</td>\n",
       "      <td>-1.027063</td>\n",
       "      <td>-0.706940</td>\n",
       "      <td>-0.201367</td>\n",
       "      <td>0.472113</td>\n",
       "      <td>1.472487</td>\n",
       "    </tr>\n",
       "    <tr>\n",
       "      <th>...</th>\n",
       "      <td>...</td>\n",
       "      <td>...</td>\n",
       "      <td>...</td>\n",
       "      <td>...</td>\n",
       "      <td>...</td>\n",
       "      <td>...</td>\n",
       "      <td>...</td>\n",
       "      <td>...</td>\n",
       "      <td>...</td>\n",
       "    </tr>\n",
       "    <tr>\n",
       "      <th>437</th>\n",
       "      <td>-6.483747e-10</td>\n",
       "      <td>1.0</td>\n",
       "      <td>-2.526089</td>\n",
       "      <td>2.527529</td>\n",
       "      <td>-1.321163</td>\n",
       "      <td>-0.509245</td>\n",
       "      <td>0.007864</td>\n",
       "      <td>0.392470</td>\n",
       "      <td>1.356985</td>\n",
       "    </tr>\n",
       "    <tr>\n",
       "      <th>438</th>\n",
       "      <td>5.377752e-10</td>\n",
       "      <td>1.0</td>\n",
       "      <td>-2.158140</td>\n",
       "      <td>1.781019</td>\n",
       "      <td>-1.398347</td>\n",
       "      <td>-0.725591</td>\n",
       "      <td>0.120500</td>\n",
       "      <td>0.816865</td>\n",
       "      <td>1.279366</td>\n",
       "    </tr>\n",
       "    <tr>\n",
       "      <th>439</th>\n",
       "      <td>-8.843326e-10</td>\n",
       "      <td>1.0</td>\n",
       "      <td>-1.800577</td>\n",
       "      <td>2.510015</td>\n",
       "      <td>-1.098513</td>\n",
       "      <td>-0.776098</td>\n",
       "      <td>-0.192350</td>\n",
       "      <td>0.671332</td>\n",
       "      <td>1.495224</td>\n",
       "    </tr>\n",
       "    <tr>\n",
       "      <th>440</th>\n",
       "      <td>3.763466e-10</td>\n",
       "      <td>1.0</td>\n",
       "      <td>-2.054170</td>\n",
       "      <td>2.256243</td>\n",
       "      <td>-1.293714</td>\n",
       "      <td>-0.789295</td>\n",
       "      <td>0.130258</td>\n",
       "      <td>0.521019</td>\n",
       "      <td>1.338492</td>\n",
       "    </tr>\n",
       "    <tr>\n",
       "      <th>441</th>\n",
       "      <td>-1.426464e-09</td>\n",
       "      <td>1.0</td>\n",
       "      <td>-2.064585</td>\n",
       "      <td>2.101704</td>\n",
       "      <td>-1.417956</td>\n",
       "      <td>-0.740283</td>\n",
       "      <td>0.005634</td>\n",
       "      <td>0.851554</td>\n",
       "      <td>1.297536</td>\n",
       "    </tr>\n",
       "  </tbody>\n",
       "</table>\n",
       "<p>442 rows × 9 columns</p>\n",
       "</div>"
      ],
      "text/plain": [
       "             mean  std       min       max       0.1      0.25       0.5  \\\n",
       "0    5.620609e-12  1.0 -2.448026  2.164713 -1.372028 -0.653303  0.019166   \n",
       "1   -1.667213e-10  1.0 -2.039291  2.343680 -1.320366 -0.732177  0.012950   \n",
       "2    1.287588e-09  1.0 -1.745517  2.461347 -1.132094 -0.841825 -0.139335   \n",
       "3    5.105389e-11  1.0 -2.444381  2.478120 -1.256323 -0.662851 -0.100135   \n",
       "4    6.920375e-10  1.0 -1.622146  3.179546 -1.027063 -0.706940 -0.201367   \n",
       "..            ...  ...       ...       ...       ...       ...       ...   \n",
       "437 -6.483747e-10  1.0 -2.526089  2.527529 -1.321163 -0.509245  0.007864   \n",
       "438  5.377752e-10  1.0 -2.158140  1.781019 -1.398347 -0.725591  0.120500   \n",
       "439 -8.843326e-10  1.0 -1.800577  2.510015 -1.098513 -0.776098 -0.192350   \n",
       "440  3.763466e-10  1.0 -2.054170  2.256243 -1.293714 -0.789295  0.130258   \n",
       "441 -1.426464e-09  1.0 -2.064585  2.101704 -1.417956 -0.740283  0.005634   \n",
       "\n",
       "         0.75       0.9  \n",
       "0    0.759680  1.307684  \n",
       "1    0.667696  1.546717  \n",
       "2    0.822082  1.317306  \n",
       "3    0.692753  1.336678  \n",
       "4    0.472113  1.472487  \n",
       "..        ...       ...  \n",
       "437  0.392470  1.356985  \n",
       "438  0.816865  1.279366  \n",
       "439  0.671332  1.495224  \n",
       "440  0.521019  1.338492  \n",
       "441  0.851554  1.297536  \n",
       "\n",
       "[442 rows x 9 columns]"
      ]
     },
     "execution_count": 89,
     "metadata": {},
     "output_type": "execute_result"
    }
   ],
   "source": [
    "# example of a series-to-primitive transformer\n",
    "from sktime.transformations.series.summarize import SummaryTransformer\n",
    "\n",
    "# specify summary transformer\n",
    "summary_trafo = SummaryTransformer()\n",
    "\n",
    "# extract summary features - one per instance in the panel\n",
    "X_summaries = summary_trafo.fit_transform(X)\n",
    "X_summaries"
   ]
  },
  {
   "attachments": {},
   "cell_type": "markdown",
   "metadata": {},
   "source": [
    "just like classifiers, we can search for transformers of either type via the right tag:\n",
    "\n",
    "* `\"scitype:transform-input\"` and `\"scitype:transform-output\"` define input and output, e.g., \"series-to-series\" (both are scitype strings)\n",
    "* `\"scitype:instancewise\"` is boolean and tells us whether the transform is instance-wise"
   ]
  },
  {
   "cell_type": "code",
   "execution_count": 90,
   "metadata": {},
   "outputs": [
    {
     "data": {
      "text/html": [
       "<div>\n",
       "<style scoped>\n",
       "    .dataframe tbody tr th:only-of-type {\n",
       "        vertical-align: middle;\n",
       "    }\n",
       "\n",
       "    .dataframe tbody tr th {\n",
       "        vertical-align: top;\n",
       "    }\n",
       "\n",
       "    .dataframe thead th {\n",
       "        text-align: right;\n",
       "    }\n",
       "</style>\n",
       "<table border=\"1\" class=\"dataframe\">\n",
       "  <thead>\n",
       "    <tr style=\"text-align: right;\">\n",
       "      <th></th>\n",
       "      <th>name</th>\n",
       "      <th>object</th>\n",
       "    </tr>\n",
       "  </thead>\n",
       "  <tbody>\n",
       "    <tr>\n",
       "      <th>0</th>\n",
       "      <td>Catch22</td>\n",
       "      <td>&lt;class 'sktime.transformations.panel.catch22.C...</td>\n",
       "    </tr>\n",
       "    <tr>\n",
       "      <th>1</th>\n",
       "      <td>Catch22Wrapper</td>\n",
       "      <td>&lt;class 'sktime.transformations.panel.catch22wr...</td>\n",
       "    </tr>\n",
       "    <tr>\n",
       "      <th>2</th>\n",
       "      <td>FittedParamExtractor</td>\n",
       "      <td>&lt;class 'sktime.transformations.panel.summarize...</td>\n",
       "    </tr>\n",
       "    <tr>\n",
       "      <th>3</th>\n",
       "      <td>RandomIntervalFeatureExtractor</td>\n",
       "      <td>&lt;class 'sktime.transformations.panel.summarize...</td>\n",
       "    </tr>\n",
       "    <tr>\n",
       "      <th>4</th>\n",
       "      <td>RandomIntervals</td>\n",
       "      <td>&lt;class 'sktime.transformations.panel.random_in...</td>\n",
       "    </tr>\n",
       "    <tr>\n",
       "      <th>5</th>\n",
       "      <td>RandomShapeletTransform</td>\n",
       "      <td>&lt;class 'sktime.transformations.panel.shapelet_...</td>\n",
       "    </tr>\n",
       "    <tr>\n",
       "      <th>6</th>\n",
       "      <td>SignatureTransformer</td>\n",
       "      <td>&lt;class 'sktime.transformations.panel.signature...</td>\n",
       "    </tr>\n",
       "    <tr>\n",
       "      <th>7</th>\n",
       "      <td>SummaryTransformer</td>\n",
       "      <td>&lt;class 'sktime.transformations.series.summariz...</td>\n",
       "    </tr>\n",
       "    <tr>\n",
       "      <th>8</th>\n",
       "      <td>TSFreshFeatureExtractor</td>\n",
       "      <td>&lt;class 'sktime.transformations.panel.tsfresh.T...</td>\n",
       "    </tr>\n",
       "    <tr>\n",
       "      <th>9</th>\n",
       "      <td>Tabularizer</td>\n",
       "      <td>&lt;class 'sktime.transformations.panel.reduce.Ta...</td>\n",
       "    </tr>\n",
       "    <tr>\n",
       "      <th>10</th>\n",
       "      <td>TimeBinner</td>\n",
       "      <td>&lt;class 'sktime.transformations.panel.reduce.Ti...</td>\n",
       "    </tr>\n",
       "  </tbody>\n",
       "</table>\n",
       "</div>"
      ],
      "text/plain": [
       "                              name  \\\n",
       "0                          Catch22   \n",
       "1                   Catch22Wrapper   \n",
       "2             FittedParamExtractor   \n",
       "3   RandomIntervalFeatureExtractor   \n",
       "4                  RandomIntervals   \n",
       "5          RandomShapeletTransform   \n",
       "6             SignatureTransformer   \n",
       "7               SummaryTransformer   \n",
       "8          TSFreshFeatureExtractor   \n",
       "9                      Tabularizer   \n",
       "10                      TimeBinner   \n",
       "\n",
       "                                               object  \n",
       "0   <class 'sktime.transformations.panel.catch22.C...  \n",
       "1   <class 'sktime.transformations.panel.catch22wr...  \n",
       "2   <class 'sktime.transformations.panel.summarize...  \n",
       "3   <class 'sktime.transformations.panel.summarize...  \n",
       "4   <class 'sktime.transformations.panel.random_in...  \n",
       "5   <class 'sktime.transformations.panel.shapelet_...  \n",
       "6   <class 'sktime.transformations.panel.signature...  \n",
       "7   <class 'sktime.transformations.series.summariz...  \n",
       "8   <class 'sktime.transformations.panel.tsfresh.T...  \n",
       "9   <class 'sktime.transformations.panel.reduce.Ta...  \n",
       "10  <class 'sktime.transformations.panel.reduce.Ti...  "
      ]
     },
     "execution_count": 90,
     "metadata": {},
     "output_type": "execute_result"
    }
   ],
   "source": [
    "# example: looking for all series-to-primitive transformers that are instance-wise\n",
    "from sktime.registry import all_estimators\n",
    "\n",
    "all_estimators(\n",
    "    \"transformer\",\n",
    "    as_dataframe=True,\n",
    "    filter_tags={\n",
    "        \"scitype:transform-input\": \"Series\",\n",
    "        \"scitype:transform-output\": \"Primitives\",\n",
    "        \"scitype:instancewise\": True,\n",
    "    },\n",
    ")"
   ]
  },
  {
   "attachments": {},
   "cell_type": "markdown",
   "metadata": {},
   "source": [
    "Further details on transformations and feature extraction can be found in the tutorial 3, transformers.\n",
    "\n",
    "All composition steps therein (e.g., chaining, column subsetting) work together with all estimator types in `sktime`, including classifiers, regressors, clusterers."
   ]
  },
  {
   "attachments": {},
   "cell_type": "markdown",
   "metadata": {},
   "source": [
    "### 2.4.2 Pipelines for time series panel tasks"
   ]
  },
  {
   "attachments": {},
   "cell_type": "markdown",
   "metadata": {},
   "source": [
    "all panel estimators pipeline with `sktime` transformers, via the `*` dunder or `make_pipeline`.\n",
    "\n",
    "The pipeline does the following:\n",
    "\n",
    "* in `fit`: runs the transformers' `fit_transform` in sequence, then `fit` of the panel estimator\n",
    "* in `predict`, runs the fitted transformers' `transform` in sequence, then `predict` of the panel estimator\n",
    "\n",
    "(same logic as for `sklearn` pipelines)"
   ]
  },
  {
   "cell_type": "code",
   "execution_count": 91,
   "metadata": {},
   "outputs": [
    {
     "data": {
      "text/html": [
       "<style>#sk-f4969757-9ff9-4374-a6ed-d5f42cbe1b49 {color: black;background-color: white;}#sk-f4969757-9ff9-4374-a6ed-d5f42cbe1b49 pre{padding: 0;}#sk-f4969757-9ff9-4374-a6ed-d5f42cbe1b49 div.sk-toggleable {background-color: white;}#sk-f4969757-9ff9-4374-a6ed-d5f42cbe1b49 label.sk-toggleable__label {cursor: pointer;display: block;width: 100%;margin-bottom: 0;padding: 0.3em;box-sizing: border-box;text-align: center;}#sk-f4969757-9ff9-4374-a6ed-d5f42cbe1b49 label.sk-toggleable__label-arrow:before {content: \"▸\";float: left;margin-right: 0.25em;color: #696969;}#sk-f4969757-9ff9-4374-a6ed-d5f42cbe1b49 label.sk-toggleable__label-arrow:hover:before {color: black;}#sk-f4969757-9ff9-4374-a6ed-d5f42cbe1b49 div.sk-estimator:hover label.sk-toggleable__label-arrow:before {color: black;}#sk-f4969757-9ff9-4374-a6ed-d5f42cbe1b49 div.sk-toggleable__content {max-height: 0;max-width: 0;overflow: hidden;text-align: left;background-color: #f0f8ff;}#sk-f4969757-9ff9-4374-a6ed-d5f42cbe1b49 div.sk-toggleable__content pre {margin: 0.2em;color: black;border-radius: 0.25em;background-color: #f0f8ff;}#sk-f4969757-9ff9-4374-a6ed-d5f42cbe1b49 input.sk-toggleable__control:checked~div.sk-toggleable__content {max-height: 200px;max-width: 100%;overflow: auto;}#sk-f4969757-9ff9-4374-a6ed-d5f42cbe1b49 input.sk-toggleable__control:checked~label.sk-toggleable__label-arrow:before {content: \"▾\";}#sk-f4969757-9ff9-4374-a6ed-d5f42cbe1b49 div.sk-estimator input.sk-toggleable__control:checked~label.sk-toggleable__label {background-color: #d4ebff;}#sk-f4969757-9ff9-4374-a6ed-d5f42cbe1b49 div.sk-label input.sk-toggleable__control:checked~label.sk-toggleable__label {background-color: #d4ebff;}#sk-f4969757-9ff9-4374-a6ed-d5f42cbe1b49 input.sk-hidden--visually {border: 0;clip: rect(1px 1px 1px 1px);clip: rect(1px, 1px, 1px, 1px);height: 1px;margin: -1px;overflow: hidden;padding: 0;position: absolute;width: 1px;}#sk-f4969757-9ff9-4374-a6ed-d5f42cbe1b49 div.sk-estimator {font-family: monospace;background-color: #f0f8ff;border: 1px dotted black;border-radius: 0.25em;box-sizing: border-box;margin-bottom: 0.5em;}#sk-f4969757-9ff9-4374-a6ed-d5f42cbe1b49 div.sk-estimator:hover {background-color: #d4ebff;}#sk-f4969757-9ff9-4374-a6ed-d5f42cbe1b49 div.sk-parallel-item::after {content: \"\";width: 100%;border-bottom: 1px solid gray;flex-grow: 1;}#sk-f4969757-9ff9-4374-a6ed-d5f42cbe1b49 div.sk-label:hover label.sk-toggleable__label {background-color: #d4ebff;}#sk-f4969757-9ff9-4374-a6ed-d5f42cbe1b49 div.sk-serial::before {content: \"\";position: absolute;border-left: 1px solid gray;box-sizing: border-box;top: 2em;bottom: 0;left: 50%;}#sk-f4969757-9ff9-4374-a6ed-d5f42cbe1b49 div.sk-serial {display: flex;flex-direction: column;align-items: center;background-color: white;padding-right: 0.2em;padding-left: 0.2em;}#sk-f4969757-9ff9-4374-a6ed-d5f42cbe1b49 div.sk-item {z-index: 1;}#sk-f4969757-9ff9-4374-a6ed-d5f42cbe1b49 div.sk-parallel {display: flex;align-items: stretch;justify-content: center;background-color: white;}#sk-f4969757-9ff9-4374-a6ed-d5f42cbe1b49 div.sk-parallel::before {content: \"\";position: absolute;border-left: 1px solid gray;box-sizing: border-box;top: 2em;bottom: 0;left: 50%;}#sk-f4969757-9ff9-4374-a6ed-d5f42cbe1b49 div.sk-parallel-item {display: flex;flex-direction: column;position: relative;background-color: white;}#sk-f4969757-9ff9-4374-a6ed-d5f42cbe1b49 div.sk-parallel-item:first-child::after {align-self: flex-end;width: 50%;}#sk-f4969757-9ff9-4374-a6ed-d5f42cbe1b49 div.sk-parallel-item:last-child::after {align-self: flex-start;width: 50%;}#sk-f4969757-9ff9-4374-a6ed-d5f42cbe1b49 div.sk-parallel-item:only-child::after {width: 0;}#sk-f4969757-9ff9-4374-a6ed-d5f42cbe1b49 div.sk-dashed-wrapped {border: 1px dashed gray;margin: 0 0.4em 0.5em 0.4em;box-sizing: border-box;padding-bottom: 0.4em;background-color: white;position: relative;}#sk-f4969757-9ff9-4374-a6ed-d5f42cbe1b49 div.sk-label label {font-family: monospace;font-weight: bold;background-color: white;display: inline-block;line-height: 1.2em;}#sk-f4969757-9ff9-4374-a6ed-d5f42cbe1b49 div.sk-label-container {position: relative;z-index: 2;text-align: center;}#sk-f4969757-9ff9-4374-a6ed-d5f42cbe1b49 div.sk-container {/* jupyter's `normalize.less` sets `[hidden] { display: none; }` but bootstrap.min.css set `[hidden] { display: none !important; }` so we also need the `!important` here to be able to override the default hidden behavior on the sphinx rendered scikit-learn.org. See: https://github.com/scikit-learn/scikit-learn/issues/21755 */display: inline-block !important;position: relative;}#sk-f4969757-9ff9-4374-a6ed-d5f42cbe1b49 div.sk-text-repr-fallback {display: none;}</style><div id='sk-f4969757-9ff9-4374-a6ed-d5f42cbe1b49' class=\"sk-top-container\"><div class=\"sk-text-repr-fallback\"><pre>ClassifierPipeline(classifier=KNeighborsTimeSeriesClassifier(),\n",
       "                   transformers=[ExponentTransformer()])</pre><b>Please rerun this cell to show the HTML repr or trust the notebook.</b></div><div class=\"sk-container\" hidden><div class=\"sk-item sk-dashed-wrapped\"><div class='sk-label-container'><div class=\"sk-label sk-toggleable\"><input class=\"sk-toggleable__control sk-hidden--visually\" id=UUID('672fd1c5-637a-4522-a394-23062da900c5') type=\"checkbox\" ><label for=UUID('672fd1c5-637a-4522-a394-23062da900c5') class='sk-toggleable__label sk-toggleable__label-arrow'>ClassifierPipeline</label><div class=\"sk-toggleable__content\"><pre>ClassifierPipeline(classifier=KNeighborsTimeSeriesClassifier(),\n",
       "                   transformers=[ExponentTransformer()])</pre></div></div></div><div class=\"sk-parallel\"><div class=\"sk-parallel-item\"><div class=\"sk-item\"><div class=\"sk-serial\"><div class='sk-item'><div class=\"sk-estimator sk-toggleable\"><input class=\"sk-toggleable__control sk-hidden--visually\" id=UUID('a4a8795f-3be2-4bef-a65d-a4707887ae0c') type=\"checkbox\" ><label for=UUID('a4a8795f-3be2-4bef-a65d-a4707887ae0c') class='sk-toggleable__label sk-toggleable__label-arrow'>KNeighborsTimeSeriesClassifier</label><div class=\"sk-toggleable__content\"><pre>KNeighborsTimeSeriesClassifier()</pre></div></div></div></div></div></div><div class=\"sk-parallel-item\"><div class=\"sk-item\"><div class=\"sk-serial\"><div class='sk-item'><div class=\"sk-estimator sk-toggleable\"><input class=\"sk-toggleable__control sk-hidden--visually\" id=UUID('93d9e9bc-7b0e-4b85-acb1-753bea57be9f') type=\"checkbox\" ><label for=UUID('93d9e9bc-7b0e-4b85-acb1-753bea57be9f') class='sk-toggleable__label sk-toggleable__label-arrow'>ExponentTransformer</label><div class=\"sk-toggleable__content\"><pre>ExponentTransformer()</pre></div></div></div></div></div></div></div></div></div></div>"
      ],
      "text/plain": [
       "ClassifierPipeline(classifier=KNeighborsTimeSeriesClassifier(),\n",
       "                   transformers=[ExponentTransformer()])"
      ]
     },
     "execution_count": 91,
     "metadata": {},
     "output_type": "execute_result"
    }
   ],
   "source": [
    "from sktime.classification.distance_based import KNeighborsTimeSeriesClassifier\n",
    "from sktime.transformations.series.exponent import ExponentTransformer\n",
    "\n",
    "pipe = ExponentTransformer() * KNeighborsTimeSeriesClassifier()\n",
    "\n",
    "# this constructs a ClassifierPipeline, which is also a classifier\n",
    "pipe"
   ]
  },
  {
   "cell_type": "code",
   "execution_count": 92,
   "metadata": {},
   "outputs": [],
   "source": [
    "# alternative to construct:\n",
    "from sktime.pipeline import make_pipeline\n",
    "\n",
    "pipe = make_pipeline(ExponentTransformer(), KNeighborsTimeSeriesClassifier())"
   ]
  },
  {
   "cell_type": "code",
   "execution_count": 93,
   "metadata": {},
   "outputs": [
    {
     "data": {
      "text/html": [
       "<style>#sk-3f64dd6b-64aa-49ba-bb3f-69c44d7a285b {color: black;background-color: white;}#sk-3f64dd6b-64aa-49ba-bb3f-69c44d7a285b pre{padding: 0;}#sk-3f64dd6b-64aa-49ba-bb3f-69c44d7a285b div.sk-toggleable {background-color: white;}#sk-3f64dd6b-64aa-49ba-bb3f-69c44d7a285b label.sk-toggleable__label {cursor: pointer;display: block;width: 100%;margin-bottom: 0;padding: 0.3em;box-sizing: border-box;text-align: center;}#sk-3f64dd6b-64aa-49ba-bb3f-69c44d7a285b label.sk-toggleable__label-arrow:before {content: \"▸\";float: left;margin-right: 0.25em;color: #696969;}#sk-3f64dd6b-64aa-49ba-bb3f-69c44d7a285b label.sk-toggleable__label-arrow:hover:before {color: black;}#sk-3f64dd6b-64aa-49ba-bb3f-69c44d7a285b div.sk-estimator:hover label.sk-toggleable__label-arrow:before {color: black;}#sk-3f64dd6b-64aa-49ba-bb3f-69c44d7a285b div.sk-toggleable__content {max-height: 0;max-width: 0;overflow: hidden;text-align: left;background-color: #f0f8ff;}#sk-3f64dd6b-64aa-49ba-bb3f-69c44d7a285b div.sk-toggleable__content pre {margin: 0.2em;color: black;border-radius: 0.25em;background-color: #f0f8ff;}#sk-3f64dd6b-64aa-49ba-bb3f-69c44d7a285b input.sk-toggleable__control:checked~div.sk-toggleable__content {max-height: 200px;max-width: 100%;overflow: auto;}#sk-3f64dd6b-64aa-49ba-bb3f-69c44d7a285b input.sk-toggleable__control:checked~label.sk-toggleable__label-arrow:before {content: \"▾\";}#sk-3f64dd6b-64aa-49ba-bb3f-69c44d7a285b div.sk-estimator input.sk-toggleable__control:checked~label.sk-toggleable__label {background-color: #d4ebff;}#sk-3f64dd6b-64aa-49ba-bb3f-69c44d7a285b div.sk-label input.sk-toggleable__control:checked~label.sk-toggleable__label {background-color: #d4ebff;}#sk-3f64dd6b-64aa-49ba-bb3f-69c44d7a285b input.sk-hidden--visually {border: 0;clip: rect(1px 1px 1px 1px);clip: rect(1px, 1px, 1px, 1px);height: 1px;margin: -1px;overflow: hidden;padding: 0;position: absolute;width: 1px;}#sk-3f64dd6b-64aa-49ba-bb3f-69c44d7a285b div.sk-estimator {font-family: monospace;background-color: #f0f8ff;border: 1px dotted black;border-radius: 0.25em;box-sizing: border-box;margin-bottom: 0.5em;}#sk-3f64dd6b-64aa-49ba-bb3f-69c44d7a285b div.sk-estimator:hover {background-color: #d4ebff;}#sk-3f64dd6b-64aa-49ba-bb3f-69c44d7a285b div.sk-parallel-item::after {content: \"\";width: 100%;border-bottom: 1px solid gray;flex-grow: 1;}#sk-3f64dd6b-64aa-49ba-bb3f-69c44d7a285b div.sk-label:hover label.sk-toggleable__label {background-color: #d4ebff;}#sk-3f64dd6b-64aa-49ba-bb3f-69c44d7a285b div.sk-serial::before {content: \"\";position: absolute;border-left: 1px solid gray;box-sizing: border-box;top: 2em;bottom: 0;left: 50%;}#sk-3f64dd6b-64aa-49ba-bb3f-69c44d7a285b div.sk-serial {display: flex;flex-direction: column;align-items: center;background-color: white;padding-right: 0.2em;padding-left: 0.2em;}#sk-3f64dd6b-64aa-49ba-bb3f-69c44d7a285b div.sk-item {z-index: 1;}#sk-3f64dd6b-64aa-49ba-bb3f-69c44d7a285b div.sk-parallel {display: flex;align-items: stretch;justify-content: center;background-color: white;}#sk-3f64dd6b-64aa-49ba-bb3f-69c44d7a285b div.sk-parallel::before {content: \"\";position: absolute;border-left: 1px solid gray;box-sizing: border-box;top: 2em;bottom: 0;left: 50%;}#sk-3f64dd6b-64aa-49ba-bb3f-69c44d7a285b div.sk-parallel-item {display: flex;flex-direction: column;position: relative;background-color: white;}#sk-3f64dd6b-64aa-49ba-bb3f-69c44d7a285b div.sk-parallel-item:first-child::after {align-self: flex-end;width: 50%;}#sk-3f64dd6b-64aa-49ba-bb3f-69c44d7a285b div.sk-parallel-item:last-child::after {align-self: flex-start;width: 50%;}#sk-3f64dd6b-64aa-49ba-bb3f-69c44d7a285b div.sk-parallel-item:only-child::after {width: 0;}#sk-3f64dd6b-64aa-49ba-bb3f-69c44d7a285b div.sk-dashed-wrapped {border: 1px dashed gray;margin: 0 0.4em 0.5em 0.4em;box-sizing: border-box;padding-bottom: 0.4em;background-color: white;position: relative;}#sk-3f64dd6b-64aa-49ba-bb3f-69c44d7a285b div.sk-label label {font-family: monospace;font-weight: bold;background-color: white;display: inline-block;line-height: 1.2em;}#sk-3f64dd6b-64aa-49ba-bb3f-69c44d7a285b div.sk-label-container {position: relative;z-index: 2;text-align: center;}#sk-3f64dd6b-64aa-49ba-bb3f-69c44d7a285b div.sk-container {/* jupyter's `normalize.less` sets `[hidden] { display: none; }` but bootstrap.min.css set `[hidden] { display: none !important; }` so we also need the `!important` here to be able to override the default hidden behavior on the sphinx rendered scikit-learn.org. See: https://github.com/scikit-learn/scikit-learn/issues/21755 */display: inline-block !important;position: relative;}#sk-3f64dd6b-64aa-49ba-bb3f-69c44d7a285b div.sk-text-repr-fallback {display: none;}</style><div id='sk-3f64dd6b-64aa-49ba-bb3f-69c44d7a285b' class=\"sk-top-container\"><div class=\"sk-text-repr-fallback\"><pre>ClassifierPipeline(classifier=KNeighborsTimeSeriesClassifier(),\n",
       "                   transformers=[ExponentTransformer()])</pre><b>Please rerun this cell to show the HTML repr or trust the notebook.</b></div><div class=\"sk-container\" hidden><div class=\"sk-item sk-dashed-wrapped\"><div class='sk-label-container'><div class=\"sk-label sk-toggleable\"><input class=\"sk-toggleable__control sk-hidden--visually\" id=UUID('4bfbba55-75e5-4631-a4e7-c638502d16cf') type=\"checkbox\" ><label for=UUID('4bfbba55-75e5-4631-a4e7-c638502d16cf') class='sk-toggleable__label sk-toggleable__label-arrow'>ClassifierPipeline</label><div class=\"sk-toggleable__content\"><pre>ClassifierPipeline(classifier=KNeighborsTimeSeriesClassifier(),\n",
       "                   transformers=[ExponentTransformer()])</pre></div></div></div><div class=\"sk-parallel\"><div class=\"sk-parallel-item\"><div class=\"sk-item\"><div class=\"sk-serial\"><div class='sk-item'><div class=\"sk-estimator sk-toggleable\"><input class=\"sk-toggleable__control sk-hidden--visually\" id=UUID('26776eb2-e716-4755-bcc8-fc6a882b2aab') type=\"checkbox\" ><label for=UUID('26776eb2-e716-4755-bcc8-fc6a882b2aab') class='sk-toggleable__label sk-toggleable__label-arrow'>KNeighborsTimeSeriesClassifier</label><div class=\"sk-toggleable__content\"><pre>KNeighborsTimeSeriesClassifier()</pre></div></div></div></div></div></div><div class=\"sk-parallel-item\"><div class=\"sk-item\"><div class=\"sk-serial\"><div class='sk-item'><div class=\"sk-estimator sk-toggleable\"><input class=\"sk-toggleable__control sk-hidden--visually\" id=UUID('2a123e31-3569-41b9-b640-ea4d0b0b0bbf') type=\"checkbox\" ><label for=UUID('2a123e31-3569-41b9-b640-ea4d0b0b0bbf') class='sk-toggleable__label sk-toggleable__label-arrow'>ExponentTransformer</label><div class=\"sk-toggleable__content\"><pre>ExponentTransformer()</pre></div></div></div></div></div></div></div></div></div></div>"
      ],
      "text/plain": [
       "ClassifierPipeline(classifier=KNeighborsTimeSeriesClassifier(),\n",
       "                   transformers=[ExponentTransformer()])"
      ]
     },
     "execution_count": 93,
     "metadata": {},
     "output_type": "execute_result"
    }
   ],
   "source": [
    "from sktime.datasets import load_unit_test\n",
    "\n",
    "X_train, y_train = load_unit_test(split=\"TRAIN\")\n",
    "X_test, _ = load_unit_test(split=\"TEST\")\n",
    "\n",
    "# this is a forecaster with the same interface as knn-classifier\n",
    "# first applies exponent transform, then knn-classifier\n",
    "pipe.fit(X_train, y_train)"
   ]
  },
  {
   "attachments": {},
   "cell_type": "markdown",
   "metadata": {},
   "source": [
    "`sktime` transformers pipeline with `sklearn` classifiers!\n",
    "\n",
    "This allows to build \"time series feature extraction then `sklearn` classify`\" pipelines:"
   ]
  },
  {
   "cell_type": "code",
   "execution_count": 94,
   "metadata": {},
   "outputs": [
    {
     "data": {
      "text/html": [
       "<style>#sk-190bb967-002b-44df-b05c-67d44ddbd225 {color: black;background-color: white;}#sk-190bb967-002b-44df-b05c-67d44ddbd225 pre{padding: 0;}#sk-190bb967-002b-44df-b05c-67d44ddbd225 div.sk-toggleable {background-color: white;}#sk-190bb967-002b-44df-b05c-67d44ddbd225 label.sk-toggleable__label {cursor: pointer;display: block;width: 100%;margin-bottom: 0;padding: 0.3em;box-sizing: border-box;text-align: center;}#sk-190bb967-002b-44df-b05c-67d44ddbd225 label.sk-toggleable__label-arrow:before {content: \"▸\";float: left;margin-right: 0.25em;color: #696969;}#sk-190bb967-002b-44df-b05c-67d44ddbd225 label.sk-toggleable__label-arrow:hover:before {color: black;}#sk-190bb967-002b-44df-b05c-67d44ddbd225 div.sk-estimator:hover label.sk-toggleable__label-arrow:before {color: black;}#sk-190bb967-002b-44df-b05c-67d44ddbd225 div.sk-toggleable__content {max-height: 0;max-width: 0;overflow: hidden;text-align: left;background-color: #f0f8ff;}#sk-190bb967-002b-44df-b05c-67d44ddbd225 div.sk-toggleable__content pre {margin: 0.2em;color: black;border-radius: 0.25em;background-color: #f0f8ff;}#sk-190bb967-002b-44df-b05c-67d44ddbd225 input.sk-toggleable__control:checked~div.sk-toggleable__content {max-height: 200px;max-width: 100%;overflow: auto;}#sk-190bb967-002b-44df-b05c-67d44ddbd225 input.sk-toggleable__control:checked~label.sk-toggleable__label-arrow:before {content: \"▾\";}#sk-190bb967-002b-44df-b05c-67d44ddbd225 div.sk-estimator input.sk-toggleable__control:checked~label.sk-toggleable__label {background-color: #d4ebff;}#sk-190bb967-002b-44df-b05c-67d44ddbd225 div.sk-label input.sk-toggleable__control:checked~label.sk-toggleable__label {background-color: #d4ebff;}#sk-190bb967-002b-44df-b05c-67d44ddbd225 input.sk-hidden--visually {border: 0;clip: rect(1px 1px 1px 1px);clip: rect(1px, 1px, 1px, 1px);height: 1px;margin: -1px;overflow: hidden;padding: 0;position: absolute;width: 1px;}#sk-190bb967-002b-44df-b05c-67d44ddbd225 div.sk-estimator {font-family: monospace;background-color: #f0f8ff;border: 1px dotted black;border-radius: 0.25em;box-sizing: border-box;margin-bottom: 0.5em;}#sk-190bb967-002b-44df-b05c-67d44ddbd225 div.sk-estimator:hover {background-color: #d4ebff;}#sk-190bb967-002b-44df-b05c-67d44ddbd225 div.sk-parallel-item::after {content: \"\";width: 100%;border-bottom: 1px solid gray;flex-grow: 1;}#sk-190bb967-002b-44df-b05c-67d44ddbd225 div.sk-label:hover label.sk-toggleable__label {background-color: #d4ebff;}#sk-190bb967-002b-44df-b05c-67d44ddbd225 div.sk-serial::before {content: \"\";position: absolute;border-left: 1px solid gray;box-sizing: border-box;top: 2em;bottom: 0;left: 50%;}#sk-190bb967-002b-44df-b05c-67d44ddbd225 div.sk-serial {display: flex;flex-direction: column;align-items: center;background-color: white;padding-right: 0.2em;padding-left: 0.2em;}#sk-190bb967-002b-44df-b05c-67d44ddbd225 div.sk-item {z-index: 1;}#sk-190bb967-002b-44df-b05c-67d44ddbd225 div.sk-parallel {display: flex;align-items: stretch;justify-content: center;background-color: white;}#sk-190bb967-002b-44df-b05c-67d44ddbd225 div.sk-parallel::before {content: \"\";position: absolute;border-left: 1px solid gray;box-sizing: border-box;top: 2em;bottom: 0;left: 50%;}#sk-190bb967-002b-44df-b05c-67d44ddbd225 div.sk-parallel-item {display: flex;flex-direction: column;position: relative;background-color: white;}#sk-190bb967-002b-44df-b05c-67d44ddbd225 div.sk-parallel-item:first-child::after {align-self: flex-end;width: 50%;}#sk-190bb967-002b-44df-b05c-67d44ddbd225 div.sk-parallel-item:last-child::after {align-self: flex-start;width: 50%;}#sk-190bb967-002b-44df-b05c-67d44ddbd225 div.sk-parallel-item:only-child::after {width: 0;}#sk-190bb967-002b-44df-b05c-67d44ddbd225 div.sk-dashed-wrapped {border: 1px dashed gray;margin: 0 0.4em 0.5em 0.4em;box-sizing: border-box;padding-bottom: 0.4em;background-color: white;position: relative;}#sk-190bb967-002b-44df-b05c-67d44ddbd225 div.sk-label label {font-family: monospace;font-weight: bold;background-color: white;display: inline-block;line-height: 1.2em;}#sk-190bb967-002b-44df-b05c-67d44ddbd225 div.sk-label-container {position: relative;z-index: 2;text-align: center;}#sk-190bb967-002b-44df-b05c-67d44ddbd225 div.sk-container {/* jupyter's `normalize.less` sets `[hidden] { display: none; }` but bootstrap.min.css set `[hidden] { display: none !important; }` so we also need the `!important` here to be able to override the default hidden behavior on the sphinx rendered scikit-learn.org. See: https://github.com/scikit-learn/scikit-learn/issues/21755 */display: inline-block !important;position: relative;}#sk-190bb967-002b-44df-b05c-67d44ddbd225 div.sk-text-repr-fallback {display: none;}</style><div id='sk-190bb967-002b-44df-b05c-67d44ddbd225' class=\"sk-top-container\"><div class=\"sk-text-repr-fallback\"><pre>SklearnClassifierPipeline(classifier=RandomForestClassifier(),\n",
       "                          transformers=[SummaryTransformer()])</pre><b>Please rerun this cell to show the HTML repr or trust the notebook.</b></div><div class=\"sk-container\" hidden><div class=\"sk-item sk-dashed-wrapped\"><div class='sk-label-container'><div class=\"sk-label sk-toggleable\"><input class=\"sk-toggleable__control sk-hidden--visually\" id=UUID('66034ddc-075c-495f-8523-b537f290ac6b') type=\"checkbox\" ><label for=UUID('66034ddc-075c-495f-8523-b537f290ac6b') class='sk-toggleable__label sk-toggleable__label-arrow'>SklearnClassifierPipeline</label><div class=\"sk-toggleable__content\"><pre>SklearnClassifierPipeline(classifier=RandomForestClassifier(),\n",
       "                          transformers=[SummaryTransformer()])</pre></div></div></div><div class=\"sk-parallel\"><div class=\"sk-parallel-item\"><div class=\"sk-item\"><div class=\"sk-serial\"><div class='sk-item'><div class=\"sk-estimator sk-toggleable\"><input class=\"sk-toggleable__control sk-hidden--visually\" id=UUID('45fef833-382e-49ea-b86c-7c5d86d07b4a') type=\"checkbox\" ><label for=UUID('45fef833-382e-49ea-b86c-7c5d86d07b4a') class='sk-toggleable__label sk-toggleable__label-arrow'>RandomForestClassifier</label><div class=\"sk-toggleable__content\"><pre>RandomForestClassifier()</pre></div></div></div></div></div></div><div class=\"sk-parallel-item\"><div class=\"sk-item\"><div class=\"sk-serial\"><div class='sk-item'><div class=\"sk-estimator sk-toggleable\"><input class=\"sk-toggleable__control sk-hidden--visually\" id=UUID('8937ab92-1ddb-4202-8bdd-a2954d5de9c8') type=\"checkbox\" ><label for=UUID('8937ab92-1ddb-4202-8bdd-a2954d5de9c8') class='sk-toggleable__label sk-toggleable__label-arrow'>SummaryTransformer</label><div class=\"sk-toggleable__content\"><pre>SummaryTransformer()</pre></div></div></div></div></div></div></div></div></div></div>"
      ],
      "text/plain": [
       "SklearnClassifierPipeline(classifier=RandomForestClassifier(),\n",
       "                          transformers=[SummaryTransformer()])"
      ]
     },
     "execution_count": 94,
     "metadata": {},
     "output_type": "execute_result"
    }
   ],
   "source": [
    "from sklearn.ensemble import RandomForestClassifier\n",
    "from sktime.transformations.series.summarize import SummaryTransformer\n",
    "\n",
    "# specify summary transformer\n",
    "summary_rf = SummaryTransformer() * RandomForestClassifier()\n",
    "\n",
    "summary_rf.fit(X_train, y_train)"
   ]
  },
  {
   "attachments": {},
   "cell_type": "markdown",
   "metadata": {},
   "source": [
    "### 2.4.3 Using transformers to deal with unequal length or missing values"
   ]
  },
  {
   "attachments": {},
   "cell_type": "markdown",
   "metadata": {},
   "source": [
    "pro tipp: useful transformers to pipeline are those that \"improve\" capabilities!\n",
    "\n",
    "Search for these transformer tags:\n",
    "\n",
    "* `\"capability:unequal_length:removes\"` - ensures all instances in the panel have equal length afterwards. Examples: padding, cutting, resampling.\n",
    "* `\"capability:missing_values:removes\"` - removes all missing values from the data (e.g., series, panel) passed to it. Example: mean imputation"
   ]
  },
  {
   "cell_type": "code",
   "execution_count": 95,
   "metadata": {},
   "outputs": [
    {
     "data": {
      "text/html": [
       "<div>\n",
       "<style scoped>\n",
       "    .dataframe tbody tr th:only-of-type {\n",
       "        vertical-align: middle;\n",
       "    }\n",
       "\n",
       "    .dataframe tbody tr th {\n",
       "        vertical-align: top;\n",
       "    }\n",
       "\n",
       "    .dataframe thead th {\n",
       "        text-align: right;\n",
       "    }\n",
       "</style>\n",
       "<table border=\"1\" class=\"dataframe\">\n",
       "  <thead>\n",
       "    <tr style=\"text-align: right;\">\n",
       "      <th></th>\n",
       "      <th>name</th>\n",
       "      <th>object</th>\n",
       "    </tr>\n",
       "  </thead>\n",
       "  <tbody>\n",
       "    <tr>\n",
       "      <th>0</th>\n",
       "      <td>ClearSky</td>\n",
       "      <td>&lt;class 'sktime.transformations.series.clear_sk...</td>\n",
       "    </tr>\n",
       "    <tr>\n",
       "      <th>1</th>\n",
       "      <td>IntervalSegmenter</td>\n",
       "      <td>&lt;class 'sktime.transformations.panel.segment.I...</td>\n",
       "    </tr>\n",
       "    <tr>\n",
       "      <th>2</th>\n",
       "      <td>PaddingTransformer</td>\n",
       "      <td>&lt;class 'sktime.transformations.panel.padder.Pa...</td>\n",
       "    </tr>\n",
       "    <tr>\n",
       "      <th>3</th>\n",
       "      <td>RandomIntervalSegmenter</td>\n",
       "      <td>&lt;class 'sktime.transformations.panel.segment.R...</td>\n",
       "    </tr>\n",
       "    <tr>\n",
       "      <th>4</th>\n",
       "      <td>SlopeTransformer</td>\n",
       "      <td>&lt;class 'sktime.transformations.panel.slope.Slo...</td>\n",
       "    </tr>\n",
       "    <tr>\n",
       "      <th>5</th>\n",
       "      <td>TimeBinAggregate</td>\n",
       "      <td>&lt;class 'sktime.transformations.series.binning....</td>\n",
       "    </tr>\n",
       "    <tr>\n",
       "      <th>6</th>\n",
       "      <td>TruncationTransformer</td>\n",
       "      <td>&lt;class 'sktime.transformations.panel.truncatio...</td>\n",
       "    </tr>\n",
       "  </tbody>\n",
       "</table>\n",
       "</div>"
      ],
      "text/plain": [
       "                      name                                             object\n",
       "0                 ClearSky  <class 'sktime.transformations.series.clear_sk...\n",
       "1        IntervalSegmenter  <class 'sktime.transformations.panel.segment.I...\n",
       "2       PaddingTransformer  <class 'sktime.transformations.panel.padder.Pa...\n",
       "3  RandomIntervalSegmenter  <class 'sktime.transformations.panel.segment.R...\n",
       "4         SlopeTransformer  <class 'sktime.transformations.panel.slope.Slo...\n",
       "5         TimeBinAggregate  <class 'sktime.transformations.series.binning....\n",
       "6    TruncationTransformer  <class 'sktime.transformations.panel.truncatio..."
      ]
     },
     "execution_count": 95,
     "metadata": {},
     "output_type": "execute_result"
    }
   ],
   "source": [
    "# all transformers that guarantee that the output is equal length and equal index\n",
    "from sktime.registry import all_estimators\n",
    "\n",
    "all_estimators(\"transformer\", as_dataframe=True, filter_tags={\"capability:unequal_length:removes\": True })"
   ]
  },
  {
   "cell_type": "code",
   "execution_count": 96,
   "metadata": {},
   "outputs": [
    {
     "data": {
      "text/html": [
       "<div>\n",
       "<style scoped>\n",
       "    .dataframe tbody tr th:only-of-type {\n",
       "        vertical-align: middle;\n",
       "    }\n",
       "\n",
       "    .dataframe tbody tr th {\n",
       "        vertical-align: top;\n",
       "    }\n",
       "\n",
       "    .dataframe thead th {\n",
       "        text-align: right;\n",
       "    }\n",
       "</style>\n",
       "<table border=\"1\" class=\"dataframe\">\n",
       "  <thead>\n",
       "    <tr style=\"text-align: right;\">\n",
       "      <th></th>\n",
       "      <th>name</th>\n",
       "      <th>object</th>\n",
       "    </tr>\n",
       "  </thead>\n",
       "  <tbody>\n",
       "    <tr>\n",
       "      <th>0</th>\n",
       "      <td>ClearSky</td>\n",
       "      <td>&lt;class 'sktime.transformations.series.clear_sk...</td>\n",
       "    </tr>\n",
       "    <tr>\n",
       "      <th>1</th>\n",
       "      <td>Imputer</td>\n",
       "      <td>&lt;class 'sktime.transformations.series.impute.I...</td>\n",
       "    </tr>\n",
       "  </tbody>\n",
       "</table>\n",
       "</div>"
      ],
      "text/plain": [
       "       name                                             object\n",
       "0  ClearSky  <class 'sktime.transformations.series.clear_sk...\n",
       "1   Imputer  <class 'sktime.transformations.series.impute.I..."
      ]
     },
     "execution_count": 96,
     "metadata": {},
     "output_type": "execute_result"
    }
   ],
   "source": [
    "# all transformers that guarantee the output has no missing values\n",
    "from sktime.registry import all_estimators\n",
    "\n",
    "all_estimators(\"transformer\", as_dataframe=True, filter_tags={\"capability:missing_values:removes\": True })"
   ]
  },
  {
   "attachments": {},
   "cell_type": "markdown",
   "metadata": {},
   "source": [
    "minor note:\n",
    "\n",
    "some transformers guarantee \"no missing values\" under some conditions but not always, e.g., `TimeBinAggregate`"
   ]
  },
  {
   "attachments": {},
   "cell_type": "markdown",
   "metadata": {},
   "source": [
    "let's check the tags in one example"
   ]
  },
  {
   "cell_type": "code",
   "execution_count": 97,
   "metadata": {},
   "outputs": [
    {
     "data": {
      "text/plain": [
       "{'X_inner_mtype': 'numpy3D',\n",
       " 'capability:multivariate': False,\n",
       " 'capability:unequal_length': False,\n",
       " 'capability:missing_values': False,\n",
       " 'capability:train_estimate': False,\n",
       " 'capability:contractable': False,\n",
       " 'capability:multithreading': True,\n",
       " 'capability:predict_proba': True,\n",
       " 'python_version': None,\n",
       " 'requires_cython': False,\n",
       " 'classifier_type': 'distance'}"
      ]
     },
     "execution_count": 97,
     "metadata": {},
     "output_type": "execute_result"
    }
   ],
   "source": [
    "# list all classifiers in sktime\n",
    "from sktime.classification.feature_based import MatrixProfileClassifier\n",
    "\n",
    "no_missing_clf = MatrixProfileClassifier()\n",
    "\n",
    "no_missing_clf.get_tags()"
   ]
  },
  {
   "cell_type": "code",
   "execution_count": 98,
   "metadata": {},
   "outputs": [
    {
     "data": {
      "text/plain": [
       "{'X_inner_mtype': 'pd-multiindex',\n",
       " 'capability:multivariate': False,\n",
       " 'capability:unequal_length': False,\n",
       " 'capability:missing_values': True,\n",
       " 'capability:train_estimate': False,\n",
       " 'capability:contractable': False,\n",
       " 'capability:multithreading': False,\n",
       " 'capability:predict_proba': True,\n",
       " 'python_version': None,\n",
       " 'requires_cython': False}"
      ]
     },
     "execution_count": 98,
     "metadata": {},
     "output_type": "execute_result"
    }
   ],
   "source": [
    "from sktime.transformations.series.impute import Imputer\n",
    "\n",
    "clf_can_do_missing = Imputer() * MatrixProfileClassifier()\n",
    "\n",
    "clf_can_do_missing.get_tags()"
   ]
  },
  {
   "attachments": {},
   "cell_type": "markdown",
   "metadata": {},
   "source": [
    "### 2.4.4 Tuning and model selection"
   ]
  },
  {
   "attachments": {},
   "cell_type": "markdown",
   "metadata": {},
   "source": [
    "`sktime` classifiers are compatible with `sklearn` model selection and composition tools using `sktime` data formats.\n",
    "\n",
    "This extends to grid tuning and cross-validation, as long as `numpy` based formats or length/instance indexed formats are used."
   ]
  },
  {
   "cell_type": "code",
   "execution_count": 99,
   "metadata": {},
   "outputs": [],
   "source": [
    "from sktime.datasets import load_unit_test\n",
    "\n",
    "X_train, y_train = load_unit_test(split=\"TRAIN\")\n",
    "X_test, _ = load_unit_test(split=\"TEST\")\n"
   ]
  },
  {
   "attachments": {},
   "cell_type": "markdown",
   "metadata": {},
   "source": [
    "Cross-validation using the `sklearn` `cross_val_score` and `KFold` functionality:"
   ]
  },
  {
   "cell_type": "code",
   "execution_count": 100,
   "metadata": {},
   "outputs": [
    {
     "data": {
      "text/plain": [
       "array([1. , 0.8, 0.6, 0.8])"
      ]
     },
     "execution_count": 100,
     "metadata": {},
     "output_type": "execute_result"
    }
   ],
   "source": [
    "from sklearn.model_selection import KFold, cross_val_score\n",
    "from sktime.classification.feature_based import MatrixProfileClassifier\n",
    "\n",
    "clf = MatrixProfileClassifier()\n",
    "\n",
    "cross_val_score(clf, X_train, y=y_train, cv=KFold(n_splits=4))"
   ]
  },
  {
   "attachments": {},
   "cell_type": "markdown",
   "metadata": {},
   "source": [
    "Parameter tuning using `sklearn` `GridSearchCV`, we tune the _k_ and distance measure for a K-NN classifier:"
   ]
  },
  {
   "cell_type": "code",
   "execution_count": 101,
   "metadata": {},
   "outputs": [],
   "source": [
    "from sklearn.model_selection import GridSearchCV\n",
    "\n",
    "from sktime.classification.distance_based import KNeighborsTimeSeriesClassifier\n",
    "\n",
    "knn = KNeighborsTimeSeriesClassifier()\n",
    "param_grid = {\"n_neighbors\": [1, 5], \"distance\": [\"euclidean\", \"dtw\"]}\n",
    "parameter_tuning_method = GridSearchCV(knn, param_grid, cv=KFold(n_splits=4))\n",
    "\n",
    "parameter_tuning_method.fit(X_train, y_train)\n",
    "y_pred = parameter_tuning_method.predict(X_test)"
   ]
  },
  {
   "attachments": {},
   "cell_type": "markdown",
   "metadata": {},
   "source": [
    "### 2.4.5 Advanced Composition cheat sheet - AutoML, bagging, ensembles"
   ]
  },
  {
   "attachments": {},
   "cell_type": "markdown",
   "metadata": {},
   "source": [
    "* common ensembling patterns: `BaggingClassifier`, `WeightedEnsembleClassifier`\n",
    "* composability with `sklearn` classifier, regressor building blocks still applies\n",
    "* AutoML can be achieved by combining tuning with `MultiplexClassifier` or `MultiplexTransformer`"
   ]
  },
  {
   "attachments": {},
   "cell_type": "markdown",
   "metadata": {},
   "source": [
    "pro tipp: bagging with a fixed single column subset can be used to turn an univariate classifier into a multivariate classifier!"
   ]
  },
  {
   "attachments": {},
   "cell_type": "markdown",
   "metadata": {},
   "source": [
    "## 2.5 Appendix - Extension guide"
   ]
  },
  {
   "attachments": {},
   "cell_type": "markdown",
   "metadata": {},
   "source": [
    "`sktime` is meant to be easily extensible, for direct contribution to `sktime` as well as for local/private extension with custom methods.\n",
    "\n",
    "To extend `sktime` with a new local or contributed estimator, a good workflow to follow is:\n",
    "\n",
    "0. find the right extension template for the type of estimator you want to add - e.g., classifier, regressor, clusterer, etc. The extension templates are located in the [`extension_templates](https://github.com/sktime/sktime/blob/main/extension_templates) directory\n",
    "1. read through the extension template - this is a `python` file with `todo` blocks that mark the places in which changes need to be added.\n",
    "2. optionally, if you are planning any major surgeries to the interface: look at the base class - note that \"ordinary\" extension (e.g., new algorithm) should be easily doable without this.\n",
    "3. copy the extension template to a local folder in your own repository (local/private extension), or to a suitable location in your clone of the `sktime` or affiliated repository (if contributed extension), inside `sktime.[name_of_task]`; rename the file and update the file docstring appropriately.\n",
    "4. address the \"todo\" parts. Usually, this means: changing the name of the class, setting the tag values, specifying hyper-parameters, filling in `__init__`, `_fit`, `_predict` and/or other methods (for details see the extension template). You can add private methods as long as they do not override the default public interface. For more details, see the extension template.\n",
    "5. to test your estimator manually: import your estimator and run it in the basic vignettes above.\n",
    "6. to test your estimator automatically: call `sktime.tests.test_all_estimators.check_estimator` on your estimator. You can call this on a class or object instance. Ensure you have specified test parameters in the `get_test_params` method, according to the extension template.\n",
    "\n",
    "In case of direct contribution to `sktime` or one of its affiliated packages, additionally:\n",
    "* add yourself as an author to the code, and to the `CODEOWNERS` for the new estimator file(s).\n",
    "* create a pull request that contains only the new estimators (and their inheritance tree, if it's not just one class), as well as the automated tests as described above.\n",
    "* in the pull request, describe the estimator and optimally provide a publication or other technical reference for the strategy it implements.\n",
    "* before making the pull request, ensure that you have all necessary permissions to contribute the code to a permissive license (BSD-3) open source project."
   ]
  },
  {
   "attachments": {},
   "cell_type": "markdown",
   "metadata": {},
   "source": [
    "---\n",
    "\n",
    "### Credits: notebook 2 - time series panel tasks - classification, regression, clustering\n",
    "\n",
    "notebook creation: "
   ]
  }
 ],
 "metadata": {
  "kernelspec": {
   "display_name": "sktime-dl",
   "language": "python",
   "name": "python3"
  },
  "language_info": {
   "codemirror_mode": {
    "name": "ipython",
    "version": 3
   },
   "file_extension": ".py",
   "mimetype": "text/x-python",
   "name": "python",
   "nbconvert_exporter": "python",
   "pygments_lexer": "ipython3",
   "version": "3.10.11"
  },
  "orig_nbformat": 4
 },
 "nbformat": 4,
 "nbformat_minor": 2
}
