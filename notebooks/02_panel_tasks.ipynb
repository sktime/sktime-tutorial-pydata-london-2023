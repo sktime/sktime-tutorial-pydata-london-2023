{
 "cells": [
  {
   "attachments": {},
   "cell_type": "markdown",
   "metadata": {},
   "source": [
    "# 2. Panel Tasks - Classification, Regression, Clustering & Pipelines\n",
    "\n",
    "#### What are Panel tasks?\n",
    "\n",
    "Panel tasks refers to a type of learning problem where a Panel of data is employed, simply refered to as Panel Data.\n",
    "\n",
    "Panel Data comprises of multiple time series entities/instances, where a single time series component looks like:\n",
    "\n",
    "<INSERT TIME-SERIES, Image-1>\n",
    "\n",
    "Hence, Panel Data can be visualized as follows:\n",
    "\n",
    "<INSERT PANEL-DATA, Image-2>\n",
    "\n",
    "As per the kind of response variable and goal of the task, we can define different tasks - all of them are synonymous to time-independent (often called as Cross-sectional) data:\n",
    "1. _Classification_: The response variable is a label (Good / bad, ratings between 0 and 5 - 0, 1, 2, 3, 4, 5)\n",
    "    <INSERT CLASSIFICATION-BOXES, Image-3>\n",
    "2. _Regression_: The response variable is continuous (floating point, integers)\n",
    "    <INSERT REGRESSION-PLOT FROM `utils.load_experiments(variables=\"pressure\"), Image-4`>\n",
    "3. _Clustering_: There are no response variables here, the goal of this task is to group entities that are \"similar\" to each other.\n",
    "    <INSERT CLUSTERING-PLOT, Image-5>\n",
    "4. _Forecasting_: Given historical data, predict the (near future) values by capturing temporal dependencies and patterns within each panel.\n",
    "    <TODO - Think of what image to add here, Image-6>\n",
    "5. _TODO: Add more obscure tasks (causal inference, survival analysis) or something more relevant to the talk - distances and kernel based_\n",
    "    <TODO - Think of what image to add here, Image-7>"
   ]
  },
  {
   "attachments": {},
   "cell_type": "markdown",
   "metadata": {},
   "source": [
    "## Table of Contents\n",
    "    -- TODO --"
   ]
  },
  {
   "attachments": {},
   "cell_type": "markdown",
   "metadata": {},
   "source": [
    "## 2.1 Data Formats and its Types\n",
    "   Before diving into the exciting world of experimenting with different estimators available in `sktime` for a variety of time series tasks, it is important to grasp how `sktime` handles the diverse range of data representations in the realm of time series analysis.\n",
    "\n",
    "   The following section contains information on data types and loaders with moderate depth - to help you get started. Visit [In-memory data representations and data loading](https://www.sktime.net/en/latest/examples/AA_datatypes_and_datasets.html#In-memory-data-representations-and-data-loading) tutorial to get a comprehensive understanding of them."
   ]
  },
  {
   "attachments": {},
   "cell_type": "markdown",
   "metadata": {},
   "source": [
    "### 2.1.1 `scitype` vs `mtype` in `sktime`\n",
    "    \n",
    "- **_scitype_** is short for Data Scientific Data Type and is defined by relational and statistical properties of the data being represented and common operations that can be applied to it. Think of scitype an abstract object, free from machine-specific implementations. For instance, there's a scitype for time series data, another for Panel data and so on.\n",
    "\n",
    "- **_mtype_** is short for Machine Implementation Type which, for a defined scitype, specifies an exact python type and structure of representation. For instance, concrete time series is represented by a concrete `pandas.DataFrame` in `sktime`.\n",
    "\n",
    "scitypes and mtypes are encoded by strings in `sktime`, and each estimator has `SUPPORTED_MTYPES` that is used as a tag to search and filter estimators - more on that later.\n",
    "\n",
    "<INSERT SCITYPE-MYTYPE EXEMPLAR, Image-8>"
   ]
  },
  {
   "attachments": {},
   "cell_type": "markdown",
   "metadata": {},
   "source": [
    "### 2.1.2 Different `scitype` present in `sktime` and their utility\n",
    "\n",
    "1. `\"Series\"`: Representing Time Series Data\n",
    "    - Single-Level Index represenations in Dataframe, 2D representation in numpy.\n",
    "    - Can represent uni or multivariate data **&ast;**\n",
    "    - Can represent (un)equally spaced data **ast;**\n",
    "    - Example: Classifying state of a quantum system over time-dependent evolution.\n",
    "\n",
    "2. `\"Panel\"`: Representing Panel Data\n",
    "    - Two-Level Index representations in Dataframe, 3D representation in numpy.\n",
    "    - Can represent uni or multivariate data **&ast;**\n",
    "    - Can represent (un)equally spaced data **&ast;**\n",
    "    - Example: Prediction of Power Output of Solar Energy systems.\n",
    "\n",
    "3. `\"Hierarchical\"`: Representing Data that has pre-defined Hierarchy\n",
    "    - Multi-Level Index representations in Dataframe\n",
    "    - Non-Time outer indices represent higher hierarchy\n",
    "    - Example: C "
   ]
  },
  {
   "cell_type": "code",
   "execution_count": null,
   "metadata": {},
   "outputs": [],
   "source": [
    "# TODO: Show basic examples of each scitype followed by a practical example"
   ]
  },
  {
   "attachments": {},
   "cell_type": "markdown",
   "metadata": {},
   "source": [
    "### 2.1.3 Brief overview to `\"Series\"` `scitype`\n",
    "    -- TODO --"
   ]
  },
  {
   "attachments": {},
   "cell_type": "markdown",
   "metadata": {},
   "source": [
    "### 2.1.4 Introduction to `\"Panel\"` `scitype`\n",
    "    -- TODO --"
   ]
  },
  {
   "cell_type": "code",
   "execution_count": null,
   "metadata": {},
   "outputs": [],
   "source": [
    "# TODO: Show practical examples of all major `mtype` and basic examples of minor ones"
   ]
  },
  {
   "attachments": {},
   "cell_type": "markdown",
   "metadata": {},
   "source": [
    "### 2.1.5 Data Loaders for Panel Data\n",
    "    -- TODO --"
   ]
  },
  {
   "cell_type": "code",
   "execution_count": null,
   "metadata": {},
   "outputs": [],
   "source": [
    "# TODO-1: Load toy-dataset from sktime\n",
    "# TODO-2: Load dataset from an external repo "
   ]
  },
  {
   "attachments": {},
   "cell_type": "markdown",
   "metadata": {},
   "source": [
    "## 2.2 Classification Tasks\n",
    "\n",
    "    -- TODO: A simple, motivating problem --"
   ]
  },
  {
   "cell_type": "code",
   "execution_count": null,
   "metadata": {},
   "outputs": [],
   "source": [
    "# TODO: Load the dataset and split"
   ]
  },
  {
   "attachments": {},
   "cell_type": "markdown",
   "metadata": {},
   "source": [
    "### 2.2.1 --TODO: Decide Topic Name--: A small list of famous & simple estimators to 'solve' this problem"
   ]
  },
  {
   "cell_type": "code",
   "execution_count": null,
   "metadata": {},
   "outputs": [],
   "source": [
    "# TODO-1: Estimator-1\n",
    "# TODO-2: Estimator-2\n",
    "# TODO-3: Estimator-3"
   ]
  },
  {
   "attachments": {},
   "cell_type": "markdown",
   "metadata": {},
   "source": [
    "### 2.2.2 Evaluation Metrics for Time Series Classification"
   ]
  },
  {
   "cell_type": "code",
   "execution_count": null,
   "metadata": {},
   "outputs": [],
   "source": [
    "# TODO: `scikit-learn` compatibility showcase for evaluation, provide in-house evaluation functions too"
   ]
  },
  {
   "attachments": {},
   "cell_type": "markdown",
   "metadata": {},
   "source": [
    "## 2.3 Regression Tasks\n",
    "    -- TODO: A simple, motivating problem, relevant to the first one --"
   ]
  },
  {
   "cell_type": "code",
   "execution_count": null,
   "metadata": {},
   "outputs": [],
   "source": [
    "# TODO: Load the dataset and split"
   ]
  },
  {
   "attachments": {},
   "cell_type": "markdown",
   "metadata": {},
   "source": [
    "### 2.3.1 -- TODO: Decide Topic Name --: A small list of famous & simple estimators to 'solve' this problem"
   ]
  },
  {
   "cell_type": "code",
   "execution_count": null,
   "metadata": {},
   "outputs": [],
   "source": [
    "# TODO-1: Estimator-1\n",
    "# TODO-2: Estimator-2\n",
    "# TODO-3: Estimator-3"
   ]
  },
  {
   "attachments": {},
   "cell_type": "markdown",
   "metadata": {},
   "source": [
    "### 2.3.2 Evaluation Metrics for Time Series Regression"
   ]
  },
  {
   "cell_type": "code",
   "execution_count": null,
   "metadata": {},
   "outputs": [],
   "source": [
    "# TODO: `scikit-learn` compatibility showcase for evaluation, provide in-house evaluation functions too"
   ]
  },
  {
   "attachments": {},
   "cell_type": "markdown",
   "metadata": {},
   "source": [
    "## 2.4 Clustering Tasks\n",
    "    -- TODO: A simple, motivating problem, relevant to both problems --"
   ]
  },
  {
   "cell_type": "code",
   "execution_count": null,
   "metadata": {},
   "outputs": [],
   "source": [
    "# TODO: Load the dataset and split"
   ]
  },
  {
   "attachments": {},
   "cell_type": "markdown",
   "metadata": {},
   "source": [
    "### 2.4.1 -- TODO: Decide Topic Name --: A small list of famous & simple estimators to 'solve' this problem"
   ]
  },
  {
   "cell_type": "code",
   "execution_count": null,
   "metadata": {},
   "outputs": [],
   "source": [
    "# TODO-1: Estimator-1\n",
    "# TODO-2: Estimator-2\n",
    "# TODO-3: Estimator-3"
   ]
  },
  {
   "attachments": {},
   "cell_type": "markdown",
   "metadata": {},
   "source": [
    "### 2.4.2 Evaluation Metrics for Time Series Clustering"
   ]
  },
  {
   "cell_type": "code",
   "execution_count": null,
   "metadata": {},
   "outputs": [],
   "source": [
    "# TODO: `scikit-learn` compatibility showcase for evaluation, provide in-house evaluation functions too"
   ]
  },
  {
   "attachments": {},
   "cell_type": "markdown",
   "metadata": {},
   "source": [
    "## 2.5 Introduction to Pipelines in `sktime`\n",
    "    -- TODO: Decide subtopic distribution --"
   ]
  },
  {
   "attachments": {},
   "cell_type": "markdown",
   "metadata": {},
   "source": [
    "## 2.6 Advanced Topics\n",
    "    -- TODO : Choose 2 or 3 of the following\n",
    "        - DL estimators\n",
    "        - Extending both classical and DL estimators for different tasks\n",
    "        - Combining pipelines with DL estimators\n",
    "        - GridSearch Pipelines\n",
    "        - Reduction Pipelines-"
   ]
  }
 ],
 "metadata": {
  "language_info": {
   "name": "python"
  },
  "orig_nbformat": 4
 },
 "nbformat": 4,
 "nbformat_minor": 2
}
