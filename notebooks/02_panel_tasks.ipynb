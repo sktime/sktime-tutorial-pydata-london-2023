{
 "cells": [
  {
   "attachments": {},
   "cell_type": "markdown",
   "metadata": {},
   "source": [
    "### Overview of this notebook\n",
    "\n",
    "This notebook:\n",
    "\n",
    "* introduction to time series classification, regression, clustering\n",
    "* `sktime` data format fo \"time series panels\" = collections of time series\n",
    "* basic vignettes for TSC, TSR, TScl\n",
    "* advanced vignettes - pipelines, ensembles, tuning\n",
    "* appendix: data loading\n",
    "* appendix: implementing third party estimators for TSC, TSR, TScl"
   ]
  },
  {
   "attachments": {},
   "cell_type": "markdown",
   "metadata": {},
   "source": [
    "# 2. Learning tasks - Classification, Regression, Clustering & more\n",
    "\n",
    "#### What are Panel tasks?\n",
    "\n",
    "Panel tasks refers to a type of learning problem where a Panel of data is employed, simply refered to as Panel Data.\n",
    "\n",
    "Panel Data comprises of multiple time series entities/instances, where a single time series component looks like:\n",
    "\n",
    "<INSERT TIME-SERIES, Image-1>\n",
    "\n",
    "Hence, Panel Data can be visualized as follows:\n",
    "\n",
    "<INSERT PANEL-DATA, Image-2>\n",
    "\n",
    "As per the kind of response variable and goal of the task, we can define different tasks - all of them are synonymous to time-independent (often called as Cross-sectional) data:\n",
    "1. _Classification_: The response variable is a label (Good / bad, ratings between 0 and 5 - 0, 1, 2, 3, 4, 5)\n",
    "    <INSERT CLASSIFICATION-BOXES, Image-3>\n",
    "2. _Regression_: The response variable is continuous (floating point, integers)\n",
    "    <INSERT REGRESSION-PLOT FROM `utils.load_experiments(variables=\"pressure\"), Image-4`>\n",
    "3. _Clustering_: There are no response variables here, the goal of this task is to group entities that are \"similar\" to each other.\n",
    "    <INSERT CLUSTERING-PLOT, Image-5>\n",
    "4. _Forecasting_: Given historical data, predict the (near future) values by capturing temporal dependencies and patterns within each panel.\n",
    "    <TODO - Think of what image to add here, Image-6>\n",
    "5. _TODO: Add more obscure tasks (causal inference, survival analysis) or something more relevant to the talk - distances and kernel based_\n",
    "    <TODO - Think of what image to add here, Image-7>"
   ]
  },
  {
   "attachments": {},
   "cell_type": "markdown",
   "metadata": {},
   "source": [
    "## 2.1 Panel data - `sktime` data formats\n",
    "\n",
    "Preferred format 1: `pd.DataFrame` with 2-level `MultiIndex`, (instance, time), cols= variables\n",
    "\n",
    "Preferred format 2: 3D `np.ndarray` with index (instance, variable, time)\n",
    "\n",
    "* `sktime` supports and recognizes multiple data formats for convenience and internal use, e.g., `dask`, `xarray`\n",
    "* abstract data type = \"scitype\"; in-memory specification = \"mtype\"\n",
    "* More information in tutorial on [in-memory data representations and data loading](https://www.sktime.net/en/latest/examples/AA_datatypes_and_datasets.html#In-memory-data-representations-and-data-loading)"
   ]
  },
  {
   "attachments": {},
   "cell_type": "markdown",
   "metadata": {},
   "source": [
    "### 2.1.1 preferred format 1 - `pd-multiindex` specification"
   ]
  },
  {
   "attachments": {},
   "cell_type": "markdown",
   "metadata": {},
   "source": [
    "`pd-multiindex` = `pd.DataFrame` with 2-level `MultiIndex`, (instance, time), cols= variables"
   ]
  },
  {
   "cell_type": "code",
   "execution_count": 1,
   "metadata": {},
   "outputs": [],
   "source": [
    "from sktime.datasets import load_osuleaf\n",
    "\n",
    "# load an example time series panel in pd-multiindex mtype\n",
    "X, _ = load_osuleaf(return_type=\"pd-multiindex\")"
   ]
  },
  {
   "attachments": {},
   "cell_type": "markdown",
   "metadata": {},
   "source": [
    "The osuleaf dataset has:\n",
    "\n",
    "* 412 individual time series instances\n",
    "* one single variable, `dim_0`\n",
    "* individual time series are observed at around 417 time points"
   ]
  },
  {
   "cell_type": "code",
   "execution_count": 2,
   "metadata": {},
   "outputs": [
    {
     "data": {
      "text/html": [
       "<div>\n",
       "<style scoped>\n",
       "    .dataframe tbody tr th:only-of-type {\n",
       "        vertical-align: middle;\n",
       "    }\n",
       "\n",
       "    .dataframe tbody tr th {\n",
       "        vertical-align: top;\n",
       "    }\n",
       "\n",
       "    .dataframe thead th {\n",
       "        text-align: right;\n",
       "    }\n",
       "</style>\n",
       "<table border=\"1\" class=\"dataframe\">\n",
       "  <thead>\n",
       "    <tr style=\"text-align: right;\">\n",
       "      <th></th>\n",
       "      <th></th>\n",
       "      <th>dim_0</th>\n",
       "    </tr>\n",
       "    <tr>\n",
       "      <th></th>\n",
       "      <th>timepoints</th>\n",
       "      <th></th>\n",
       "    </tr>\n",
       "  </thead>\n",
       "  <tbody>\n",
       "    <tr>\n",
       "      <th rowspan=\"5\" valign=\"top\">0</th>\n",
       "      <th>0</th>\n",
       "      <td>0.550671</td>\n",
       "    </tr>\n",
       "    <tr>\n",
       "      <th>1</th>\n",
       "      <td>0.464716</td>\n",
       "    </tr>\n",
       "    <tr>\n",
       "      <th>2</th>\n",
       "      <td>0.375261</td>\n",
       "    </tr>\n",
       "    <tr>\n",
       "      <th>3</th>\n",
       "      <td>0.293060</td>\n",
       "    </tr>\n",
       "    <tr>\n",
       "      <th>4</th>\n",
       "      <td>0.206427</td>\n",
       "    </tr>\n",
       "    <tr>\n",
       "      <th>...</th>\n",
       "      <th>...</th>\n",
       "      <td>...</td>\n",
       "    </tr>\n",
       "    <tr>\n",
       "      <th rowspan=\"5\" valign=\"top\">441</th>\n",
       "      <th>422</th>\n",
       "      <td>1.761683</td>\n",
       "    </tr>\n",
       "    <tr>\n",
       "      <th>423</th>\n",
       "      <td>1.838726</td>\n",
       "    </tr>\n",
       "    <tr>\n",
       "      <th>424</th>\n",
       "      <td>1.927078</td>\n",
       "    </tr>\n",
       "    <tr>\n",
       "      <th>425</th>\n",
       "      <td>2.004444</td>\n",
       "    </tr>\n",
       "    <tr>\n",
       "      <th>426</th>\n",
       "      <td>2.067112</td>\n",
       "    </tr>\n",
       "  </tbody>\n",
       "</table>\n",
       "<p>188734 rows × 1 columns</p>\n",
       "</div>"
      ],
      "text/plain": [
       "                   dim_0\n",
       "    timepoints          \n",
       "0   0           0.550671\n",
       "    1           0.464716\n",
       "    2           0.375261\n",
       "    3           0.293060\n",
       "    4           0.206427\n",
       "...                  ...\n",
       "441 422         1.761683\n",
       "    423         1.838726\n",
       "    424         1.927078\n",
       "    425         2.004444\n",
       "    426         2.067112\n",
       "\n",
       "[188734 rows x 1 columns]"
      ]
     },
     "execution_count": 2,
     "metadata": {},
     "output_type": "execute_result"
    }
   ],
   "source": [
    "X"
   ]
  },
  {
   "attachments": {},
   "cell_type": "markdown",
   "metadata": {},
   "source": [
    "### 2.1.2 preferred format 2 - `numpy3D` specification"
   ]
  },
  {
   "attachments": {},
   "cell_type": "markdown",
   "metadata": {},
   "source": [
    "`numpy3D` = 3D `np.ndarray` with index (instance, variable, time)\n",
    "\n",
    "instance/time index is interpreted as integer\n",
    "\n",
    "IMPORTANT: unlike `pd-multiindex`, this assumes:\n",
    "\n",
    "* all individual series have the same length\n",
    "* all individual series have the same index"
   ]
  },
  {
   "cell_type": "code",
   "execution_count": 11,
   "metadata": {},
   "outputs": [],
   "source": [
    "from sktime.datasets import load_osuleaf\n",
    "\n",
    "# load an example time series panel in pd-multiindex mtype\n",
    "X, _ = load_osuleaf(return_type=\"numpy3D\")"
   ]
  },
  {
   "cell_type": "code",
   "execution_count": 12,
   "metadata": {},
   "outputs": [
    {
     "data": {
      "text/plain": [
       "(442, 1, 427)"
      ]
     },
     "execution_count": 12,
     "metadata": {},
     "output_type": "execute_result"
    }
   ],
   "source": [
    "X.shape"
   ]
  },
  {
   "attachments": {},
   "cell_type": "markdown",
   "metadata": {},
   "source": [
    "### 2.1.3 loading and validity checking"
   ]
  },
  {
   "attachments": {},
   "cell_type": "markdown",
   "metadata": {},
   "source": [
    "for custom data sets:\n",
    "\n",
    "1. use `pandas` `read_csv` or similar utilities to obtain a `pd.DataFrame` or `np.ndarray`\n",
    "2. try to bring the result in one of the preferred specifications\n",
    "3. use the `check_is_mtype` utility to check compliance - inspect informative error messages\n",
    "4. repeate 2-3 until the data format check passes"
   ]
  },
  {
   "cell_type": "code",
   "execution_count": 14,
   "metadata": {},
   "outputs": [],
   "source": [
    "# let's pretend we just loaded this from csv\n",
    "from sktime.datasets import load_osuleaf\n",
    "\n",
    "X_pd, _ = load_osuleaf(return_type=\"pd-multiindex\")"
   ]
  },
  {
   "attachments": {},
   "cell_type": "markdown",
   "metadata": {},
   "source": [
    "let's now check whether it complies with the `pd-multiindex` specification"
   ]
  },
  {
   "cell_type": "code",
   "execution_count": 17,
   "metadata": {},
   "outputs": [],
   "source": [
    "from sktime.datatypes import check_is_mtype\n",
    "\n",
    "valid, error_msg, metadata = check_is_mtype(X_pd, \"pd-multiindex\", return_metadata=True)"
   ]
  },
  {
   "cell_type": "code",
   "execution_count": 19,
   "metadata": {},
   "outputs": [
    {
     "data": {
      "text/plain": [
       "True"
      ]
     },
     "execution_count": 19,
     "metadata": {},
     "output_type": "execute_result"
    }
   ],
   "source": [
    "# is it valid?\n",
    "valid"
   ]
  },
  {
   "cell_type": "code",
   "execution_count": 20,
   "metadata": {},
   "outputs": [
    {
     "data": {
      "text/plain": [
       "{'is_univariate': True,\n",
       " 'is_empty': False,\n",
       " 'has_nans': False,\n",
       " 'n_instances': 442,\n",
       " 'is_one_series': False,\n",
       " 'is_equal_length': True,\n",
       " 'is_equally_spaced': True,\n",
       " 'n_panels': 1,\n",
       " 'is_one_panel': True,\n",
       " 'mtype': 'pd-multiindex',\n",
       " 'scitype': 'Panel'}"
      ]
     },
     "execution_count": 20,
     "metadata": {},
     "output_type": "execute_result"
    }
   ],
   "source": [
    "# helpful metadata, check if this is as per expectations\n",
    "metadata"
   ]
  },
  {
   "attachments": {},
   "cell_type": "markdown",
   "metadata": {},
   "source": [
    "let's see what happens if it is not in the expected format.\n",
    "\n",
    "We have a `pd.DataFrame`, so if we check against `numpy3D`, it should complain:"
   ]
  },
  {
   "cell_type": "code",
   "execution_count": 21,
   "metadata": {},
   "outputs": [],
   "source": [
    "valid, error_msg, metadata = check_is_mtype(X_pd, \"numpy3D\", return_metadata=True)"
   ]
  },
  {
   "cell_type": "code",
   "execution_count": 22,
   "metadata": {},
   "outputs": [
    {
     "data": {
      "text/plain": [
       "False"
      ]
     },
     "execution_count": 22,
     "metadata": {},
     "output_type": "execute_result"
    }
   ],
   "source": [
    "valid"
   ]
  },
  {
   "cell_type": "code",
   "execution_count": 23,
   "metadata": {},
   "outputs": [
    {
     "data": {
      "text/plain": [
       "\"obj must be a numpy.ndarray, found <class 'pandas.core.frame.DataFrame'>\""
      ]
     },
     "execution_count": 23,
     "metadata": {},
     "output_type": "execute_result"
    }
   ],
   "source": [
    "error_msg"
   ]
  },
  {
   "attachments": {},
   "cell_type": "markdown",
   "metadata": {},
   "source": [
    "This tells us that we should first convert into `np.ndarray` as expected."
   ]
  },
  {
   "attachments": {},
   "cell_type": "markdown",
   "metadata": {},
   "source": [
    "For further details on data formats, see the tutorial on [in-memory data representations and data loading](https://www.sktime.net/en/latest/examples/AA_datatypes_and_datasets.html#In-memory-data-representations-and-data-loading).\n",
    "\n",
    "This tutorial also contains full formal specifications of the mtypes (= machine representations).\n",
    "\n",
    "All supported in-memory representations are python inspectable in `sktime.datatypes.MTYPE_REGISTER`\n",
    "\n",
    "Note that this including \"exotic\", rarely used ones and representations of objects that aren't time series.\n"
   ]
  },
  {
   "attachments": {},
   "cell_type": "markdown",
   "metadata": {},
   "source": [
    "## 2.2 Classification Tasks\n",
    "\n",
    "    -- TODO: A simple, motivating problem --"
   ]
  },
  {
   "cell_type": "code",
   "execution_count": null,
   "metadata": {},
   "outputs": [],
   "source": [
    "# TODO: Load the dataset and split"
   ]
  },
  {
   "attachments": {},
   "cell_type": "markdown",
   "metadata": {},
   "source": [
    "### 2.2.1 --TODO: Decide Topic Name--: A small list of famous & simple estimators to 'solve' this problem"
   ]
  },
  {
   "cell_type": "code",
   "execution_count": null,
   "metadata": {},
   "outputs": [],
   "source": [
    "# TODO-1: Estimator-1\n",
    "# TODO-2: Estimator-2\n",
    "# TODO-3: Estimator-3"
   ]
  },
  {
   "attachments": {},
   "cell_type": "markdown",
   "metadata": {},
   "source": [
    "### 2.2.2 Evaluation Metrics for Time Series Classification"
   ]
  },
  {
   "cell_type": "code",
   "execution_count": null,
   "metadata": {},
   "outputs": [],
   "source": [
    "# TODO: `scikit-learn` compatibility showcase for evaluation, provide in-house evaluation functions too"
   ]
  },
  {
   "attachments": {},
   "cell_type": "markdown",
   "metadata": {},
   "source": [
    "## 2.3 Regression Tasks\n",
    "    -- TODO: A simple, motivating problem, relevant to the first one --"
   ]
  },
  {
   "cell_type": "code",
   "execution_count": null,
   "metadata": {},
   "outputs": [],
   "source": [
    "# TODO: Load the dataset and split"
   ]
  },
  {
   "attachments": {},
   "cell_type": "markdown",
   "metadata": {},
   "source": [
    "### 2.3.1 -- TODO: Decide Topic Name --: A small list of famous & simple estimators to 'solve' this problem"
   ]
  },
  {
   "cell_type": "code",
   "execution_count": null,
   "metadata": {},
   "outputs": [],
   "source": [
    "# TODO-1: Estimator-1\n",
    "# TODO-2: Estimator-2\n",
    "# TODO-3: Estimator-3"
   ]
  },
  {
   "attachments": {},
   "cell_type": "markdown",
   "metadata": {},
   "source": [
    "### 2.3.2 Evaluation Metrics for Time Series Regression"
   ]
  },
  {
   "cell_type": "code",
   "execution_count": null,
   "metadata": {},
   "outputs": [],
   "source": [
    "# TODO: `scikit-learn` compatibility showcase for evaluation, provide in-house evaluation functions too"
   ]
  },
  {
   "attachments": {},
   "cell_type": "markdown",
   "metadata": {},
   "source": [
    "## 2.4 Clustering Tasks\n",
    "    -- TODO: A simple, motivating problem, relevant to both problems --"
   ]
  },
  {
   "cell_type": "code",
   "execution_count": null,
   "metadata": {},
   "outputs": [],
   "source": [
    "# TODO: Load the dataset and split"
   ]
  },
  {
   "attachments": {},
   "cell_type": "markdown",
   "metadata": {},
   "source": [
    "### 2.4.1 -- TODO: Decide Topic Name --: A small list of famous & simple estimators to 'solve' this problem"
   ]
  },
  {
   "cell_type": "code",
   "execution_count": null,
   "metadata": {},
   "outputs": [],
   "source": [
    "# TODO-1: Estimator-1\n",
    "# TODO-2: Estimator-2\n",
    "# TODO-3: Estimator-3"
   ]
  },
  {
   "attachments": {},
   "cell_type": "markdown",
   "metadata": {},
   "source": [
    "### 2.4.2 Evaluation Metrics for Time Series Clustering"
   ]
  },
  {
   "cell_type": "code",
   "execution_count": null,
   "metadata": {},
   "outputs": [],
   "source": [
    "# TODO: `scikit-learn` compatibility showcase for evaluation, provide in-house evaluation functions too"
   ]
  },
  {
   "attachments": {},
   "cell_type": "markdown",
   "metadata": {},
   "source": [
    "## 2.5 Introduction to Pipelines in `sktime`\n",
    "    -- TODO: Decide subtopic distribution --"
   ]
  },
  {
   "attachments": {},
   "cell_type": "markdown",
   "metadata": {},
   "source": [
    "## 2.6 Advanced Topics\n",
    "    -- TODO : Choose 2 or 3 of the following\n",
    "        - DL estimators\n",
    "        - Extending both classical and DL estimators for different tasks\n",
    "        - Combining pipelines with DL estimators\n",
    "        - GridSearch Pipelines\n",
    "        - Reduction Pipelines-"
   ]
  }
 ],
 "metadata": {
  "kernelspec": {
   "display_name": "sktime-dl",
   "language": "python",
   "name": "python3"
  },
  "language_info": {
   "codemirror_mode": {
    "name": "ipython",
    "version": 3
   },
   "file_extension": ".py",
   "mimetype": "text/x-python",
   "name": "python",
   "nbconvert_exporter": "python",
   "pygments_lexer": "ipython3",
   "version": "3.10.11"
  },
  "orig_nbformat": 4
 },
 "nbformat": 4,
 "nbformat_minor": 2
}
