{
 "cells": [
  {
   "attachments": {},
   "cell_type": "markdown",
   "metadata": {},
   "source": [
    "### Overview of this notebook\n",
    "\n",
    "* motivating example with modular building blocks\n",
    "    * connecting distances, aligners, classifiers\n",
    "* pairwise transformers - the \"type\" of time series distances and kernels\n",
    "* time series alignment and alignment distances, e.g., time warping\n",
    "* composition patterns for distances, kernels, aligners\n",
    "* outlook, roadmap, opportunities"
   ]
  },
  {
   "cell_type": "code",
   "execution_count": null,
   "metadata": {},
   "outputs": [],
   "source": [
    "import warnings\n",
    "\n",
    "warnings.filterwarnings(\"ignore\")"
   ]
  },
  {
   "attachments": {},
   "cell_type": "markdown",
   "metadata": {},
   "source": [
    "## 3.1 Motivating example"
   ]
  },
  {
   "attachments": {},
   "cell_type": "markdown",
   "metadata": {},
   "source": [
    "Rich component relationships between object types!\n",
    "\n",
    "* many classifiers, regressors, clusterers use distances or kernels\n",
    "* distances and kernels are often composite, e.g., sum-of-distance, independent distance\n",
    "* TS distances are often based on scalar multivariate distances (e.g., Euclidean)\n",
    "* TS distances are often based on alignment, TS aligners are an estimator type!\n",
    "* aligners internally typically use scalar uni/multivariate distances"
   ]
  },
  {
   "attachments": {},
   "cell_type": "markdown",
   "metadata": {},
   "source": [
    "example:\n",
    "\n",
    "* 1-nn using `sklearn` nearest neighbors\n",
    "* with multivariate dynamic time warping distance, from `dtw-python` library \n",
    "* on multivariate `\"mahalanobis\"` distance from `scipy`\n",
    "* in `sktime` compatible interface, constructed from custom components"
   ]
  },
  {
   "attachments": {},
   "cell_type": "markdown",
   "metadata": {},
   "source": [
    "so, conceptually:\n",
    "\n",
    "* we build an sequence alignment algorithm (`dtw-python`) using `scipy` Mahalanobis dist\n",
    "* we get the distance matrix computation from alignment algorithm\n",
    "* we use that distance matrix in `sklearn` knn\n",
    "* together this is a time series classifier!"
   ]
  },
  {
   "cell_type": "code",
   "execution_count": null,
   "metadata": {},
   "outputs": [],
   "source": [
    "from sktime.alignment.dtw_python import AlignerDTWfromDist\n",
    "from sktime.classification.distance_based import KNeighborsTimeSeriesClassifier\n",
    "from sktime.dists_kernels.compose_from_align import DistFromAligner\n",
    "from sktime.dists_kernels.scipy_dist import ScipyDist\n",
    "\n",
    "# Mahalanobis distance on R^n\n",
    "mahalanobis_dist = ScipyDist(metric=\"mahalanobis\")  # uses scipy distances\n",
    "\n",
    "# pairwise multivariate aligner from dtw-python with Mahalanobis distance\n",
    "mw_aligner = AlignerDTWfromDist(mahalanobis_dist)  # uses dtw-python\n",
    "\n",
    "# turning this into alignment distance on time series\n",
    "dtw_dist = DistFromAligner(mw_aligner)  # interface mutation to distance\n",
    "\n",
    "# and using this distance in a k-nn classifier\n",
    "clf = KNeighborsTimeSeriesClassifier(distance=dtw_dist)  # uses sklearn knn"
   ]
  },
  {
   "cell_type": "code",
   "execution_count": null,
   "metadata": {},
   "outputs": [],
   "source": [
    "clf.get_params()"
   ]
  },
  {
   "attachments": {},
   "cell_type": "markdown",
   "metadata": {},
   "source": [
    "what are all the objects in this chain?\n",
    "\n",
    "* `ScipyDist` - pairwise distance between *scalars* - `transformer-pairwise` type\n",
    "* `AlignerDtwFromDist` - time series alignment algorithm - `aligner` type\n",
    "* `DistFromAligner`- pairwise distance between *time series* - `transformer-pairwise-panel` type\n",
    "* `KNeighborsTimeSeriesClassifier` - time series classifier"
   ]
  },
  {
   "cell_type": "code",
   "execution_count": null,
   "metadata": {},
   "outputs": [],
   "source": [
    "from sktime.registry import scitype\n",
    "\n",
    "scitype(mw_aligner)  # prints the type of estimator (as a string)\n",
    "# same for other components"
   ]
  },
  {
   "attachments": {},
   "cell_type": "markdown",
   "metadata": {},
   "source": [
    "let's go through these - we've already seen classifiers."
   ]
  },
  {
   "attachments": {},
   "cell_type": "markdown",
   "metadata": {},
   "source": [
    "## 3.2 Time series distances and kernels - pairwise panel transformers"
   ]
  },
  {
   "attachments": {},
   "cell_type": "markdown",
   "metadata": {},
   "source": [
    "### 3.2.1 Distances, kernels - general interface"
   ]
  },
  {
   "attachments": {},
   "cell_type": "markdown",
   "metadata": {},
   "source": [
    "pairwise panel transformers produce one distance per pair of series in the panel:"
   ]
  },
  {
   "cell_type": "code",
   "execution_count": null,
   "metadata": {},
   "outputs": [],
   "source": [
    "from sktime.datasets import load_osuleaf\n",
    "\n",
    "# load an example time series panel in numpy mtype\n",
    "X, _ = load_osuleaf(return_type=\"numpy3D\")\n",
    "\n",
    "X1 = X[:3]\n",
    "X2 = X[5:10]"
   ]
  },
  {
   "cell_type": "code",
   "execution_count": null,
   "metadata": {},
   "outputs": [],
   "source": [
    "# constructing the transformer\n",
    "from sktime.dists_kernels import AggrDist\n",
    "\n",
    "# mean of paired Euclidean distances, over time points\n",
    "mean_euc_dist = AggrDist.create_test_instance()"
   ]
  },
  {
   "cell_type": "code",
   "execution_count": null,
   "metadata": {},
   "outputs": [],
   "source": [
    "X1.shape"
   ]
  },
  {
   "cell_type": "code",
   "execution_count": null,
   "metadata": {},
   "outputs": [],
   "source": [
    "X2.shape"
   ]
  },
  {
   "attachments": {},
   "cell_type": "markdown",
   "metadata": {},
   "source": [
    "X1 is panel with 3 series\n",
    "X2 is panel with 5 series\n",
    "\n",
    "so a matrix of pairwise distances from X1 to X2 should have shape (3, 5)"
   ]
  },
  {
   "cell_type": "code",
   "execution_count": null,
   "metadata": {},
   "outputs": [],
   "source": [
    "distmat = mean_euc_dist(X1, X2)\n",
    "\n",
    "# alternatively, via the transform method\n",
    "distmat = mean_euc_dist.transform(X1, X2)\n",
    "distmat"
   ]
  },
  {
   "cell_type": "code",
   "execution_count": null,
   "metadata": {},
   "outputs": [],
   "source": [
    "distmat.shape"
   ]
  },
  {
   "attachments": {},
   "cell_type": "markdown",
   "metadata": {},
   "source": [
    "call or `transform` with a single arg is the same as passing twice:"
   ]
  },
  {
   "cell_type": "code",
   "execution_count": null,
   "metadata": {},
   "outputs": [],
   "source": [
    "distmat_symm = mean_euc_dist.transform(X1)\n",
    "distmat_symm"
   ]
  },
  {
   "attachments": {},
   "cell_type": "markdown",
   "metadata": {},
   "source": [
    "pairwise panel transformers are `scikit-learn` / `scikit-base` interface compatible like everything else:"
   ]
  },
  {
   "cell_type": "code",
   "execution_count": null,
   "metadata": {},
   "outputs": [],
   "source": [
    "mean_euc_dist.get_params()"
   ]
  },
  {
   "attachments": {},
   "cell_type": "markdown",
   "metadata": {},
   "source": [
    "Pairwise transformers are composable, and use the familiar `get_params` interface, just like any other `sktime` object and `scikit-learn` estimator:"
   ]
  },
  {
   "cell_type": "code",
   "execution_count": null,
   "metadata": {},
   "outputs": [],
   "source": [
    "mean_euc_dist.get_params()"
   ]
  },
  {
   "attachments": {},
   "cell_type": "markdown",
   "metadata": {},
   "source": [
    "### 3.2.2 Time series distances, kernels - composition"
   ]
  },
  {
   "attachments": {},
   "cell_type": "markdown",
   "metadata": {},
   "source": [
    "pairwise transformers can be composed in a number of ways:\n",
    "\n",
    "* arithmetics, e.g., addition, multiplication - use dunder `+`, `*` etc, or `CombinedDistance`\n",
    "* subset to one or multiple columns - use `my_dist[colnames]` dunder\n",
    "* sum or aggregate over univariate distance in multivariate panel, using `IndepDist` (also known as \"independent distance\")\n",
    "* compose with series-to-series transformers - use `*` dunder or `make_pipeline`"
   ]
  },
  {
   "cell_type": "code",
   "execution_count": null,
   "metadata": {},
   "outputs": [],
   "source": [
    "from sktime.datasets import load_basic_motions\n",
    "\n",
    "# load an example time series panel in numpy mtype\n",
    "X, _ = load_basic_motions(return_type=\"numpy3D\")\n",
    "X = X[:3]\n",
    "X.shape"
   ]
  },
  {
   "cell_type": "code",
   "execution_count": null,
   "metadata": {},
   "outputs": [],
   "source": [
    "# example 1: variable subsetting and arithmetic combinations\n",
    "\n",
    "# first, mean euclidean distance as before\n",
    "from sktime.dists_kernels import AggrDist\n",
    "\n",
    "mean_euc_dist = AggrDist.create_test_instance()\n",
    "\n",
    "# product of the distances on variables 2 and 5\n",
    "prod_med_25 = mean_euc_dist[2] * mean_euc_dist[5]\n",
    "prod_med_25"
   ]
  },
  {
   "cell_type": "code",
   "execution_count": null,
   "metadata": {},
   "outputs": [],
   "source": [
    "prod_med_25(X)"
   ]
  },
  {
   "cell_type": "code",
   "execution_count": null,
   "metadata": {},
   "outputs": [],
   "source": [
    "# example 2: independent dynamic time warping distance\n",
    "from sktime.alignment.dtw_python import AlignerDTW\n",
    "from sktime.dists_kernels.compose_from_align import DistFromAligner\n",
    "from sktime.dists_kernels.indep import IndepDist\n",
    "\n",
    "# dynamic time warping distance - this is multivariate\n",
    "dtw_dist = DistFromAligner(AlignerDTW())\n",
    "\n",
    "# independent distance - by default IndepDist sums over univariate distances\n",
    "indep_dtw_dist = IndepDist(dtw_dist)"
   ]
  },
  {
   "cell_type": "code",
   "execution_count": null,
   "metadata": {},
   "outputs": [],
   "source": [
    "indep_dtw_dist(X)"
   ]
  },
  {
   "cell_type": "code",
   "execution_count": null,
   "metadata": {},
   "outputs": [],
   "source": [
    "# example 3: dynamic time warping distance on first differences\n",
    "from sktime.transformations.series.difference import Differencer\n",
    "\n",
    "diff_dtw_distance = Differencer() * dtw_dist"
   ]
  },
  {
   "cell_type": "code",
   "execution_count": null,
   "metadata": {},
   "outputs": [],
   "source": [
    "diff_dtw_distance(X)"
   ]
  },
  {
   "attachments": {},
   "cell_type": "markdown",
   "metadata": {},
   "source": [
    "some combinations may be available as efficient `numba` based distances.\n",
    "\n",
    "E.g., difference-then-dtw is available as the \"fixed\" `sktime` native implementation\n",
    "`DtwDist(derivative=True)` in `sktime.dists_kernels.dtw`."
   ]
  },
  {
   "attachments": {},
   "cell_type": "markdown",
   "metadata": {},
   "source": [
    "### 3.3 pairwise tabular transformers"
   ]
  },
  {
   "attachments": {},
   "cell_type": "markdown",
   "metadata": {},
   "source": [
    "### 3.3.1 pairwise tabular transformers - general interface"
   ]
  },
  {
   "attachments": {},
   "cell_type": "markdown",
   "metadata": {},
   "source": [
    "pairwise tabular transformers transform pairs of ordinary tabular data, e.g., plain `pd.DataFrame`\n",
    "\n",
    "produce one distance per pair of rows"
   ]
  },
  {
   "cell_type": "code",
   "execution_count": null,
   "metadata": {},
   "outputs": [],
   "source": [
    "from sktime.datatypes import get_examples\n",
    "\n",
    "# we retrieve some DataFrame examples\n",
    "X_tabular = get_examples(\"pd.DataFrame\", \"Series\")[1]\n",
    "X2_tabular = get_examples(\"pd.DataFrame\", \"Series\")[1][0:3]"
   ]
  },
  {
   "cell_type": "code",
   "execution_count": null,
   "metadata": {},
   "outputs": [],
   "source": [
    "# just an ordinary DataFrame, no time series\n",
    "X_tabular"
   ]
  },
  {
   "cell_type": "code",
   "execution_count": null,
   "metadata": {},
   "outputs": [],
   "source": [
    "X2_tabular"
   ]
  },
  {
   "attachments": {},
   "cell_type": "markdown",
   "metadata": {},
   "source": [
    "example: pairwise Euclidean distance between rows"
   ]
  },
  {
   "cell_type": "code",
   "execution_count": null,
   "metadata": {},
   "outputs": [],
   "source": [
    "# constructing the transformer\n",
    "from sktime.dists_kernels import ScipyDist\n",
    "\n",
    "# mean of paired Euclidean distances\n",
    "my_tabular_dist = ScipyDist(metric=\"euclidean\")"
   ]
  },
  {
   "cell_type": "code",
   "execution_count": null,
   "metadata": {},
   "outputs": [],
   "source": [
    "# obtain matrix of distances between each pair of rows in X_tabular, X2_tabular\n",
    "my_tabular_dist(X_tabular, X2_tabular)"
   ]
  },
  {
   "attachments": {},
   "cell_type": "markdown",
   "metadata": {},
   "source": [
    "### 3.3.2 constructing pairwise time series transformers from tabular ones"
   ]
  },
  {
   "attachments": {},
   "cell_type": "markdown",
   "metadata": {},
   "source": [
    "\"simple\" time series distances can be obtained directly from tabular transformers:\n",
    "\n",
    "* aggregating the tabular distance matrix, from two individual time series - `AggrDist`\n",
    "* flattening the time series to tabular, and then computing the distance - `FlatDist`\n",
    "\n",
    "these are important \"baseline\" distances!\n",
    "\n",
    "Both can be used on `sktime` pairwise transformers and `sklearn` pairwise transformers.\n",
    "\n",
    "the classes are called \"dist\" but all apply to kernels."
   ]
  },
  {
   "cell_type": "code",
   "execution_count": null,
   "metadata": {},
   "outputs": [],
   "source": [
    "from sktime.datasets import load_basic_motions\n",
    "\n",
    "# load an example time series panel in numpy mtype\n",
    "X, _ = load_basic_motions(return_type=\"numpy3D\")\n",
    "X = X[:3]\n",
    "X.shape"
   ]
  },
  {
   "cell_type": "code",
   "execution_count": null,
   "metadata": {},
   "outputs": [],
   "source": [
    "# example 1: flat Gaussian RBF kernel between time series\n",
    "from sklearn.gaussian_process.kernels import RBF\n",
    "from sktime.dists_kernels import FlatDist\n",
    "\n",
    "flat_gaussian_tskernel = FlatDist(RBF(length_scale=10))\n",
    "flat_gaussian_tskernel.get_params()"
   ]
  },
  {
   "cell_type": "code",
   "execution_count": null,
   "metadata": {},
   "outputs": [],
   "source": [
    "flat_gaussian_tskernel(X)"
   ]
  },
  {
   "cell_type": "code",
   "execution_count": null,
   "metadata": {},
   "outputs": [],
   "source": [
    "# example 2: mean pairwise cosine distance - we've already seen AggrDist a couple times\n",
    "from sktime.dists_kernels import AggrDist, ScipyDist\n",
    "\n",
    "mean_cos_tsdist = AggrDist(ScipyDist(metric=\"cosine\"))\n",
    "mean_cos_tsdist.get_params()"
   ]
  },
  {
   "cell_type": "code",
   "execution_count": null,
   "metadata": {},
   "outputs": [],
   "source": [
    "mean_cos_tsdist(X)"
   ]
  },
  {
   "attachments": {},
   "cell_type": "markdown",
   "metadata": {},
   "source": [
    "## 3.4 Searching for pairwise transformers"
   ]
  },
  {
   "attachments": {},
   "cell_type": "markdown",
   "metadata": {},
   "source": [
    "As with all `sktime` objects, we can use the `registry.all_estimators` utility to display all transformers in `sktime`.\n",
    "\n",
    "The relevant scitypes are:\n",
    "* `\"transformer\"` for all transformers\n",
    "* `\"transformer-pairwise\"` for all pairwise transformers on tabular data\n",
    "* `\"transformer-panel\"` for all pairwise transformers on panel data"
   ]
  },
  {
   "cell_type": "code",
   "execution_count": null,
   "metadata": {},
   "outputs": [],
   "source": [
    "from sktime.registry import all_estimators"
   ]
  },
  {
   "cell_type": "code",
   "execution_count": null,
   "metadata": {},
   "outputs": [],
   "source": [
    "# listing all pairwise (tabular) transformers - distances, kernels on vectors/df-rows\n",
    "all_estimators(\"transformer-pairwise\", as_dataframe=True)"
   ]
  },
  {
   "cell_type": "code",
   "execution_count": null,
   "metadata": {},
   "outputs": [],
   "source": [
    "# listing all pairwise panel transformers - distances, kernels on time series\n",
    "all_estimators(\"transformer-pairwise-panel\", as_dataframe=True)"
   ]
  },
  {
   "attachments": {},
   "cell_type": "markdown",
   "metadata": {},
   "source": [
    "WIP FROM HERE"
   ]
  },
  {
   "attachments": {},
   "cell_type": "markdown",
   "metadata": {},
   "source": [
    "## 3.5 Outlook, roadmap"
   ]
  },
  {
   "attachments": {},
   "cell_type": "markdown",
   "metadata": {},
   "source": [
    "## 3.6 Summary"
   ]
  },
  {
   "attachments": {},
   "cell_type": "markdown",
   "metadata": {},
   "source": [
    "---\n",
    "\n",
    "### Credits: notebook 3 - distances, kernels, alignment\n",
    "\n",
    "notebook creation: "
   ]
  },
  {
   "attachments": {},
   "cell_type": "markdown",
   "metadata": {},
   "source": [
    "---\n",
    "\n",
    "## Join sktime!\n",
    "\n",
    "* openly governed - users, developers, early career data scientists\n",
    "* world-wide contributor and user footprint\n",
    "\n",
    "**EVERYONE CAN JOIN! EVERYONE CAN BECOME A COMMUNITY LEADER!**\n",
    "\n",
    "* join our discord (developers and community)!\n",
    "    * regular **community collaboration sessions** and stand-ups on Fridays\n",
    "    * next **onboarding session**: June 2023\n",
    "    * next **developer sprint**: July 2023\n",
    "\n",
    "Opportunities:\n",
    "\n",
    "* sktime **mentoring programme**: github.com/sktime/mentoring"
   ]
  }
 ],
 "metadata": {
  "hide_input": false,
  "kernelspec": {
   "display_name": "Python 3",
   "language": "python",
   "name": "python3"
  },
  "language_info": {
   "codemirror_mode": {
    "name": "ipython",
    "version": 3
   },
   "file_extension": ".py",
   "mimetype": "text/x-python",
   "name": "python",
   "nbconvert_exporter": "python",
   "pygments_lexer": "ipython3",
   "version": "3.10.11"
  },
  "latex_envs": {
   "LaTeX_envs_menu_present": true,
   "autoclose": false,
   "autocomplete": true,
   "bibliofile": "biblio.bib",
   "cite_by": "apalike",
   "current_citInitial": 1,
   "eqLabelWithNumbers": true,
   "eqNumInitial": 1,
   "hotkeys": {
    "equation": "Ctrl-E",
    "itemize": "Ctrl-I"
   },
   "labels_anchors": false,
   "latex_user_defs": false,
   "report_style_numbering": false,
   "user_envs_cfg": false
  },
  "toc": {
   "base_numbering": 1,
   "nav_menu": {},
   "number_sections": true,
   "sideBar": true,
   "skip_h1_title": false,
   "title_cell": "Table of Contents",
   "title_sidebar": "Contents",
   "toc_cell": false,
   "toc_position": {},
   "toc_section_display": true,
   "toc_window_display": false
  },
  "varInspector": {
   "cols": {
    "lenName": 16,
    "lenType": 16,
    "lenVar": 40
   },
   "kernels_config": {
    "python": {
     "delete_cmd_postfix": "",
     "delete_cmd_prefix": "del ",
     "library": "var_list.py",
     "varRefreshCmd": "print(var_dic_list())"
    },
    "r": {
     "delete_cmd_postfix": ") ",
     "delete_cmd_prefix": "rm(",
     "library": "var_list.r",
     "varRefreshCmd": "cat(var_dic_list()) "
    }
   },
   "types_to_exclude": [
    "module",
    "function",
    "builtin_function_or_method",
    "instance",
    "_Feature"
   ],
   "window_display": false
  },
  "vscode": {
   "interpreter": {
    "hash": "e61b44dca3bf47c8973c8cd627825697e2dad493e19dd6592afda0a0a3c312a0"
   }
  }
 },
 "nbformat": 4,
 "nbformat_minor": 4
}
