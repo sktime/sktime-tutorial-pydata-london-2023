{
 "cells": [
  {
   "attachments": {},
   "cell_type": "markdown",
   "metadata": {},
   "source": [
    "### Overview of this notebook\n",
    "\n",
    "* motivating example with modular building blocks\n",
    "    * connecting distances, aligners, classifiers\n",
    "* pairwise transformers - the \"type\" of time series distances and kernels\n",
    "* time series alignment and alignment distances, e.g., time warping\n",
    "* composition patterns for distances, kernels, aligners"
   ]
  },
  {
   "cell_type": "code",
   "execution_count": 3,
   "metadata": {},
   "outputs": [],
   "source": [
    "import warnings\n",
    "\n",
    "warnings.filterwarnings(\"ignore\")"
   ]
  },
  {
   "attachments": {},
   "cell_type": "markdown",
   "metadata": {},
   "source": [
    "## 3.1 Motivating example"
   ]
  },
  {
   "cell_type": "code",
   "execution_count": 4,
   "metadata": {},
   "outputs": [],
   "source": [
    "from sktime.alignment.dtw_python import AlignerDTWfromDist\n",
    "from sktime.classification.distance_based import KNeighborsTimeSeriesClassifier\n",
    "from sktime.dists_kernels.compose_from_align import DistFromAligner\n",
    "from sktime.dists_kernels.scipy_dist import ScipyDist\n",
    "\n",
    "# Mahalanobis distance on R^n\n",
    "mahalanobis_dist = ScipyDist(metric=\"mahalanobis\")  # uses scipy distances\n",
    "\n",
    "# pairwise multivariate aligner from dtw-python with Mahalanobis distance\n",
    "mw_aligner = AlignerDTWfromDist(mahalanobis_dist)  # uses dtw-python\n",
    "\n",
    "# turning this into alignment distance on time series\n",
    "dtw_dist = DistFromAligner(mw_aligner)  # interface mutation to distance\n",
    "\n",
    "# and using this distance in a k-nn classifier\n",
    "clf = KNeighborsTimeSeriesClassifier(distance=dtw_dist)  # uses sklearn knn"
   ]
  },
  {
   "cell_type": "code",
   "execution_count": 5,
   "metadata": {},
   "outputs": [
    {
     "data": {
      "text/plain": [
       "{'algorithm': 'brute',\n",
       " 'distance': DistFromAligner(aligner=AlignerDTWfromDist(dist_trafo=ScipyDist(metric='mahalanobis'))),\n",
       " 'distance_mtype': None,\n",
       " 'distance_params': None,\n",
       " 'leaf_size': 30,\n",
       " 'n_jobs': None,\n",
       " 'n_neighbors': 1,\n",
       " 'pass_train_distances': False,\n",
       " 'weights': 'uniform',\n",
       " 'distance__aligner': AlignerDTWfromDist(dist_trafo=ScipyDist(metric='mahalanobis')),\n",
       " 'distance__aligner__dist_trafo': ScipyDist(metric='mahalanobis'),\n",
       " 'distance__aligner__open_begin': False,\n",
       " 'distance__aligner__open_end': False,\n",
       " 'distance__aligner__step_pattern': 'symmetric2',\n",
       " 'distance__aligner__window_type': 'none',\n",
       " 'distance__aligner__dist_trafo__colalign': 'intersect',\n",
       " 'distance__aligner__dist_trafo__metric': 'mahalanobis',\n",
       " 'distance__aligner__dist_trafo__metric_kwargs': None,\n",
       " 'distance__aligner__dist_trafo__p': 2,\n",
       " 'distance__aligner__dist_trafo__var_weights': None}"
      ]
     },
     "execution_count": 5,
     "metadata": {},
     "output_type": "execute_result"
    }
   ],
   "source": [
    "clf.get_params()"
   ]
  },
  {
   "attachments": {},
   "cell_type": "markdown",
   "metadata": {},
   "source": [
    "### 3.4.3 General transformer signature - pairwise series transformers<a class=\"anchor\" id=\"section_3_4_3\"></a>"
   ]
  },
  {
   "attachments": {},
   "cell_type": "markdown",
   "metadata": {},
   "source": [
    "Pairwise series transformers model mathematical objects of signature `(Series, Series) -> float`, or, in mathematical notation, $$\\texttt{series} \\times\\texttt{series}\\rightarrow\\mathbb{R}$$\n",
    "Common examples are distances between series, or (positive definite) kernels on series.\n",
    "\n",
    "Pairwise transformers have a parametric constructor, like any other `sktime` object. The transformation is achieved by the method `transform`, or, equivalently, for brevity, by a call to the constructed object.\n",
    "\n",
    "The method `transform` always returns a 2D `numpy.ndarray`, and can be called in multiple ways:\n",
    "* with two `Series` arguments `X, X2`, in which case a 1 x 1 array is returned. Denote this function by `t(X, X2)`\n",
    "* with two `Panel` arguments `X`, `X2`, in which case an `m x n` array is returned, where `m` is the number of instances in `X` and `n` is the number of instances in `X2`. The `(i,j)`-th entry corresponds to `t(Xi, X2j)`, where `Xi` is ths `i`-th `Series` in the `Panel` `X`, and `X2j` is the `j`-th `Series` in the `Panel` `X2`.\n",
    "* with one `Series` and one `Panel` argument, in which case the `Series` is interpreted as a 1-element `Panel`, with return as above.\n",
    "* with one single argument, `Series` or `Panel`, in which case `X` and `X2` are assumed to be the same as the one argument, with behaviour as above.\n",
    "\n",
    "We show these in a few examples below."
   ]
  },
  {
   "cell_type": "code",
   "execution_count": null,
   "metadata": {},
   "outputs": [],
   "source": [
    "from sktime.datatypes import get_examples\n",
    "\n",
    "# unviariate series used in the examples\n",
    "X_series = get_examples(\"pd.Series\", \"Series\")[0]\n",
    "X2_series = get_examples(\"pd.Series\", \"Series\")[1]\n",
    "# panel used in the examples\n",
    "X_panel = get_examples(\"pd-multiindex\", \"Panel\")[0]"
   ]
  },
  {
   "attachments": {},
   "cell_type": "markdown",
   "metadata": {},
   "source": [
    "First, we construct the pairwise transformer with parameters. In this case, the pairwise transformer is a distance (the mean Euclidean distance):"
   ]
  },
  {
   "cell_type": "code",
   "execution_count": null,
   "metadata": {},
   "outputs": [],
   "source": [
    "# constructing the transformer\n",
    "from sktime.dists_kernels import AggrDist, ScipyDist\n",
    "\n",
    "# mean of paired Euclidean distances\n",
    "my_series_dist = AggrDist(ScipyDist(metric=\"euclidean\"))"
   ]
  },
  {
   "attachments": {},
   "cell_type": "markdown",
   "metadata": {},
   "source": [
    "We can then evaluate the distance by `transform` or direct call:"
   ]
  },
  {
   "cell_type": "code",
   "execution_count": null,
   "metadata": {},
   "outputs": [],
   "source": [
    "# evaluate the metric on two series, via transform\n",
    "my_series_dist.transform(X_series, X2_series)"
   ]
  },
  {
   "cell_type": "code",
   "execution_count": null,
   "metadata": {},
   "outputs": [],
   "source": [
    "# evaluate the metric on two series, by direct call - this is the same\n",
    "my_series_dist(X_series, X2_series)"
   ]
  },
  {
   "cell_type": "code",
   "execution_count": null,
   "metadata": {},
   "outputs": [],
   "source": [
    "# evaluate the metric on two identical panels of three series\n",
    "my_series_dist(X_panel, X_panel)"
   ]
  },
  {
   "cell_type": "code",
   "execution_count": null,
   "metadata": {},
   "outputs": [],
   "source": [
    "# this is the same as providing only one argument\n",
    "my_series_dist(X_panel)"
   ]
  },
  {
   "cell_type": "code",
   "execution_count": null,
   "metadata": {},
   "outputs": [],
   "source": [
    "# one series, one panel\n",
    "# we subset X_panel to univariate, since the distance in question\n",
    "#     cannot compare series with different number of variables\n",
    "my_series_dist(X_series, X_panel[[\"var_1\"]])"
   ]
  },
  {
   "attachments": {},
   "cell_type": "markdown",
   "metadata": {},
   "source": [
    "Pairwise transformers are composable, and use the familiar `get_params` interface, just like any other `sktime` object and `scikit-learn` estimator:"
   ]
  },
  {
   "cell_type": "code",
   "execution_count": null,
   "metadata": {},
   "outputs": [],
   "source": [
    "my_series_dist.get_params()"
   ]
  },
  {
   "attachments": {},
   "cell_type": "markdown",
   "metadata": {},
   "source": [
    "### 3.4.4 General transformer signature - pairwise transformers<a class=\"anchor\" id=\"section_3_4_4\"></a>"
   ]
  },
  {
   "attachments": {},
   "cell_type": "markdown",
   "metadata": {},
   "source": [
    "`sktime` also provides functionality for pairwise transformers on tabular data, i.e., mathematical objects of signature `(DataFrame-row, DataFrame-row) -> float`, or, in mathematical notation, $$\\mathbb{R}^n \\times\\mathbb{R}^n\\rightarrow\\mathbb{R}$$.\n",
    "Common examples are distances between series, or (positive definite) kernels on series.\n",
    "\n",
    "The behaviour is as for series transformers, evaluation is callable by `transform(X, X2)` or a direct call.\n",
    "\n",
    "Inputs to `transform` of a pairwise (tabular) transformer must always be `pandas.DataFrame`.\n",
    "The output is an `m x n` matrix, a 2D `np.ndarray`, with `m = len(X), n=len(X2)`. \n",
    "The `(i,j)`-th entry corresponds to `t(Xi, X2j)`, where `Xi` is ths `i`-th row of `X`, and `X2j` is the `j`-th row of `X2`.\n",
    "If `X2` is not passed, it defaults to `X`.\n",
    "\n",
    "Example:"
   ]
  },
  {
   "cell_type": "code",
   "execution_count": null,
   "metadata": {},
   "outputs": [],
   "source": [
    "from sktime.datatypes import get_examples\n",
    "\n",
    "# we retrieve some DataFrame examples\n",
    "X_tabular = get_examples(\"pd.DataFrame\", \"Series\")[1]\n",
    "X2_tabular = get_examples(\"pd.DataFrame\", \"Series\")[1][0:3]"
   ]
  },
  {
   "cell_type": "code",
   "execution_count": null,
   "metadata": {},
   "outputs": [],
   "source": [
    "# constructing the transformer\n",
    "from sktime.dists_kernels import ScipyDist\n",
    "\n",
    "# mean of paired Euclidean distances\n",
    "my_tabular_dist = ScipyDist(metric=\"euclidean\")"
   ]
  },
  {
   "cell_type": "code",
   "execution_count": null,
   "metadata": {},
   "outputs": [],
   "source": [
    "# obtain matrix of distances between each pair of rows in X_tabular, X2_tabular\n",
    "my_tabular_dist(X_tabular, X2_tabular)"
   ]
  },
  {
   "attachments": {},
   "cell_type": "markdown",
   "metadata": {},
   "source": [
    "### 3.4.5 Searching for transformers<a class=\"anchor\" id=\"section_3_4_5\"></a>"
   ]
  },
  {
   "attachments": {},
   "cell_type": "markdown",
   "metadata": {},
   "source": [
    "As with all `sktime` objects, we can use the `registry.all_estimators` utility to display all transformers in `sktime`.\n",
    "\n",
    "The relevant scitypes are:\n",
    "* `\"transformer\"` for all transformers (as in Section 2.2)\n",
    "* `\"transformer-pairwise\"` for all pairwise transformers on tabular data (as in Section 2.4)\n",
    "* `\"transformer-panel\"` for all pairwise transformers on panel data (as in Section 2.3)\n",
    "\n",
    "To filter transformers (`\"transformer\"` scitype) further by input and output, use tags, most importantly:\n",
    "* `\"scitype:transform-output\"` - the output scitype that the transform produces. `Series` for time series, `Primitives` for primitive features (float, categories).\n",
    "* `\"scitype:instancewise\"` - whether transform uses all samples or acts by instance. If `True`, this is simply a vectorized operation per series. If `False`, then fitting on a single series does not have the same result as fitting on multiple.\n",
    "\n",
    "These and further tags will be explained in more detail in Section 2."
   ]
  },
  {
   "cell_type": "code",
   "execution_count": null,
   "metadata": {},
   "outputs": [],
   "source": [
    "from sktime.registry import all_estimators"
   ]
  },
  {
   "cell_type": "code",
   "execution_count": null,
   "metadata": {},
   "outputs": [],
   "source": [
    "# listing all pairwise panel transformers - distances, kernels on time series\n",
    "all_estimators(\"transformer\", as_dataframe=True)"
   ]
  },
  {
   "cell_type": "code",
   "execution_count": null,
   "metadata": {},
   "outputs": [],
   "source": [
    "# now subset to transformers that extract scalar features\n",
    "all_estimators(\n",
    "    \"transformer\",\n",
    "    as_dataframe=True,\n",
    "    filter_tags={\"scitype:transform-output\": \"Primitives\"},\n",
    ")"
   ]
  },
  {
   "cell_type": "code",
   "execution_count": null,
   "metadata": {},
   "outputs": [],
   "source": [
    "# listing all pairwise (tabular) transformers - distances, kernels on vectors/df-rows\n",
    "all_estimators(\"transformer-pairwise\", as_dataframe=True)"
   ]
  },
  {
   "cell_type": "code",
   "execution_count": null,
   "metadata": {},
   "outputs": [],
   "source": [
    "# listing all pairwise panel transformers - distances, kernels on time series\n",
    "all_estimators(\"transformer-pairwise-panel\", as_dataframe=True)"
   ]
  },
  {
   "attachments": {},
   "cell_type": "markdown",
   "metadata": {},
   "source": [
    "## 3.6 Summary"
   ]
  },
  {
   "attachments": {},
   "cell_type": "markdown",
   "metadata": {},
   "source": [
    "---\n",
    "\n",
    "### Credits: notebook 3 - distances, kernels, alignment\n",
    "\n",
    "notebook creation: "
   ]
  },
  {
   "attachments": {},
   "cell_type": "markdown",
   "metadata": {},
   "source": [
    "---\n",
    "\n",
    "## Join sktime!\n",
    "\n",
    "* openly governed - users, developers, early career data scientists\n",
    "* world-wide contributor and user footprint\n",
    "\n",
    "**EVERYONE CAN JOIN! EVERYONE CAN BECOME A COMMUNITY LEADER!**\n",
    "\n",
    "* join our discord (developers and community)!\n",
    "    * regular **community collaboration sessions** and stand-ups on Fridays\n",
    "    * next **onboarding session**: June 2023\n",
    "    * next **developer sprint**: July 2023\n",
    "\n",
    "Opportunities:\n",
    "\n",
    "* sktime **mentoring programme**: github.com/sktime/mentoring"
   ]
  }
 ],
 "metadata": {
  "hide_input": false,
  "kernelspec": {
   "display_name": "Python 3",
   "language": "python",
   "name": "python3"
  },
  "language_info": {
   "codemirror_mode": {
    "name": "ipython",
    "version": 3
   },
   "file_extension": ".py",
   "mimetype": "text/x-python",
   "name": "python",
   "nbconvert_exporter": "python",
   "pygments_lexer": "ipython3",
   "version": "3.10.11"
  },
  "latex_envs": {
   "LaTeX_envs_menu_present": true,
   "autoclose": false,
   "autocomplete": true,
   "bibliofile": "biblio.bib",
   "cite_by": "apalike",
   "current_citInitial": 1,
   "eqLabelWithNumbers": true,
   "eqNumInitial": 1,
   "hotkeys": {
    "equation": "Ctrl-E",
    "itemize": "Ctrl-I"
   },
   "labels_anchors": false,
   "latex_user_defs": false,
   "report_style_numbering": false,
   "user_envs_cfg": false
  },
  "toc": {
   "base_numbering": 1,
   "nav_menu": {},
   "number_sections": true,
   "sideBar": true,
   "skip_h1_title": false,
   "title_cell": "Table of Contents",
   "title_sidebar": "Contents",
   "toc_cell": false,
   "toc_position": {},
   "toc_section_display": true,
   "toc_window_display": false
  },
  "varInspector": {
   "cols": {
    "lenName": 16,
    "lenType": 16,
    "lenVar": 40
   },
   "kernels_config": {
    "python": {
     "delete_cmd_postfix": "",
     "delete_cmd_prefix": "del ",
     "library": "var_list.py",
     "varRefreshCmd": "print(var_dic_list())"
    },
    "r": {
     "delete_cmd_postfix": ") ",
     "delete_cmd_prefix": "rm(",
     "library": "var_list.r",
     "varRefreshCmd": "cat(var_dic_list()) "
    }
   },
   "types_to_exclude": [
    "module",
    "function",
    "builtin_function_or_method",
    "instance",
    "_Feature"
   ],
   "window_display": false
  },
  "vscode": {
   "interpreter": {
    "hash": "e61b44dca3bf47c8973c8cd627825697e2dad493e19dd6592afda0a0a3c312a0"
   }
  }
 },
 "nbformat": 4,
 "nbformat_minor": 4
}
